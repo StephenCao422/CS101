{
 "cells": [
  {
   "cell_type": "markdown",
   "metadata": {},
   "source": [
    "#   `lab01`—Expressions, Data, & Formulae"
   ]
  },
  {
   "cell_type": "markdown",
   "metadata": {},
   "source": [
    "_Most labs consist of a series of exercises for you to complete in the following pattern:_\n",
    "\n",
    "- _Attempt to solve the exercise on your own._\n",
    "- _Work as a small group to make sure that everyone understands the solution._\n",
    "- _Discuss as a section any subtleties or conceptual difficulties about the solution._\n",
    "\n",
    "_Labs rely largely on material you've recently encountered in the lessons.  **You should read everything in the lab**:  I am too verbose, I admit, but I have tried to curb this tendency here._\n",
    "\n",
    "_Our learning objectives are derived from those in the lessons, and demonstrate the same principles in new ways and for new applications._"
   ]
  },
  {
   "cell_type": "markdown",
   "metadata": {},
   "source": [
    "**Objectives**\n",
    "\n",
    "- Access Python using a Jupyter notebook.\n",
    "- Compose expressions and statements using basic Python syntax, including defining variables.\n",
    "- Access parts of a data value, like a string, using indexing and slicing.\n",
    "- Use built-in functions and import functions from a module such as `math`.\n",
    "- Identify and understand the boolean data type, logical operations such as `and`, `or`, and `not`, and evaluation of compound logical expressions.\n",
    "- Use string methods to manipulate text."
   ]
  },
  {
   "cell_type": "markdown",
   "metadata": {},
   "source": [
    "### How to use a Jupyter notebook"
   ]
  },
  {
   "cell_type": "markdown",
   "metadata": {},
   "source": [
    "Our labs use a few standard conventions that you should be aware of:\n",
    "\n",
    "    # This is a nonexecutable code block.\n",
    "    # Things which are written here represent Python code (or pseudocode)\n",
    "    # but are not executable---\n",
    "    # see the executable code cells following for code that you can run in place.\n",
    "\n",
    "<div class=\"alert alert-warning\">\n",
    "    This is a <em>warning</em> block.  You should always carefully read this information since it may materially impact your ability to complete the lab exercises successfully, or your ability to use Python to solve problems.\n",
    "</div>\n",
    "\n",
    "<div class=\"alert alert-info\">\n",
    "    This is an <em>information</em> block.  You can safely ignore this information for completing your lab exercises, but may find it to be interesting and useful in your broader scholarship and career.\n",
    "</div>"
   ]
  },
  {
   "cell_type": "markdown",
   "metadata": {},
   "source": [
    "The following grey cell, in contrast, is an executable *code cell*.  Code cells require you to enter Python code (or just read what's already there), and then to execute the cell when you are ready to proceed with the lab.  To do so, select inside of the cell and press `Ctrl`+`Enter` or click the <code><i class=\"fa-step-forward fa\"></i> Run</code> button on the toolbar above.\n",
    "\n",
    "**Don't delete or write anything before the word `#grade` in a given cell.**  These are how we indicate to the autograder how to assess your answers."
   ]
  },
  {
   "cell_type": "code",
   "execution_count": 1,
   "metadata": {},
   "outputs": [
    {
     "data": {
      "text/plain": [
       "3"
      ]
     },
     "execution_count": 1,
     "metadata": {},
     "output_type": "execute_result"
    }
   ],
   "source": [
    "1 + 2"
   ]
  },
  {
   "cell_type": "markdown",
   "metadata": {},
   "source": [
    "Notice that two things happened:\n",
    "\n",
    "1. The `In []` gained a number—this is basically the number of inputs you have executed in the notebook.  The absolute number almost never matters, but the *order* often does.  You can execute cells out of order, so you have to be sure that if you change one thing later cells are in fact written with the updated value in mind.\n",
    "\n",
    "2. The cell returned a value to you as an output.  This may not always happen, but in the case of single-line expressions like mathematical formulae it often will.  If you need explicit output, you can use a `print` function:"
   ]
  },
  {
   "cell_type": "code",
   "execution_count": null,
   "metadata": {},
   "outputs": [],
   "source": [
    "print( 'Four times five equals', 4 * 5 )"
   ]
  },
  {
   "cell_type": "markdown",
   "metadata": {},
   "source": [
    "You can input multiple lines into a code cell and execute them as a block.  The following cell contains a very short program which counts down from ten and then prints a message."
   ]
  },
  {
   "cell_type": "code",
   "execution_count": null,
   "metadata": {},
   "outputs": [],
   "source": [
    "print( 10 )\n",
    "print( 9 )\n",
    "print( 8 )\n",
    "print( 7 )\n",
    "print( 6 )\n",
    "print( 5 )\n",
    "print( 4 )\n",
    "print( 3 )\n",
    "print( 2 )\n",
    "print( 1 )\n",
    "print('Blast off!')"
   ]
  },
  {
   "cell_type": "markdown",
   "metadata": {},
   "source": [
    "Try double-clicking on this text (**right here**).  When you do so, the cell changes to a grey editable field.  This may happen occasionally by accident (or on purpose), but to view the regular text like in the rest of this lab, select inside this cell and press Ctrl+Enter."
   ]
  },
  {
   "cell_type": "markdown",
   "metadata": {},
   "source": [
    "The next pair of cells is a different animal—these are graded cells, which means that the first cell of the pair will contain the code you need to write (the *answer*), and the second cell contains the *test* or tests which your code needs to pass in order to get points.\n",
    "\n",
    "Just go ahead and execute the answer cell to test it out.  The test cell will be given to you so that you can understand an assignment's expectations.  If you run a test cell, it will often fail unless you have already composed correct code, so don't worry about it until you are wrapping up an assignment.  (Test cells often contain the **`assert`** keyword.)"
   ]
  },
  {
   "cell_type": "code",
   "execution_count": null,
   "metadata": {
    "deletable": false
   },
   "outputs": [],
   "source": [
    "message = \"Let me never fall into the vulgar mistake of dreaming that I am persecuted whenever I am contradicted. (Ralph Waldo Emerson)\"\n",
    "print( message )"
   ]
  },
  {
   "cell_type": "code",
   "execution_count": 2,
   "metadata": {
    "deletable": false
   },
   "outputs": [
    {
     "name": "stdout",
     "output_type": "stream",
     "text": [
      "Successfully composed a string of the proper length!\n"
     ]
    }
   ],
   "source": [
    "# This is a test cell.  You should not modify its contents in any way.\n",
    "message = \"Let me never fall into the vulgar mistake of dreaming that I am persecuted whenever I am contradicted. (Ralph Waldo Emerson)\"\n",
    "lenMessage = len(message)\n",
    "assert len( message ) == 124\n",
    "print( 'Successfully composed a string of the proper length!' )"
   ]
  },
  {
   "cell_type": "markdown",
   "metadata": {},
   "source": [
    "### <span style=\"color:#345995\">Exercise 1:  Comments</span>\n",
    "\n",
    "The next pair of cells requires you to make a small change.  You need to *uncomment* a single line of code—in this case, that just means selecting inside of the cell and deleting the `#` at the beginning of the line.  This makes the answer cell satisfy the test below.\n",
    "\n",
    "Run both cells once to see what a failed test looks like.\n",
    "\n",
    "Then fix the first one by removing the comment marker `#` and run them both again."
   ]
  },
  {
   "cell_type": "code",
   "execution_count": 3,
   "metadata": {
    "deletable": false
   },
   "outputs": [],
   "source": [
    "#grade -- Don't uncomment this\n",
    "e = 2.71828\n",
    "exponent = 5\n",
    "value = e ** exponent\n",
    "value = value * 2\n",
    "#value = value * 2"
   ]
  },
  {
   "cell_type": "code",
   "execution_count": null,
   "metadata": {
    "deletable": false,
    "editable": false
   },
   "outputs": [],
   "source": [
    "# This is a test cell.  You should not modify its contents in any way.\n",
    "assert value == 2 * e ** exponent\n",
    "print( 'Successfully calculated the value!' )"
   ]
  },
  {
   "cell_type": "markdown",
   "metadata": {},
   "source": [
    "### How to write text"
   ]
  },
  {
   "cell_type": "markdown",
   "metadata": {},
   "source": [
    "Numbers are never enough—you use them to get the math right, but when it comes time to communicating the results to the outside world, you need text.  In programming terms, we refer to a block of text as a *string* (from a _string of characters_).  Some messages are hard-coded, like error messages; others will be generated as necessary by the program.\n",
    "\n",
    "Since we communicate with the Python intepreter using text commands, we also need a way to distinguish between instructions to the machine (code) and messages written as text (strings).  In other words, we need Python to distinguish between"
   ]
  },
  {
   "cell_type": "code",
   "execution_count": null,
   "metadata": {},
   "outputs": [],
   "source": [
    "print(hello world)"
   ]
  },
  {
   "cell_type": "markdown",
   "metadata": {},
   "source": [
    "and"
   ]
  },
  {
   "cell_type": "code",
   "execution_count": null,
   "metadata": {},
   "outputs": [],
   "source": [
    "print('hello world')"
   ]
  },
  {
   "cell_type": "markdown",
   "metadata": {},
   "source": [
    "The string holds the words within quotes as a single unit.  We typically write strings by surrounding our text in single quotes `''` or double quotes `\"\"`:"
   ]
  },
  {
   "cell_type": "code",
   "execution_count": null,
   "metadata": {},
   "outputs": [],
   "source": [
    "'All that glitters is not gold.'"
   ]
  },
  {
   "cell_type": "code",
   "execution_count": null,
   "metadata": {},
   "outputs": [],
   "source": [
    "'Who knows what evil lurks in the hearts of men?  The Shadow knows.'"
   ]
  },
  {
   "cell_type": "code",
   "execution_count": null,
   "metadata": {},
   "outputs": [],
   "source": [
    "'I'm sorry, Dave, I'm afraid I can't do that.'"
   ]
  },
  {
   "cell_type": "markdown",
   "metadata": {},
   "source": [
    "That last one has a problem, doesn't it? We wrote a string by marking the ends with single quotes ', but then used a single quote inside of the string.  This thoroughly confused Python, as you can see by the red and black text mixed.\n",
    "\n",
    "This is why Python lets you use either single or double quotes:"
   ]
  },
  {
   "cell_type": "code",
   "execution_count": 11,
   "metadata": {},
   "outputs": [
    {
     "data": {
      "text/plain": [
       "\"I'm afraid I can't do that.\""
      ]
     },
     "execution_count": 11,
     "metadata": {},
     "output_type": "execute_result"
    }
   ],
   "source": [
    "\"I'm afraid I can't do that.\""
   ]
  },
  {
   "cell_type": "code",
   "execution_count": 12,
   "metadata": {},
   "outputs": [
    {
     "data": {
      "text/plain": [
       "'They Call the Wind \"Maria\"'"
      ]
     },
     "execution_count": 12,
     "metadata": {},
     "output_type": "execute_result"
    }
   ],
   "source": [
    "'They Call the Wind \"Maria\"'"
   ]
  },
  {
   "cell_type": "markdown",
   "metadata": {},
   "source": [
    "Write the following phrases as Python strings.  (You can copy and paste the text itself into the string.)"
   ]
  },
  {
   "cell_type": "markdown",
   "metadata": {},
   "source": [
    "- George Orwell's novel 1984"
   ]
  },
  {
   "cell_type": "code",
   "execution_count": 9,
   "metadata": {
    "deletable": false
   },
   "outputs": [
    {
     "data": {
      "text/plain": [
       "\"George Orwell's novel 1984\""
      ]
     },
     "execution_count": 9,
     "metadata": {},
     "output_type": "execute_result"
    }
   ],
   "source": [
    "\"George Orwell's novel 1984\""
   ]
  },
  {
   "cell_type": "markdown",
   "metadata": {},
   "source": [
    "- This is a straight double quote, \", while these are curly double quotes: “, ”."
   ]
  },
  {
   "cell_type": "code",
   "execution_count": 8,
   "metadata": {
    "deletable": false
   },
   "outputs": [
    {
     "data": {
      "text/plain": [
       "'This is a straight double quote, \", while these are curly double quotes: “, ”.'"
      ]
     },
     "execution_count": 8,
     "metadata": {},
     "output_type": "execute_result"
    }
   ],
   "source": [
    "'''This is a straight double quote, \", while these are curly double quotes: “, ”.'''"
   ]
  },
  {
   "cell_type": "markdown",
   "metadata": {},
   "source": [
    "If things get really hairy, you can also use triple-quotes to mark a string:"
   ]
  },
  {
   "cell_type": "code",
   "execution_count": 10,
   "metadata": {},
   "outputs": [
    {
     "data": {
      "text/plain": [
       "'\"How fast is she ebbin\\'?  What\\'s the drift, eh?\"'"
      ]
     },
     "execution_count": 10,
     "metadata": {},
     "output_type": "execute_result"
    }
   ],
   "source": [
    "'''\"How fast is she ebbin'?  What's the drift, eh?\"'''"
   ]
  },
  {
   "cell_type": "markdown",
   "metadata": {},
   "source": [
    "<div class=\"alert alert-info\">\n",
    "Notice that the string returned by Python consists of 'single quotes' wrapping a sentence containing \"double quotes\", which then contain more 'single quotes'.  The inner single quotes have a backslash in front of them—this is called an <em>escape character</em>, which is a fancy way of saying that the backslash tells Python to treat the single quote as a quote mark rather than as marking the beginning or end of a string.\n",
    "</div>"
   ]
  },
  {
   "cell_type": "markdown",
   "metadata": {},
   "source": [
    "f-strings are formatted strings that allow you to insert the result of a calculation or variable directly into a string:"
   ]
  },
  {
   "cell_type": "code",
   "execution_count": 4,
   "metadata": {},
   "outputs": [
    {
     "data": {
      "text/plain": [
       "'In Roman numerals, 3 may be written iii.'"
      ]
     },
     "execution_count": 4,
     "metadata": {},
     "output_type": "execute_result"
    }
   ],
   "source": [
    "f'In Roman numerals, 3 may be written {\"i\"*3}.'"
   ]
  },
  {
   "cell_type": "code",
   "execution_count": 5,
   "metadata": {},
   "outputs": [
    {
     "data": {
      "text/plain": [
       "'Your change will be 3 dollars and 50 cents.'"
      ]
     },
     "execution_count": 5,
     "metadata": {},
     "output_type": "execute_result"
    }
   ],
   "source": [
    "f'Your change will be {int(3.50//1.0)} dollars and {int(3.50%1.0*100)} cents.'"
   ]
  },
  {
   "cell_type": "markdown",
   "metadata": {},
   "source": [
    "### <span style=\"color:#345995\">Exercise 2: Sine Rule</span>\n",
    "\n",
    "![](https://upload.wikimedia.org/wikipedia/commons/thumb/3/3d/Law_of_sines_in_plane_trigonometry-20201220.svg/231px-Law_of_sines_in_plane_trigonometry-20201220.svg.png)\n",
    "\n",
    "The sine rule states that the third side of a triangle has the length\n",
    "\n",
    "$$\n",
    "\\frac{\\ell_{\\text{A}}}{\\sin A}\n",
    "=\n",
    "\\frac{\\ell_{\\text{B}}}{\\sin B}\n",
    "=\n",
    "\\frac{\\ell_{\\text{C}}}{\\sin C}\n",
    "$$\n",
    "\n",
    "Create an f-string describing the result of the calculation as specified.\n",
    "\n",
    "```py\n",
    "'The side C of a triangle with angle A=?.??? and length=? is ?.??? for angle C=?.???.'\n",
    "```"
   ]
  },
  {
   "cell_type": "code",
   "execution_count": 18,
   "metadata": {},
   "outputs": [
    {
     "name": "stdout",
     "output_type": "stream",
     "text": [
      "The side C of a triangle with angle A=1.309 and length=3 is 3.106 for angle C=1.571.\n"
     ]
    }
   ],
   "source": [
    "#grade\n",
    "from math import sin, radians\n",
    "\n",
    "A = round(radians(75),3)  # convert degrees to radians, round\n",
    "l_A = 3\n",
    "C = round(radians(90),3)\n",
    "l_C = l_A / sin(A) * sin(C)\n",
    "l_C = round(l_C,3)\n",
    "\n",
    "my_answer = f'The side C of a triangle with angle A={A} and length={l_A} is {l_C} for angle C={C}.'\n",
    "print(my_answer)"
   ]
  },
  {
   "cell_type": "code",
   "execution_count": null,
   "metadata": {},
   "outputs": [],
   "source": [
    "# This is a test cell.  You should not modify its contents in any way.\n",
    "assert my_answer == 'The side C of a triangle with angle A=1.309 and length=3 is 3.106 for angle C=1.571.'\n",
    "print( 'Successfully calculated the value!' )"
   ]
  },
  {
   "cell_type": "markdown",
   "metadata": {},
   "source": [
    "<div class=\"alert alert-danger\">\n",
    "Check in with your team and TA to make sure everyone understands concepts up through this point.\n",
    "</div>"
   ]
  },
  {
   "cell_type": "markdown",
   "metadata": {},
   "source": [
    "### How to store a value for future use"
   ]
  },
  {
   "cell_type": "markdown",
   "metadata": {},
   "source": [
    "In physics and engineering, we often worked with labeled unknowns, called *variables*.  This lets us refer to physical or mathematical values without knowing the value ahead of time.  For instance, the ideal gas law represents the relationship between pressure $P$, temperature $T$, and volume $V$, written as\n",
    "\n",
    "$$\n",
    "PV \\propto T \\text{.}\n",
    "$$\n",
    "\n",
    "We can express the relationship between these physical quantities without referring to specific values.\n",
    "\n",
    "For a computer, variables work much the same way—you can use them to write expressions and formulas, and you can use them to store the results of past calculations.  You create a variable using the assignment operator `=` and reuse it using the same name in subsequent expressions:"
   ]
  },
  {
   "cell_type": "code",
   "execution_count": null,
   "metadata": {},
   "outputs": [],
   "source": [
    "x = 5"
   ]
  },
  {
   "cell_type": "code",
   "execution_count": null,
   "metadata": {},
   "outputs": [],
   "source": [
    "x"
   ]
  },
  {
   "cell_type": "code",
   "execution_count": null,
   "metadata": {},
   "outputs": [],
   "source": [
    "x**2"
   ]
  },
  {
   "cell_type": "code",
   "execution_count": null,
   "metadata": {},
   "outputs": [],
   "source": [
    "x%2"
   ]
  },
  {
   "cell_type": "code",
   "execution_count": null,
   "metadata": {},
   "outputs": [],
   "source": [
    "x**x"
   ]
  },
  {
   "cell_type": "code",
   "execution_count": null,
   "metadata": {},
   "outputs": [],
   "source": [
    "x/x"
   ]
  },
  {
   "cell_type": "markdown",
   "metadata": {},
   "source": [
    "You update the value of a variable by simply overwriting it:"
   ]
  },
  {
   "cell_type": "code",
   "execution_count": null,
   "metadata": {},
   "outputs": [],
   "source": [
    "x = 4.5"
   ]
  },
  {
   "cell_type": "code",
   "execution_count": null,
   "metadata": {},
   "outputs": [],
   "source": [
    "x"
   ]
  },
  {
   "cell_type": "code",
   "execution_count": null,
   "metadata": {},
   "outputs": [],
   "source": [
    "x**2"
   ]
  },
  {
   "cell_type": "markdown",
   "metadata": {},
   "source": [
    "In fact, you can even use a variable's *former* value to give it a *new* value:"
   ]
  },
  {
   "cell_type": "code",
   "execution_count": null,
   "metadata": {},
   "outputs": [],
   "source": [
    "x = 2*x"
   ]
  },
  {
   "cell_type": "markdown",
   "metadata": {},
   "source": [
    "If you missed it in the second Python lecture, stop and think about this for a moment, because it's very important.  If you were to write down the mathematical statement\n",
    "\n",
    "$$\n",
    "x\n",
    "=\n",
    "2x \\text{,}\n",
    "$$\n",
    "\n",
    "there is *no nontrival (nonzero) solution*—$x$ divides out of both sides and you are left with the mathematical absurdity $1=2$.  You should *not think* of the assignment operator as reading \"equals\".  That is, `x = 2x` should be read by you as \"`x` is made equal to the value of 2 times `x`\".\n",
    "\n",
    "<div class=\"alert alert-warning\">\n",
    "The <em>assignment</em> operator is a single equals sign, <code>=</code>, read \"is made equal to\".\n",
    "<br/>\n",
    "The <em>equality</em> operator is a double equals sign, <code>==</code>, read \"equals\".\n",
    "</div>"
   ]
  },
  {
   "cell_type": "markdown",
   "metadata": {},
   "source": [
    "As you saw in the reading, you can use much more involved variable names, which is a great idea if you don't want to lose track of what you're doing."
   ]
  },
  {
   "cell_type": "code",
   "execution_count": null,
   "metadata": {},
   "outputs": [],
   "source": [
    "trees_observed = 4\n",
    "max_torque = 5.0\n",
    "middleInitial = 'L'\n",
    "finalSum = 107\n",
    "way_to_Tipperary = 'east-north-east'\n",
    "greeting_msg = \"Call me Ishmael.\""
   ]
  },
  {
   "cell_type": "markdown",
   "metadata": {},
   "source": [
    "A few possible names do not, in fact, work.  The following should throw a `Syntax Error`.  We will examine error types later on."
   ]
  },
  {
   "cell_type": "code",
   "execution_count": null,
   "metadata": {},
   "outputs": [],
   "source": [
    "4th = 16.5"
   ]
  },
  {
   "cell_type": "code",
   "execution_count": null,
   "metadata": {},
   "outputs": [],
   "source": [
    "$ = 2"
   ]
  },
  {
   "cell_type": "markdown",
   "metadata": {},
   "source": [
    "<div class=\"alert alert-warning\">\n",
    "The error that occurs in both of these cases, `SyntaxError`, generally means that you've mistyped something or tried to express something impossible by the rules of Pythonic syntax. Basically, as long as you use only letters, numbers, and the underscore `_` in your variable names, you'll be fine.\n",
    "</div>"
   ]
  },
  {
   "cell_type": "markdown",
   "metadata": {},
   "source": [
    "### How variables make your life easier"
   ]
  },
  {
   "cell_type": "markdown",
   "metadata": {},
   "source": [
    "Imagine writing a long script which depends on the value of a heat flux operator with the value $7.9 \\,\\text{watts}\\cdot\\text{meter}^{-2}\\cdot\\text{kelvin}$.  You dutifully write the statements to calculate the heat transfer through the wall with a difference of $\\Delta T = 1.2 \\,\\text{kelvin}$ using the value `7.9`:"
   ]
  },
  {
   "cell_type": "code",
   "execution_count": null,
   "metadata": {},
   "outputs": [],
   "source": [
    "print(f\"The heat transfer is {7.9 * 1.2} W/m**2.\" )"
   ]
  },
  {
   "cell_type": "markdown",
   "metadata": {},
   "source": [
    "You may have already noticed the problem here—what happens when the problem changes slightly and you need to use a different heat flux operator value?  This is where variables shine:\n",
    "\n",
    "$$\n",
    "q = h \\Delta T\n",
    "$$\n",
    "\n",
    "If you set things up properly, you will only have to define a value for $h$ and $\\Delta T$ once, at the beginning of your script, and it will be the same throughout the program.  Otherwise, you might have had to search and replace every single instance—and hope you didn't miss one!"
   ]
  },
  {
   "cell_type": "code",
   "execution_count": null,
   "metadata": {},
   "outputs": [],
   "source": [
    "h = 7.9     # heat transfer coef, W/m^2/deg C\n",
    "DT = 1.2    # difference in temperature between fluid and surface, deg C\n",
    "q = h * DT  # heat flux or amount of heat transferred, W/m^2\n",
    "\n",
    "print(f\"The heat transfer is {q} W/m**2.\")\n",
    "\n",
    "DT = 1.3\n",
    "q = h * DT  # heat flux or amount of heat transferred, W/m^2\n",
    "\n",
    "print(f\"The heat transfer is {q} W/m**2.\")"
   ]
  },
  {
   "cell_type": "markdown",
   "metadata": {},
   "source": [
    "<div class=\"alert alert-info\">\n",
    "Note as well that since physical quantities always have physical dimensions, you should always document these with the value (or include a note to the effect that all values are <a href=\"https://en.wikipedia.org/wiki/International_System_of_Units\">SI</a>, <a href=\"https://en.wikipedia.org/wiki/Centimetre%E2%80%93gram%E2%80%93second_system_of_units\">CGS</a>), <a href=\"https://en.wikipedia.org/wiki/Foot%E2%80%93pound%E2%80%93second_system\">FPS</a>, etc.).\n",
    "<pre><code>max_torque = 5.0  # N*m</code></pre>\n",
    "A brief explanation may be helpful as well:\n",
    "<pre><code>dx = 1e-2  # mesh discretization, m</code></pre>\n",
    "Form this habit now and it will serve you well as you begin writing code, scripts, and longer programs.\n",
    "</div>"
   ]
  },
  {
   "cell_type": "markdown",
   "metadata": {},
   "source": [
    "### <span style=\"color:#345995\">Exercise 3:  Flexible Expressions</span>\n",
    "\n",
    "Correct the following code snippet to use variables `v` and `a` instead of directly-coded values.  We call coding which writes `5.0` instead of a variable _hard-coding_, since it can be rather too specific and blunt."
   ]
  },
  {
   "cell_type": "code",
   "execution_count": 19,
   "metadata": {
    "deletable": false
   },
   "outputs": [
    {
     "name": "stdout",
     "output_type": "stream",
     "text": [
      "-440.0\n"
     ]
    }
   ],
   "source": [
    "#grade\n",
    "# modify this code\n",
    "# the base equation is:\n",
    "# d = v*t + 0.5*a*t*t\n",
    "v = 5.0\n",
    "a = -9.8\n",
    "t = 10.0\n",
    "d = v*t + 0.5*a*t*t\n",
    "print(d)"
   ]
  },
  {
   "cell_type": "code",
   "execution_count": null,
   "metadata": {
    "deletable": false,
    "editable": false
   },
   "outputs": [],
   "source": [
    "# it should pass this test---do NOT edit this cell\n",
    "from numpy import isclose\n",
    "assert isclose(d, -440)\n",
    "print('Success!')"
   ]
  },
  {
   "cell_type": "markdown",
   "metadata": {},
   "source": [
    "<div class=\"alert alert-danger\">\n",
    "Check in with your team and TA to make sure everyone understands concepts up through this point.\n",
    "</div>"
   ]
  },
  {
   "cell_type": "markdown",
   "metadata": {},
   "source": [
    "### Building expressions using operators"
   ]
  },
  {
   "cell_type": "markdown",
   "metadata": {},
   "source": [
    "You've seen basic expressions in the lab and in the homework.  Let's build some more complicated expressions now to serve us in real model-building later."
   ]
  },
  {
   "cell_type": "markdown",
   "metadata": {},
   "source": [
    "### <span style=\"color:#345995\">Exercise 4:  Quadratic Formula</span>\n",
    "\n",
    "Write an expression describing the quadratic formula,\n",
    "$$\n",
    "x = \\frac{-b + \\sqrt{b^2-4ac}}{2a} \\text{.}\n",
    "$$\n",
    "\n",
    "Use the following variable values in your solution:"
   ]
  },
  {
   "cell_type": "code",
   "execution_count": 53,
   "metadata": {},
   "outputs": [],
   "source": [
    "#grade\n",
    "a = 1\n",
    "b = 2\n",
    "c = 1"
   ]
  },
  {
   "cell_type": "code",
   "execution_count": 52,
   "metadata": {
    "deletable": false
   },
   "outputs": [
    {
     "name": "stdout",
     "output_type": "stream",
     "text": [
      "-1.0\n"
     ]
    }
   ],
   "source": [
    "#grade\n",
    "# Uncomment x and write a formula for x here\n",
    "#x = \n",
    "x = (-b + ((b**2)-4*a*c)**0.5) / 2*a\n",
    "\n",
    "# After writing the expression for x, uncomment the next line\n",
    "# x_eq = x\n",
    "x_eq = x\n",
    "print(x_eq)"
   ]
  },
  {
   "cell_type": "code",
   "execution_count": null,
   "metadata": {
    "deletable": false,
    "editable": false
   },
   "outputs": [],
   "source": [
    "#it should pass this test---do NOT edit this cell\n",
    "assert x == -1.0\n",
    "print('Success!')"
   ]
  },
  {
   "cell_type": "markdown",
   "metadata": {},
   "source": [
    "### <span style=\"color:#345995\">Exercise 5:  Degrees, Minutes, Seconds</span>\n",
    "\n",
    "Write an expression describing the conversion of a degree/minute/second latitude value $d°m′s″$ into an equivalent decimal latitude value $\\ell$,\n",
    "$$\n",
    "\\ell = d1 + \\frac{m}{60} + \\frac{s}{3600} \\text{.}\n",
    "$$\n",
    "\n",
    "Call your Python variable containing the result `lat` instead of `l`."
   ]
  },
  {
   "cell_type": "code",
   "execution_count": 51,
   "metadata": {},
   "outputs": [],
   "source": [
    "#grade\n",
    "d1 = 22\n",
    "m = 30\n",
    "s = 120"
   ]
  },
  {
   "cell_type": "code",
   "execution_count": 50,
   "metadata": {
    "deletable": false
   },
   "outputs": [
    {
     "name": "stdout",
     "output_type": "stream",
     "text": [
      "22.533333333333335\n"
     ]
    }
   ],
   "source": [
    "#grade\n",
    "# write a formula for lat here using d1,m,s\n",
    "#lat = \n",
    "lat = d1 + (m / 60) + (s / 3600)\n",
    "print(lat)"
   ]
  },
  {
   "cell_type": "code",
   "execution_count": null,
   "metadata": {
    "deletable": false,
    "editable": false
   },
   "outputs": [],
   "source": [
    "# it should pass this test---do NOT edit this cell\n",
    "from numpy import isclose\n",
    "assert isclose(lat, 22.53333)\n",
    "print('Success!')"
   ]
  },
  {
   "cell_type": "markdown",
   "metadata": {},
   "source": [
    "### <span style=\"color:#345995\">Exercise 6:  Pendulum Swing</span>\n",
    "\n",
    "Write an expression describing the period of a pendulum for small amplitudes,\n",
    "$$\n",
    "T = 2\\pi \\sqrt\\frac{L}{g} \\text{.}\n",
    "$$"
   ]
  },
  {
   "cell_type": "code",
   "execution_count": 49,
   "metadata": {},
   "outputs": [],
   "source": [
    "#grade\n",
    "from math import pi\n",
    "L = 0.72  # m\n",
    "g = 9.8   # acceleration due to gravity."
   ]
  },
  {
   "cell_type": "code",
   "execution_count": 48,
   "metadata": {
    "deletable": false
   },
   "outputs": [
    {
     "name": "stdout",
     "output_type": "stream",
     "text": [
      "1.7030722741364743\n"
     ]
    }
   ],
   "source": [
    "#grade\n",
    "# write a formula for T here, using pi from the math library \n",
    "# you can also use \"from math import sqrt\" if you like, or use **0.5 as an equivalent\n",
    "T = 2*pi * ((L / g) ** 0.5)\n",
    "print(T)"
   ]
  },
  {
   "cell_type": "code",
   "execution_count": null,
   "metadata": {
    "deletable": false,
    "editable": false
   },
   "outputs": [],
   "source": [
    "# it should pass this test---do NOT edit this cell\n",
    "from numpy import isclose\n",
    "assert isclose(T, 1.70307)\n",
    "print('Success!')"
   ]
  },
  {
   "cell_type": "markdown",
   "metadata": {},
   "source": [
    "<div class=\"alert alert-danger\">\n",
    "Check in with your team and TA to make sure everyone understands concepts up through this point.\n",
    "</div>"
   ]
  },
  {
   "cell_type": "markdown",
   "metadata": {},
   "source": [
    "You are a hand on a merchant marine ship.  Solve the following practical problems."
   ]
  },
  {
   "cell_type": "markdown",
   "metadata": {},
   "source": [
    "### <span style=\"color:#345995\">Exercise 7:  Specific Gravity</span>\n",
    "\n",
    "A 50,000-barrel cargo of oil is found to be 7,143 tons weight.  The specific gravity of the oil is 0.933 kg oil/kg water.  How many tons of fresh water would there be in the same volume?  Answer in the variable `water_equivalent`.  Your answer should be an `int` so you'll need to use floor division `//` and convert."
   ]
  },
  {
   "cell_type": "code",
   "execution_count": 55,
   "metadata": {},
   "outputs": [
    {
     "name": "stdout",
     "output_type": "stream",
     "text": [
      "7656\n"
     ]
    }
   ],
   "source": [
    "#grade\n",
    "wt_oil = 7143\n",
    "sg = 0.933  # kg oil/kg H2O\n",
    "\n",
    "water_equivalent = round((wt_oil * 907.18474 / sg) / 907.18474)\n",
    "print(water_equivalent)"
   ]
  },
  {
   "cell_type": "markdown",
   "metadata": {},
   "source": [
    "### <span style=\"color:#345995\">Exercise 8:  Thermal Expansion</span>\n",
    "\n",
    "You have oil in a tank which will expand due to temperature increase.  The tank is 30' in length by 10' in width and contains 25,197 cubic feet of oil.  The oil's density is 58.1 lbs per cubic ft.  How much does the oil weigh, in tons (2,000 lbs = 1 ton)?  Answer in the variable `oil_weight_in_tons`.  Your answer should be an `int`, rounded _up_."
   ]
  },
  {
   "cell_type": "code",
   "execution_count": 57,
   "metadata": {},
   "outputs": [
    {
     "name": "stdout",
     "output_type": "stream",
     "text": [
      "732\n"
     ]
    }
   ],
   "source": [
    "#grade\n",
    "oil_volume = 25197  # ft^3\n",
    "oil_density = 58.1  # lbs/ft^3\n",
    "ton_conversion = 2000 # lbs/ton\n",
    "\n",
    "oil_weight_in_tons = round((oil_density * oil_volume) / ton_conversion)\n",
    "print(oil_weight_in_tons)"
   ]
  },
  {
   "cell_type": "markdown",
   "metadata": {},
   "source": [
    "### <span style=\"color:#345995\">Exercise 9:  Thermal Expansion</span>\n",
    "\n",
    "You have oil in a tank which will expand due to temperature increase.  The tank is 30' in length by 10' in width and contains 25,197 cubic feet of oil.  The oil has a ratio of expansion of 0.04% per degree Fahrenheit of temperature increase.  How much will the height rise in the tank with a 15 °F increase in temperature?  Answer in inches to the nearest inch.  Your answer should be an `int` so you'll need to `round`."
   ]
  },
  {
   "cell_type": "code",
   "execution_count": 56,
   "metadata": {},
   "outputs": [
    {
     "name": "stdout",
     "output_type": "stream",
     "text": [
      "1014\n"
     ]
    }
   ],
   "source": [
    "#grade\n",
    "length = 30  # ft\n",
    "width  = 10  # ft\n",
    "initial_volume = 25197  # ft^3\n",
    "initial_depth = initial_volume / length / width\n",
    "\n",
    "temperature_change = 15  # deg F\n",
    "coefficient = 0.0004  # %/deg F\n",
    "\n",
    "final_volume = initial_volume * (1+ coefficient * temperature_change)\n",
    "final_depth = final_volume / length / width  # ft\n",
    "\n",
    "final_depth_inches = round(final_depth / 0.083333)\n",
    "print(final_depth_inches)"
   ]
  },
  {
   "cell_type": "markdown",
   "metadata": {},
   "source": [
    "### <span style=\"color:#345995\">Exercise 10:  Breaking Stress</span>\n",
    "\n",
    "The working stress for a boat tackle fall is found to be 0.6 long tons.  What size of manila rope is required for the tackle, using a safety factor of 8?  (The safety factor means that it should be capable of holding eight times the specified load.)\n",
    "\n",
    "The breaking stress of manila rope is, in long tons, equal to the rope's circumference squared divided by 2.5:\n",
    "\n",
    "$$\n",
    "B\n",
    "=\n",
    "\\frac{C^{2}}{2.5}\n",
    "$$\n",
    "\n",
    "where $B$ is the breaking stress in long tons; $C$ is the rope circumference in inches.  Answer in the variable `rope_circumference`.  Your answer should be a `float` in inches, rounded to one decimal place using `round`."
   ]
  },
  {
   "cell_type": "code",
   "execution_count": 31,
   "metadata": {},
   "outputs": [
    {
     "name": "stdout",
     "output_type": "stream",
     "text": [
      "3.5\n"
     ]
    }
   ],
   "source": [
    "#grade\n",
    "safety_factor = 8\n",
    "B = 0.6 * safety_factor\n",
    "\n",
    "rope_circumference = round(((B * 2.5) ** 0.5),1)\n",
    "print(rope_circumference)"
   ]
  },
  {
   "cell_type": "markdown",
   "metadata": {},
   "source": [
    "<div class=\"alert alert-danger\">\n",
    "Check in with your team and TA to make sure everyone understands concepts up through this point.  Your TA knows the correct answers and should be able to help you verify your results.\n",
    "</div>"
   ]
  },
  {
   "cell_type": "markdown",
   "metadata": {},
   "source": [
    "### Slicing"
   ]
  },
  {
   "cell_type": "markdown",
   "metadata": {},
   "source": [
    "We recently introduced indexing and slicing for strings.  Remember that Python starts counting from zero, and that while the left-hand side is included, the right-hand side is _not_."
   ]
  },
  {
   "cell_type": "code",
   "execution_count": null,
   "metadata": {},
   "outputs": [],
   "source": [
    "pangram = 'Sphinx of black quartz: judge my vow.'"
   ]
  },
  {
   "cell_type": "code",
   "execution_count": 32,
   "metadata": {},
   "outputs": [
    {
     "ename": "NameError",
     "evalue": "name 'pangram' is not defined",
     "output_type": "error",
     "traceback": [
      "\u001b[0;31m---------------------------------------------------------------------------\u001b[0m",
      "\u001b[0;31mNameError\u001b[0m                                 Traceback (most recent call last)",
      "\u001b[0;32m<ipython-input-32-f1438fcdd36e>\u001b[0m in \u001b[0;36m<module>\u001b[0;34m\u001b[0m\n\u001b[0;32m----> 1\u001b[0;31m \u001b[0mpangram\u001b[0m\u001b[0;34m[\u001b[0m\u001b[0;36m0\u001b[0m\u001b[0;34m:\u001b[0m\u001b[0;36m5\u001b[0m\u001b[0;34m]\u001b[0m\u001b[0;34m\u001b[0m\u001b[0;34m\u001b[0m\u001b[0m\n\u001b[0m",
      "\u001b[0;31mNameError\u001b[0m: name 'pangram' is not defined"
     ]
    }
   ],
   "source": [
    "pangram[0:5]"
   ]
  },
  {
   "cell_type": "code",
   "execution_count": null,
   "metadata": {},
   "outputs": [],
   "source": [
    "pangram[6:13]"
   ]
  },
  {
   "cell_type": "code",
   "execution_count": null,
   "metadata": {},
   "outputs": [],
   "source": [
    "pangram[0:0]  # Note that the right-hand index is not in the range, so this string is empty."
   ]
  },
  {
   "cell_type": "code",
   "execution_count": null,
   "metadata": {},
   "outputs": [],
   "source": [
    "pangram[0:-1]"
   ]
  },
  {
   "cell_type": "code",
   "execution_count": null,
   "metadata": {},
   "outputs": [],
   "source": [
    "pangram[5:]  # We don't have to specify both sides; if we don't, Python assumes we are going all the way to the end or coming all the way from the beginning."
   ]
  },
  {
   "cell_type": "code",
   "execution_count": null,
   "metadata": {},
   "outputs": [],
   "source": [
    "pangram[:10]"
   ]
  },
  {
   "cell_type": "code",
   "execution_count": null,
   "metadata": {},
   "outputs": [],
   "source": [
    "pangram[:]  # Thus this is just a copy of the entire original string."
   ]
  },
  {
   "cell_type": "code",
   "execution_count": null,
   "metadata": {},
   "outputs": [],
   "source": [
    "pangram[::2] # Take every other character"
   ]
  },
  {
   "cell_type": "markdown",
   "metadata": {},
   "source": [
    "In that last example, the third number is the _step size_.  Play with some different values and see what it does.  What happens if the step size is negative?"
   ]
  },
  {
   "cell_type": "code",
   "execution_count": null,
   "metadata": {},
   "outputs": [],
   "source": [
    "pangram[::-1]"
   ]
  },
  {
   "cell_type": "markdown",
   "metadata": {},
   "source": [
    "Although strings *are* important and useful, you're still fairly limited in what you're able to do with them.  But many aspects of indexing will carry over to data types you'll meet later, like lists and arrays.  You will use these techniques to manipulate large arrays of numerical data as well."
   ]
  },
  {
   "cell_type": "markdown",
   "metadata": {},
   "source": [
    "### <span style=\"color:#345995\">Exercise 11:  Slicing a String with Steps</span>\n",
    "\n",
    "How would you extract the letters `'ssupdla nioiaim'` from the following string?  Write the full expression (*i.e.*, `showoff[???]`) in the answer block below.\n",
    "        \n",
    "    showoff = 'sesquipedalian antinominalism'"
   ]
  },
  {
   "cell_type": "code",
   "execution_count": 47,
   "metadata": {},
   "outputs": [],
   "source": [
    "#grade\n",
    "# definition\n",
    "showoff = 'sesquipedalian antinominalism'"
   ]
  },
  {
   "cell_type": "code",
   "execution_count": 60,
   "metadata": {
    "deletable": false
   },
   "outputs": [
    {
     "name": "stdout",
     "output_type": "stream",
     "text": [
      "ssupdla nioiaim\n"
     ]
    }
   ],
   "source": [
    "# your answer here\n",
    "print(showoff[0:30:2])"
   ]
  },
  {
   "cell_type": "code",
   "execution_count": 61,
   "metadata": {},
   "outputs": [],
   "source": [
    "#grade -- uncomment next line and write the fomula from the previous cell\n",
    "#final_string = showoff[???]\n",
    "final_string = showoff[0:30:2]"
   ]
  },
  {
   "cell_type": "markdown",
   "metadata": {},
   "source": [
    "<div class=\"alert alert-danger\">\n",
    "Check in with your team and TA to make sure everyone understands concepts up through this point.\n",
    "</div>"
   ]
  }
 ],
 "metadata": {
  "anaconda-cloud": {},
  "kernelspec": {
   "display_name": "Python 3",
   "language": "python",
   "name": "python3"
  },
  "language_info": {
   "codemirror_mode": {
    "name": "ipython",
    "version": 3
   },
   "file_extension": ".py",
   "mimetype": "text/x-python",
   "name": "python",
   "nbconvert_exporter": "python",
   "pygments_lexer": "ipython3",
   "version": "3.8.6"
  }
 },
 "nbformat": 4,
 "nbformat_minor": 4
}
