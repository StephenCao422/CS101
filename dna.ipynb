{
 "cells": [
  {
   "cell_type": "markdown",
   "metadata": {},
   "source": [
    "# `lab03`—DNA & RNA Sequencing"
   ]
  },
  {
   "cell_type": "markdown",
   "metadata": {},
   "source": [
    "**Objectives**\n",
    "\n",
    "-   Write a simple function to implement a mathematical formula.\n",
    "-   Use functions to modularize code.\n",
    "-   Explain how variable scope impacts what the program \"sees\".\n",
    "-   Understand the difference between _returning_ a value and _printing_ a value.\n",
    "-   Use default values in functions."
   ]
  },
  {
   "cell_type": "markdown",
   "metadata": {},
   "source": [
    "This lab will introduce some basic algorithms for parsing and processing DNA strands once they have been sequenced into a computer format.\n",
    "\n",
    "With the material from this lab in your toolkit, you will be prepared to start working on the course project with your team.  Watch for the first milestone assignment.\n",
    "\n",
    "_Some of the exercises in this lab were inspired by [Rosalind](https://rosalind.info/)._"
   ]
  },
  {
   "cell_type": "markdown",
   "metadata": {},
   "source": [
    "##  DNA Elements"
   ]
  },
  {
   "cell_type": "markdown",
   "metadata": {},
   "source": [
    "A DNA sequence is composed of adenine (`'A'`), guanine (`'G'`), cytosine (`'C'`), and thymine (`'T'`) nucleobases.\n",
    "\n",
    "![](https://upload.wikimedia.org/wikipedia/commons/thumb/e/e4/DNA_chemical_structure.svg/411px-DNA_chemical_structure.svg.png)\n",
    "\n",
    "During the process of gene expression, RNA reads off each nucleobase and stores it as its complement.  Thus an RNA sequence is a string containing uracil (`'U'`), cytosine (`'C'`), guanine (`'G'`), and adenine (`'A'`) [bases](https://en.wikipedia.org/wiki/RNA#Types_of_RNA).  (Note that `U` pairs with `A` as RNA does not contain thymine `T`.)\n",
    "\n",
    "| Symbol | Name     | Complementary Base |\n",
    "|--------|----------|--------------------|\n",
    "| A  | adenine  | T (DNA); U (RNA)   |\n",
    "| C  | cytosine | G                  |\n",
    "| G  | guanine  | C                  |\n",
    "| T  | thymine  | A                  |\n",
    "| U  | uracil   | A                  |\n",
    "\n",
    "Today's multi-part problem will lead you through the basic elements of DNA sequence data through transcription into RNA and then translating RNA sequences into codons.\n",
    "\n",
    "![](https://oerpub.github.io/epubjs-demo-book/resources/0324_DNA_Translation_and_Codons.jpg)"
   ]
  },
  {
   "cell_type": "markdown",
   "metadata": {},
   "source": [
    "### Parsing DNA"
   ]
  },
  {
   "cell_type": "markdown",
   "metadata": {},
   "source": []
  },
  {
   "cell_type": "markdown",
   "metadata": {},
   "source": [
    "### <span style=\"color:#345995\">Exercise 1: Counting DNA Nucleotides</span>\n",
    "\n",
    "Compose a function `dna_count` which accepts a DNA string `dna` and returns a `list` or `tuple` of four integers representing the number of times that the symbols `A`, `C`, `G`, and `T` occur in `dna`."
   ]
  },
  {
   "cell_type": "code",
   "execution_count": 1,
   "metadata": {},
   "outputs": [],
   "source": [
    "#grade\n",
    "\n",
    "def dna_count(dna):\n",
    "    dna = dna.upper()\n",
    "    count_A = dna.count('A')\n",
    "    count_C = dna.count('C')\n",
    "    count_G = dna.count('G')\n",
    "    count_T = dna.count('T')\n",
    "    return count_A,count_C,count_G,count_T"
   ]
  },
  {
   "cell_type": "code",
   "execution_count": 2,
   "metadata": {},
   "outputs": [
    {
     "name": "stdout",
     "output_type": "stream",
     "text": [
      "Success for dna0!\n",
      "Success for dna1!\n",
      "Success for dna2!\n"
     ]
    }
   ],
   "source": [
    "# Here are some DNA strings you can test your function with.\n",
    "dna0 = 'TGCA'\n",
    "dna0_answer = (1,1,1,1)\n",
    "dna1 = 'TTTGTCTAGTGGGCGACTCGCCCAATAGACAACGGTTT'\n",
    "dna1_answer = (8,9,10,11)\n",
    "dna2 = 'AGCTTTTCATTCTGACTGCAACGGGCAATATGTCTCTGTGTGGATTAAAAAAAGAGTGTCTGATAGCAGC'\n",
    "dna2_answer = (20,12,17,21)\n",
    "\n",
    "assert dna_count(dna0) == dna0_answer,\"Test case dna0 failed\"\n",
    "print (\"Success for dna0!\")\n",
    "assert dna_count(dna1) == dna1_answer,\"Test case dna1 failed\"\n",
    "print (\"Success for dna1!\")\n",
    "assert dna_count(dna2) == dna2_answer,\"Test case dna0 failed\"\n",
    "print (\"Success for dna2!\")"
   ]
  },
  {
   "cell_type": "markdown",
   "metadata": {},
   "source": [
    "<div class=\"alert alert-danger\">\n",
    "Check in with your team and TA to make sure everyone understands concepts up through this point.\n",
    "</div>"
   ]
  },
  {
   "cell_type": "markdown",
   "metadata": {},
   "source": [
    "### Complementing DNA"
   ]
  },
  {
   "cell_type": "markdown",
   "metadata": {},
   "source": [
    "Once we can parse basic DNA strings, our next step is to transcribe DNA into RNA.  We are going to write two functions, which will use an accumulator pattern with a loop and some comparison logic to convert from DNA to RNA and backwards."
   ]
  },
  {
   "cell_type": "markdown",
   "metadata": {},
   "source": [
    "### <span style=\"color:#345995\">Exercise 2: Transcribing DNA to RNA</span>\n",
    "\n",
    "Compose a function `dna2rna` which accepts a DNA string `dna` and returns a string `rna` containing the RNA strand corresponding to its DNA input.  That is, the input `'ACGT'` should return `'UGCA'`.  The function should convert any input into upper-case."
   ]
  },
  {
   "cell_type": "code",
   "execution_count": 7,
   "metadata": {},
   "outputs": [],
   "source": [
    "#grade\n",
    "\n",
    "def dna2rna(dna):\n",
    "    rna = ''\n",
    "    for symbol in dna:\n",
    "        if symbol == 'A':\n",
    "            rna = rna + 'U'\n",
    "        elif symbol == 'T':\n",
    "            rna += 'A'\n",
    "        elif symbol == 'G':\n",
    "            rna += 'C'\n",
    "        elif symbol == 'C':\n",
    "            rna += 'G'\n",
    "    return rna"
   ]
  },
  {
   "cell_type": "code",
   "execution_count": 8,
   "metadata": {},
   "outputs": [
    {
     "name": "stdout",
     "output_type": "stream",
     "text": [
      "Success for dna0!\n",
      "Success for dna1!\n",
      "Success for dna2!\n"
     ]
    }
   ],
   "source": [
    "# Here are some DNA strings you can test your function with.\n",
    "dna0 = 'TGCA'\n",
    "rna0 = 'ACGU'\n",
    "dna1 = 'TTTGTCTAGTGGGCGACTCGCCCAATAGACAACGGTTT'\n",
    "rna1 = 'AAACAGAUCACCCGCUGAGCGGGUUAUCUGUUGCCAAA'\n",
    "dna2 = 'AGCTTTTCATTCTGACTGCAACGGGCAATATGTCTCTGTGTGGATTAAAAAAAGAGTGTCTGATAGCAGC'\n",
    "rna2 = 'UCGAAAAGUAAGACUGACGUUGCCCGUUAUACAGAGACACACCUAAUUUUUUUCUCACAGACUAUCGUCG'\n",
    "\n",
    "assert dna2rna(dna0) == rna0,\"Test case dna0 failed\"\n",
    "print (\"Success for dna0!\")\n",
    "assert dna2rna(dna1) == rna1,\"Test case dna1 failed\"\n",
    "print (\"Success for dna1!\")\n",
    "assert dna2rna(dna2) == rna2,\"Test case dna2 failed\"\n",
    "print (\"Success for dna2!\")"
   ]
  },
  {
   "cell_type": "markdown",
   "metadata": {},
   "source": [
    "### <span style=\"color:#345995\">Exercise 3: Transcribing RNA to DNA</span>\n",
    "\n",
    "Now turn things around.\n",
    "\n",
    "Compose a function `rna2dna` which accepts an RNA string `rna` and returns a string `dna` containing the DNA strand corresponding to its RNA input.  That is, the input `'ACGU'` should return `'TGCA'`.  The function should convert any input into upper-case."
   ]
  },
  {
   "cell_type": "code",
   "execution_count": 9,
   "metadata": {},
   "outputs": [],
   "source": [
    "#grade\n",
    "\n",
    "def rna2dna(rna):\n",
    "    dna = ''\n",
    "    for symbol in rna:\n",
    "        if symbol == 'A':\n",
    "            dna += 'T'\n",
    "        elif symbol == 'C':\n",
    "            dna += 'G'\n",
    "        elif symbol == 'G':\n",
    "            dna += 'C'\n",
    "        elif symbol == 'U':\n",
    "            dna += 'A'\n",
    "    return dna"
   ]
  },
  {
   "cell_type": "code",
   "execution_count": 10,
   "metadata": {},
   "outputs": [
    {
     "name": "stdout",
     "output_type": "stream",
     "text": [
      "Success for rna0!\n",
      "Success for rna1!\n",
      "Success for rna2!\n"
     ]
    }
   ],
   "source": [
    "# Here are some RNA strings you can test your function with.\n",
    "rna0 = 'ACGU'\n",
    "dna0 = 'TGCA'\n",
    "rna1 = 'AAACAGAUCACCCGCUGAGCGGGUUAUCUGUUGCCAAA'\n",
    "dna1 = 'TTTGTCTAGTGGGCGACTCGCCCAATAGACAACGGTTT'\n",
    "rna2 = 'UCGAAAAGUAAGACUGACGUUGCCCGUUAUACAGAGACACACCUAAUUUUUUUCUCACAGACUAUCGUCG'\n",
    "dna2 = 'AGCTTTTCATTCTGACTGCAACGGGCAATATGTCTCTGTGTGGATTAAAAAAAGAGTGTCTGATAGCAGC'\n",
    "\n",
    "assert rna2dna(rna0) == dna0,\"Test case rna0 failed\"\n",
    "print (\"Success for rna0!\")\n",
    "assert rna2dna(rna1) == dna1,\"Test case rna1 failed\"\n",
    "print (\"Success for rna1!\")\n",
    "assert rna2dna(rna2) == dna2,\"Test case rna2 failed\"\n",
    "print (\"Success for rna2!\")"
   ]
  },
  {
   "cell_type": "markdown",
   "metadata": {},
   "source": [
    "<div class=\"alert alert-danger\">\n",
    "Check in with your team and TA to make sure everyone understands concepts up through this point.\n",
    "</div>"
   ]
  },
  {
   "cell_type": "markdown",
   "metadata": {},
   "source": [
    "### Mapping RNA to Amino Acids (Codons)"
   ]
  },
  {
   "cell_type": "markdown",
   "metadata": {},
   "source": [
    "At this point, you have two functions which can convert DNA and RNA from one representation to the other.  Next, we require the ability to translate an RNA string into a codon."
   ]
  },
  {
   "cell_type": "markdown",
   "metadata": {},
   "source": [
    "One of the major functions of RNA in the body is as “messenger RNA”, which contains groups of three-letter *codons* mapping to amino acids expressed in the cell.  Thus if we find `CUU CAG` in mRNA, we anticipate that the cell will create leucine and glutamine, written `LQ`:\n",
    "\n",
    "    'CUUCAG' → 'LQ'\n",
    "\n",
    "or, in terms of our program, we could write\n",
    "\n",
    "    rna2amino( 'CUU' )\n",
    "\n",
    "which yields\n",
    "\n",
    "    'L'\n",
    "    \n",
    "and so forth.\n",
    "\n",
    "The full table of codons follows.\n",
    "\n",
    "<table class=\"wikitable\">\n",
    "    <h4>Standard genetic code<sup><a href=\"https://en.wikipedia.org/wiki/Genetic_code#RNA_codon_table\">RNA codon table</a></sup></h4>\n",
    "<tr>\n",
    "<th rowspan=\"2\">1st<br />\n",
    "base</th>\n",
    "<th colspan=\"8\">2nd base</th>\n",
    "<th rowspan=\"2\">3rd<br />\n",
    "base</th>\n",
    "</tr>\n",
    "<tr>\n",
    "<th colspan=\"2\">U</th>\n",
    "<th colspan=\"2\">C</th>\n",
    "<th colspan=\"2\">A</th>\n",
    "<th colspan=\"2\">G</th>\n",
    "</tr>\n",
    "<tr>\n",
    "<th rowspan=\"4\">U</th>\n",
    "<td>UUU</td>\n",
    "<td rowspan=\"2\" style=\"background-color:#ffe75f\">(Phe/F) Phenylalanine</td>\n",
    "<td>UCU</td>\n",
    "<td rowspan=\"4\" style=\"background-color:#b3dec0\">(Ser/S) Serine</td>\n",
    "<td>UAU</td>\n",
    "<td rowspan=\"2\" style=\"background-color:#b3dec0\">(Tyr/Y) Tyrosine</td>\n",
    "<td>UGU</td>\n",
    "<td rowspan=\"2\" style=\"background-color:#b3dec0\">(Cys/C) Cysteine</td>\n",
    "<th>U</th>\n",
    "</tr>\n",
    "<tr>\n",
    "<td>UUC</td>\n",
    "<td>UCC</td>\n",
    "<td>UAC</td>\n",
    "<td>UGC</td>\n",
    "<th>C</th>\n",
    "</tr>\n",
    "<tr>\n",
    "<td>UUA</td>\n",
    "<td rowspan=\"6\" style=\"background-color:#ffe75f\">(Leu/L) Leucine</td>\n",
    "<td>UCA</td>\n",
    "<td>UAA</td>\n",
    "<td style=\"background-color:#B0B0B0;\">Stop (<i>Ochre</i>)</td>\n",
    "<td>UGA</td>\n",
    "<td style=\"background-color:#B0B0B0;\">Stop (<i>Opal</i>)</td>\n",
    "<th>A</th>\n",
    "</tr>\n",
    "<tr>\n",
    "<td>UUG</td>\n",
    "<td>UCG</td>\n",
    "<td>UAG</td>\n",
    "<td style=\"background-color:#B0B0B0;\">Stop (<i>Amber</i>)</td>\n",
    "<td>UGG</td>\n",
    "<td style=\"background-color:#ffe75f;\">(Trp/W) Tryptophan&#160;&#160;&#160;&#160;</td>\n",
    "<th>G</th>\n",
    "</tr>\n",
    "<tr>\n",
    "<th rowspan=\"4\">C</th>\n",
    "<td>CUU</td>\n",
    "<td>CCU</td>\n",
    "<td rowspan=\"4\" style=\"background-color:#ffe75f\">(Pro/P) Proline</td>\n",
    "<td>CAU</td>\n",
    "<td rowspan=\"2\" style=\"background-color:#bbbfe0\">(His/H) Histidine</td>\n",
    "<td>CGU</td>\n",
    "<td rowspan=\"4\" style=\"background-color:#bbbfe0\">(Arg/R) Arginine</td>\n",
    "<th>U</th>\n",
    "</tr>\n",
    "<tr>\n",
    "<td>CUC</td>\n",
    "<td>CCC</td>\n",
    "<td>CAC</td>\n",
    "<td>CGC</td>\n",
    "<th>C</th>\n",
    "</tr>\n",
    "<tr>\n",
    "<td>CUA</td>\n",
    "<td>CCA</td>\n",
    "<td>CAA</td>\n",
    "<td rowspan=\"2\" style=\"background-color:#b3dec0\">(Gln/Q) Glutamine</td>\n",
    "<td>CGA</td>\n",
    "<th>A</th>\n",
    "</tr>\n",
    "<tr>\n",
    "<td>CUG</td>\n",
    "<td>CCG</td>\n",
    "<td>CAG</td>\n",
    "<td>CGG</td>\n",
    "<th>G</th>\n",
    "</tr>\n",
    "<tr>\n",
    "<th rowspan=\"4\">A</th>\n",
    "<td>AUU</td>\n",
    "<td rowspan=\"3\" style=\"background-color:#ffe75f\">(Ile/I) Isoleucine</td>\n",
    "<td>ACU</td>\n",
    "<td rowspan=\"4\" style=\"background-color:#b3dec0\">(Thr/T) Threonine&#160;&#160;&#160;&#160;&#160;&#160;&#160;&#160;</td>\n",
    "<td>AAU</td>\n",
    "<td rowspan=\"2\" style=\"background-color:#b3dec0\">(Asn/N) Asparagine</td>\n",
    "<td>AGU</td>\n",
    "<td rowspan=\"2\" style=\"background-color:#b3dec0\">(Ser/S) Serine</td>\n",
    "<th>U</th>\n",
    "</tr>\n",
    "<tr>\n",
    "<td>AUC</td>\n",
    "<td>ACC</td>\n",
    "<td>AAC</td>\n",
    "<td>AGC</td>\n",
    "<th>C</th>\n",
    "</tr>\n",
    "<tr>\n",
    "<td>AUA</td>\n",
    "<td>ACA</td>\n",
    "<td>AAA</td>\n",
    "<td rowspan=\"2\" style=\"background-color:#bbbfe0\">(Lys/K) Lysine</td>\n",
    "<td>AGA</td>\n",
    "<td rowspan=\"2\" style=\"background-color:#bbbfe0\">(Arg/R) Arginine</td>\n",
    "<th>A</th>\n",
    "</tr>\n",
    "<tr>\n",
    "<td>AUG<sup class=\"reference\" id=\"ref_methionineA\">[A]</sup></td>\n",
    "<td style=\"background-color:#ffe75f;\">(Met/M) Methionine</td>\n",
    "<td>ACG</td>\n",
    "<td>AAG</td>\n",
    "<td>AGG</td>\n",
    "<th>G</th>\n",
    "</tr>\n",
    "<tr>\n",
    "<th rowspan=\"4\">G</th>\n",
    "<td>GUU</td>\n",
    "<td rowspan=\"4\" style=\"background-color:#ffe75f\">(Val/V) Valine</td>\n",
    "<td>GCU</td>\n",
    "<td rowspan=\"4\" style=\"background-color:#ffe75f\">(Ala/A) Alanine</td>\n",
    "<td>GAU</td>\n",
    "<td rowspan=\"2\" style=\"background-color:#f8b7d3\">(Asp/D) Aspartic acid</td>\n",
    "<td>GGU</td>\n",
    "<td rowspan=\"4\" style=\"background-color:#ffe75f\">(Gly/G) Glycine</td>\n",
    "<th>U</th>\n",
    "</tr>\n",
    "<tr>\n",
    "<td>GUC</td>\n",
    "<td>GCC</td>\n",
    "<td>GAC</td>\n",
    "<td>GGC</td>\n",
    "<th>C</th>\n",
    "</tr>\n",
    "<tr>\n",
    "<td>GUA</td>\n",
    "<td>GCA</td>\n",
    "<td>GAA</td>\n",
    "<td rowspan=\"2\" style=\"background-color:#f8b7d3\">(Glu/E) Glutamic acid</td>\n",
    "<td>GGA</td>\n",
    "<th>A</th>\n",
    "</tr>\n",
    "<tr>\n",
    "<td>GUG</td>\n",
    "<td>GCG</td>\n",
    "<td>GAG</td>\n",
    "<td>GGG</td>\n",
    "<th>G</th>\n",
    "</tr>\n",
    "</table>"
   ]
  },
  {
   "cell_type": "markdown",
   "metadata": {},
   "source": [
    "### <span style=\"color:#345995\">Exercise 4: Mapping a Triplet to a Codon</span>\n",
    "\n",
    "Compose a function `rna2codon` which accepts a three-letter codon `triplet` and returns a string `amino` representing the corresponding amino acid per the table above.  That is, the input `'GAU'` should return `'D'`.  The function should convert any input into upper-case and should check that the codon is valid. If codon in invalid the function should return \"Invalid\" string.\n",
    "\n",
    "We provide a dictionary `genetic_code` which you may use in composing your function."
   ]
  },
  {
   "cell_type": "code",
   "execution_count": 38,
   "metadata": {},
   "outputs": [],
   "source": [
    "#grade\n",
    "\n",
    "def rna2codon(triplet):\n",
    "    genetic_code = {\n",
    "        'UUU': 'F', 'UUC': 'F', 'UUA': 'L', 'UUG': 'L',        'CUU': 'L', 'CUC': 'L', 'CUA': 'L', 'CUG': 'L',\n",
    "        'AUU': 'I', 'AUC': 'I', 'AUA': 'I', 'AUG': 'M',        'GUU': 'V', 'GUC': 'V', 'GUA': 'V', 'GUG': 'V',\n",
    "\n",
    "        'UCU': 'S', 'UCC': 'S', 'UCA': 'S', 'UCG': 'S',        'CCU': 'P', 'CCC': 'P', 'CCA': 'P', 'CCG': 'P',\n",
    "        'ACU': 'T', 'ACC': 'T', 'ACA': 'T', 'ACG': 'T',        'GCU': 'A', 'GCC': 'A', 'GCA': 'A', 'GCG': 'A',\n",
    "\n",
    "        'UAU': 'Y', 'UAC': 'Y', 'UAA': '*', 'UAG': '*',        'CAU': 'H', 'CAC': 'H', 'CAA': 'Q', 'CAG': 'Q',\n",
    "        'AAU': 'N', 'AAC': 'N', 'AAA': 'K', 'AAG': 'K',        'GAU': 'D', 'GAC': 'D', 'GAA': 'E', 'GAG': 'E',\n",
    "\n",
    "        'UGU': 'C', 'UGC': 'C', 'UGA': '*', 'UGG': 'W',        'CGU': 'R', 'CGC': 'R', 'CGA': 'R', 'CGG': 'R',\n",
    "        'AGU': 'S', 'AGC': 'S', 'AGA': 'R', 'AGG': 'R',        'GGU': 'G', 'GGC': 'G', 'GGA': 'G', 'GGG': 'G',\n",
    "    }\n",
    "    allowed_codons = set('ACGU')\n",
    "\n",
    "    if triplet in genetic_code:\n",
    "        return genetic_code[triplet]\n",
    "    else:\n",
    "        return \"Invalid\""
   ]
  },
  {
   "cell_type": "code",
   "execution_count": 39,
   "metadata": {},
   "outputs": [
    {
     "name": "stdout",
     "output_type": "stream",
     "text": [
      "Success for rna0!\n",
      "Success for rna1!\n",
      "Success for rna2!\n",
      "Success for rna3!\n"
     ]
    }
   ],
   "source": [
    "# Here are some RNA strings you can test your function with.\n",
    "rna0 = 'UUU'\n",
    "rna0_codon = 'F'\n",
    "rna1 = 'AAC'\n",
    "rna1_codon = 'N'\n",
    "rna2 = 'UAA'\n",
    "rna2_codon = '*'\n",
    "rna3 = 'KIL'\n",
    "rna3_codon = \"Invalid\"\n",
    "\n",
    "assert rna2codon(rna0) == rna0_codon,\"Test case rna0 failed\"\n",
    "print (\"Success for rna0!\")\n",
    "assert rna2codon(rna1) == rna1_codon,\"Test case rna1 failed\"\n",
    "print (\"Success for rna1!\")\n",
    "assert rna2codon(rna2) == rna2_codon,\"Test case rna2 failed\"\n",
    "print (\"Success for rna2!\")\n",
    "assert rna2codon(rna3) == rna3_codon,\"Test case rna3 failed\"\n",
    "print (\"Success for rna3!\")"
   ]
  },
  {
   "cell_type": "markdown",
   "metadata": {},
   "source": [
    "<div class=\"alert alert-danger\">\n",
    "Check in with your team and TA to make sure everyone understands concepts up through this point.\n",
    "</div>"
   ]
  },
  {
   "cell_type": "markdown",
   "metadata": {},
   "source": [
    "### <span style=\"color:#345995\">Exercise 5: Mapping a String of Triplets to Codons</span>\n",
    "\n",
    "Compose a function `rna2codons` which accepts a string of three-letter codons `triplets` and returns a string `amino` representing the set of corresponding amino acids per the table above.  That is, the input `'GAUUAUUCC'` should return `'DYS'`.  The function should convert any input into upper-case and should check that each codon is valid."
   ]
  },
  {
   "cell_type": "markdown",
   "metadata": {},
   "source": [
    "The tricky part is figuring out how to get a string chopped into three-letter chunks.  (This is harder than it seems at first.)  There are many ways you can think of to do this.  One possibility:"
   ]
  },
  {
   "cell_type": "code",
   "execution_count": 13,
   "metadata": {},
   "outputs": [
    {
     "name": "stdout",
     "output_type": "stream",
     "text": [
      "abc\n",
      "def\n",
      "ghi\n",
      "jkl\n",
      "mno\n",
      "pqr\n",
      "stu\n",
      "vwx\n"
     ]
    }
   ],
   "source": [
    "example_string = 'abcdefghijklmnopqrstuvwxyz'\n",
    "for i in range( 0,int( len( example_string ) / 3 ) ):\n",
    "    print( example_string[ 3*i:3*i+3 ] )"
   ]
  },
  {
   "cell_type": "code",
   "execution_count": 49,
   "metadata": {},
   "outputs": [],
   "source": [
    "#grade\n",
    "\n",
    "def rna2codons(triplets):\n",
    "    result = \"\"\n",
    "    for i in range( 0,int( len( triplets ) / 3 ) ):\n",
    "        a = triplets[3*i:3*i+3].upper()\n",
    "        result = result + rna2codon(a)\n",
    "    return result"
   ]
  },
  {
   "cell_type": "code",
   "execution_count": 50,
   "metadata": {},
   "outputs": [
    {
     "name": "stdout",
     "output_type": "stream",
     "text": [
      "Success for rna0!\n",
      "Success for rna1!\n",
      "Success for rna2!\n"
     ]
    }
   ],
   "source": [
    "# Here are some RNA strings you can test your function with.\n",
    "rna0 = 'UUUAGC'\n",
    "rna0_codon = 'FS'\n",
    "rna1 = 'AACUGGAGG'\n",
    "rna1_codon = 'NWR'\n",
    "rna2 = 'GAGCAAAGUUAA'\n",
    "rna2_codon = 'EQS*'\n",
    "\n",
    "assert rna2codons(rna0) == rna0_codon,\"Test case rna0 failed\"\n",
    "print (\"Success for rna0!\")\n",
    "assert rna2codons(rna1) == rna1_codon,\"Test case rna1 failed\"\n",
    "print (\"Success for rna1!\")\n",
    "assert rna2codons(rna2) == rna2_codon,\"Test case rna2 failed\"\n",
    "print (\"Success for rna2!\")"
   ]
  },
  {
   "cell_type": "markdown",
   "metadata": {},
   "source": [
    "<div class=\"alert alert-danger\">\n",
    "Check in with your team and TA to make sure everyone understands concepts up through this point.\n",
    "</div>"
   ]
  },
  {
   "cell_type": "markdown",
   "metadata": {},
   "source": [
    "### <span style=\"color:#345995\">Exercise 6: Put the Pipeline Together</span>\n",
    "\n",
    "Finally, we are interested in taking a string of DNA sequence data, transcribing its RNA complement, and translating the resulting RNA to amino acids.  This requires that you:\n",
    "\n",
    "1.  Convert the string from DNA to RNA.  (Which function does this?)\n",
    "2.  Convert the RNA string to its corresponding protein expression string.  (Which function does this?)\n",
    "3.  Return the resulting string.\n",
    "\n",
    "Compose a function `dna2codons` which accepts a string `dna` and returns a string `codons` representing the sequence of corresponding amino acids per the table above.  The function should convert any input into upper-case and should check that the codon is valid."
   ]
  },
  {
   "cell_type": "code",
   "execution_count": 34,
   "metadata": {},
   "outputs": [],
   "source": [
    "#grade\n",
    "def dna2codons(dnaString):\n",
    "    codons = ''\n",
    "    \n",
    "    # Convert the string from DNA to RNA. (Which function does this?)\n",
    "    def dna2rna(dna):\n",
    "        rna = ''\n",
    "        for symbol in dna:\n",
    "            if symbol == 'A':\n",
    "                rna = rna + 'U'\n",
    "            elif symbol == 'T':\n",
    "                rna += 'A'\n",
    "            elif symbol == 'G':\n",
    "                rna += 'C'\n",
    "            elif symbol == 'C':\n",
    "                rna += 'G'\n",
    "        return rna\n",
    "    \n",
    "    # Convert the RNA string to its corresponding protein expression string. (Which function does this?)\n",
    "    def rna2codons(triplets):\n",
    "        genetic_code = {\n",
    "        'UUU': 'F', 'UUC': 'F', 'UUA': 'L', 'UUG': 'L',        'CUU': 'L', 'CUC': 'L', 'CUA': 'L', 'CUG': 'L',\n",
    "        'AUU': 'I', 'AUC': 'I', 'AUA': 'I', 'AUG': 'M',        'GUU': 'V', 'GUC': 'V', 'GUA': 'V', 'GUG': 'V',\n",
    "\n",
    "        'UCU': 'S', 'UCC': 'S', 'UCA': 'S', 'UCG': 'S',        'CCU': 'P', 'CCC': 'P', 'CCA': 'P', 'CCG': 'P',\n",
    "        'ACU': 'T', 'ACC': 'T', 'ACA': 'T', 'ACG': 'T',        'GCU': 'A', 'GCC': 'A', 'GCA': 'A', 'GCG': 'A',\n",
    "\n",
    "        'UAU': 'Y', 'UAC': 'Y', 'UAA': '*', 'UAG': '*',        'CAU': 'H', 'CAC': 'H', 'CAA': 'Q', 'CAG': 'Q',\n",
    "        'AAU': 'N', 'AAC': 'N', 'AAA': 'K', 'AAG': 'K',        'GAU': 'D', 'GAC': 'D', 'GAA': 'E', 'GAG': 'E',\n",
    "\n",
    "        'UGU': 'C', 'UGC': 'C', 'UGA': '*', 'UGG': 'W',        'CGU': 'R', 'CGC': 'R', 'CGA': 'R', 'CGG': 'R',\n",
    "        'AGU': 'S', 'AGC': 'S', 'AGA': 'R', 'AGG': 'R',        'GGU': 'G', 'GGC': 'G', 'GGA': 'G', 'GGG': 'G',\n",
    "    }\n",
    "        tripletsList = []\n",
    "        newCodon =''\n",
    "    \n",
    "        for i in range(0,int(len(triplets) / 3)):\n",
    "            tripletsList.append(triplets[3*i:3*i+3].upper())\n",
    "    \n",
    "        for i in range (len(tripletsList)):\n",
    "            if tripletsList[i] in genetic_code:\n",
    "                newCodon += genetic_code[tripletsList[i]]\n",
    "            else:\n",
    "                return \"Invlid\"\n",
    "        return newCodon\n",
    "    \n",
    "    # Return the resulting string.\n",
    "    return rna2codons(dna2rna(dnaString))"
   ]
  },
  {
   "cell_type": "code",
   "execution_count": 35,
   "metadata": {},
   "outputs": [
    {
     "name": "stdout",
     "output_type": "stream",
     "text": [
      "Success for rna0!\n",
      "Success for rna1!\n",
      "Success for rna2!\n"
     ]
    }
   ],
   "source": [
    "# Here are some RNA strings you can test your function with.\n",
    "rna0 = 'TTTGTCTAGTGGGCGACTCGCCCAATAGACAACGGTTT'\n",
    "rna0_codon = 'KQITR*AGYLLP'\n",
    "rna1 = 'AGCTTTTCATTCTGACTGCAACGGGCAATATGTCTCTGTGTGGATTAAAAAAAGAGTGTCTGATAGCAGC'\n",
    "rna1_codon = 'SKSKTDVARYTETHLIFFSQTIV'\n",
    "rna2 = 'TGCA'\n",
    "rna2_codon = 'T'\n",
    "\n",
    "assert dna2codons(rna0) == rna0_codon,\"Test case rna0 failed\"\n",
    "print (\"Success for rna0!\")\n",
    "assert dna2codons(rna1) == rna1_codon,\"Test case rna1 failed\"\n",
    "print (\"Success for rna1!\")\n",
    "assert dna2codons(rna2) == rna2_codon,\"Test case rna2 failed\"\n",
    "print (\"Success for rna2!\")"
   ]
  },
  {
   "cell_type": "markdown",
   "metadata": {},
   "source": [
    "<div class=\"alert alert-danger\">\n",
    "Check in with your team and TA to make sure everyone understands concepts up through this point.\n",
    "</div>"
   ]
  },
  {
   "cell_type": "markdown",
   "metadata": {},
   "source": [
    "##  The Project Narrative (A Teaser)\n",
    "\n",
    "The woolly mammoth _Mammuthus primigenius_ reined over the [steppes](https://en.wikipedia.org/wiki/Mammoth_steppe) of the Northern Hemisphere for hundreds of thousands of years until their final extinction [around 2000 B.C.](https://en.wikipedia.org/wiki/Wrangel_Island#First_human_settlements_and_the_extinction_of_the_woolly_mammoth)  The shock of the end of the megafauna has been speculated to be the inflection point leading to the development of agriculture and civilization.\n",
    "\n",
    "![Rouffignac Cave possesses striking cave art images of the woolly mammoth.](https://www.bradshawfoundation.com/sn/rouffignac3.jpg)\n",
    "\n",
    "- [A Kabil, \"Could Reviving the Woolly Mammoth Help Solve Climate Change?\" (The Long Now Foundation)](https://blog.longnow.org/02017/03/28/reviving-woolly-mammoth-solve-climate-change/)\n",
    "- [\"Restoring the Ice Age Mammoth Steppe to Beat Climate Change\" (Palladium Podcast)](https://palladiummag.com/2020/03/02/palladium-podcast-27-restoring-the-ice-age-mammoth-steppe-to-beat-climate-change/)\n",
    "- [C Ciaccia, \"Woolly mammoth cells brought back to life in shocking scientific achievement\"](https://www.foxnews.com/science/woolly-mammoth-cells-brought-back-to-life-in-shocking-scientific-achievement)\n",
    "- [N R Longrich, \"How the extinction of ice age mammals may have forced us to invent civilisation\"](https://theconversation.com/how-the-extinction-of-ice-age-mammals-may-have-forced-us-to-invent-civilisation-128799)\n",
    "\n",
    "Since some estimates hold there to be \"10 million mammoths … still frozen in Siberia,\" and [DNA has a half-life of around 500 years](https://www.nature.com/news/dna-has-a-521-year-half-life-1.11555), it is plausible that sufficient genetic material survives to allow the mammoth to be revived.\n",
    "\n",
    "![](https://upload.wikimedia.org/wikipedia/commons/thumb/3/35/%D0%9E%D0%B7%D0%B5%D1%80%D0%BE_%D0%94%D1%83%D1%81-%D0%A5%D0%BE%D0%BB%D1%8C_%D0%B2%D0%B5%D1%87%D0%B5%D1%80%D0%BE%D0%BC._%D0%A2%D0%B5%D1%81-%D0%A5%D0%B5%D0%BC%D1%81%D0%BA%D0%B8%D0%B9_%D0%BA%D0%BE%D0%B6%D1%83%D1%83%D0%BD.jpg/1024px-%D0%9E%D0%B7%D0%B5%D1%80%D0%BE_%D0%94%D1%83%D1%81-%D0%A5%D0%BE%D0%BB%D1%8C_%D0%B2%D0%B5%D1%87%D0%B5%D1%80%D0%BE%D0%BC._%D0%A2%D0%B5%D1%81-%D0%A5%D0%B5%D0%BC%D1%81%D0%BA%D0%B8%D0%B9_%D0%BA%D0%BE%D0%B6%D1%83%D1%83%D0%BD.jpg)\n",
    "\n",
    "As a scientist working for PaleoGen, you have been tasked with sequencing and processing mammoth DNA data after these have been extracted and sequenced into computer format.  You need to prepare a number of standard tools for parsing and processing DNA data, after which point you will work on reconstructing the mammoth genome.\n",
    "\n",
    "- [\"Revival of the woolly mammoth\" (Wikipedia)](https://en.wikipedia.org/wiki/Revival_of_the_woolly_mammoth)\n",
    "- [E Palkopoulou et al., \"Complete Genomes Reveal Signatures of Demographic and Genetic Declines in the Woolly Mammoth\"](https://www.cell.com/current-biology/fulltext/S0960-9822(15)00420-0)\n",
    "- [N Rohland et al., \"Genomic DNA Sequences from Mastodon and Woolly Mammoth Reveal Deep Speciation of Forest and Savanna Elephants\"](https://journals.plos.org/plosbiology/article?id=10.1371/journal.pbio.1000564)\n",
    "- [The Mammoth Genome Project (Penn State)](http://mammoth.psu.edu/)\n",
    "- [D H Mann et al., \"Ice-age megafauna in Arctic Alaska: extinction, invasion, survival\"](https://www.sciencedirect.com/science/article/abs/pii/S0277379113001200)\n",
    "\n",
    "The project will consist of several milestones and a final report.  These will be made available to you on the main course page."
   ]
  }
 ],
 "metadata": {
  "anaconda-cloud": {},
  "kernelspec": {
   "display_name": "Python 3",
   "language": "python",
   "name": "python3"
  },
  "language_info": {
   "codemirror_mode": {
    "name": "ipython",
    "version": 3
   },
   "file_extension": ".py",
   "mimetype": "text/x-python",
   "name": "python",
   "nbconvert_exporter": "python",
   "pygments_lexer": "ipython3",
   "version": "3.8.6"
  }
 },
 "nbformat": 4,
 "nbformat_minor": 4
}
