{
 "cells": [
  {
   "cell_type": "markdown",
   "metadata": {},
   "source": [
    "# `lab04`—Probabilistic Language Prediction"
   ]
  },
  {
   "cell_type": "markdown",
   "metadata": {},
   "source": [
    "**Objectives**\n",
    "\n",
    "-   Work with online data sources (using the `requests` library).\n",
    "-   Learn the standard pipeline of data analysis:  data cleaning and preparation, data processing, and output."
   ]
  },
  {
   "cell_type": "markdown",
   "metadata": {},
   "source": [
    "### Language Letter Frequency"
   ]
  },
  {
   "cell_type": "markdown",
   "metadata": {},
   "source": [
    "A random sampling of English text produces approximately the following letter frequency distribution:\n",
    "\n",
    "<img src=\"./img/freq-eng.png\" width=\"80%;\"/>\n",
    "\n",
    "whereas Latin has the letter frequency distribution:\n",
    "\n",
    "<img src=\"./img/freq-lat.png\" width=\"80%;\"/>\n",
    "\n",
    "and Welsh has the letter frequency distribution:\n",
    "\n",
    "<img src=\"./img/freq-cym.png\" width=\"80%;\"/>\n",
    "\n",
    "Each language tends to have a unique \"fingerprint\" because of the relative frequency of letters and sounds.  Such letter frequency information could be used, for instance, to determine how much type should be ordered for a letterpress, or how many tiles should be included in a country-specific version of Scrabble.\n",
    "\n",
    "Today you will use this fingerprint to assign rough probabilities to the likely language of a given text sample in an unknown language.  (This is similar to what [Google Translate](https://translate.google.com/) does when it auto-detects the language of a text sample, except that it uses whole words instead of letter frequencies to make its guess.)\n",
    "\n",
    "There are three steps in the data processing pipeline for you to complete today:\n",
    "\n",
    "1.  Count the frequency of each letter in the text sample.  Then divide the resulting list of frequencies by the total number of letters.  (That is, *normalize* the frequencies.)\n",
    "1.  Load the reference language frequencies.\n",
    "1.  Predict the most likely language based on comparing the text letter frequency with each of the reference frequencies.\n",
    "\n",
    "Our intent is to reproduce this toolset:\n",
    "\n",
    "![](./img/flowchart.png)\n",
    "\n",
    "You will use and/or compose these several functions in order to extract information from the data sources (here listed as \"language files\" and use it to study text samples.\n",
    "\n",
    "<br/>\n",
    "<div class=\"alert alert-info\">\n",
    "We will restrict ourselves to the 26 letters of the basic Latin alphabet, disallowing diacritics ('naïve'→'naive'), accents ('recherché'→'recherche'), and nonbasic letters ('Skjærvø'→'Skjarvo').  (We regret this rank ASCIIcentrism.)\n",
    "</div>"
   ]
  },
  {
   "cell_type": "markdown",
   "metadata": {},
   "source": [
    "### 1.  Calculate the normalized letter frequencies."
   ]
  },
  {
   "cell_type": "markdown",
   "metadata": {},
   "source": [
    "In order to calculate letter frequencies, you need a list of letters and the string in all upper-case letters.  To avoid confusion, we will rename this built-in string `ascii_uppercase` as `alphabet` when we `import` it."
   ]
  },
  {
   "cell_type": "code",
   "execution_count": 3,
   "metadata": {},
   "outputs": [
    {
     "name": "stdout",
     "output_type": "stream",
     "text": [
      "ABCDEFGHIJKLMNOPQRSTUVWXYZ\n"
     ]
    }
   ],
   "source": [
    "#grade\n",
    "from string import ascii_uppercase as alphabet\n",
    "# use `alphabet` as ascii_uppercase from now on\n",
    "print(alphabet)"
   ]
  },
  {
   "cell_type": "code",
   "execution_count": 4,
   "metadata": {},
   "outputs": [
    {
     "name": "stdout",
     "output_type": "stream",
     "text": [
      "JACKDAWS LOVE MY BIG SPHINX OF QUARTZ.\n"
     ]
    }
   ],
   "source": [
    "#grade\n",
    "# Our example text.\n",
    "text = 'Jackdaws love my big Sphinx of Quartz.'\n",
    "text = text.upper()\n",
    "print(text)"
   ]
  },
  {
   "cell_type": "markdown",
   "metadata": {},
   "source": [
    "Next we create an empty frequency dictionary `letter_freq`.  Loop over each letter of the `alphabet` and `count` the number of times each letter occurs in `text`.  Add this count to `letter_freq`."
   ]
  },
  {
   "cell_type": "code",
   "execution_count": 5,
   "metadata": {},
   "outputs": [
    {
     "data": {
      "text/plain": [
       "{'A': 3,\n",
       " 'B': 1,\n",
       " 'C': 1,\n",
       " 'D': 1,\n",
       " 'E': 1,\n",
       " 'F': 1,\n",
       " 'G': 1,\n",
       " 'H': 1,\n",
       " 'I': 2,\n",
       " 'J': 1,\n",
       " 'K': 1,\n",
       " 'L': 1,\n",
       " 'M': 1,\n",
       " 'N': 1,\n",
       " 'O': 2,\n",
       " 'P': 1,\n",
       " 'Q': 1,\n",
       " 'R': 1,\n",
       " 'S': 2,\n",
       " 'T': 1,\n",
       " 'U': 1,\n",
       " 'V': 1,\n",
       " 'W': 1,\n",
       " 'X': 1,\n",
       " 'Y': 1,\n",
       " 'Z': 1}"
      ]
     },
     "execution_count": 5,
     "metadata": {},
     "output_type": "execute_result"
    }
   ],
   "source": [
    "#grade\n",
    "letter_freq = {}  # a blank dictionary\n",
    "\n",
    "# Loop over the alphabet.\n",
    "for letter in alphabet:\n",
    "    # For each letter, get the number of times it occurs in the string `text`.\n",
    "    letter_count = text.count(letter)\n",
    "    letter_freq[letter] = letter_count\n",
    "\n",
    "letter_freq"
   ]
  },
  {
   "cell_type": "markdown",
   "metadata": {},
   "source": [
    "The final step is to normalize the values.  To do this, we need to calculate the total number of letters in `text` (letters, NOT whitespace or punctuation).  Since this is a bit involved, the following lines of code will give us a copy of `text` without whitespace or punctuation:"
   ]
  },
  {
   "cell_type": "code",
   "execution_count": 7,
   "metadata": {},
   "outputs": [
    {
     "name": "stdout",
     "output_type": "stream",
     "text": [
      " \t\n",
      "\u000b",
      "\f",
      " !\"#$%&'()*+,-./:;<=>?@[\\]^_`{|}~ 0123456789\n"
     ]
    }
   ],
   "source": [
    "#grade\n",
    "# These are built-in collections of characters, useful for just this sort of filtering.\n",
    "from string import whitespace, punctuation, digits\n",
    "print(whitespace, punctuation, digits)\n",
    "for character in whitespace+punctuation+digits:\n",
    "    text = text.replace(character, '')"
   ]
  },
  {
   "cell_type": "markdown",
   "metadata": {},
   "source": [
    "Now set each frequency value in the dictionary to its normalized value."
   ]
  },
  {
   "cell_type": "code",
   "execution_count": 8,
   "metadata": {},
   "outputs": [
    {
     "data": {
      "text/plain": [
       "{'A': 0.0967741935483871,\n",
       " 'B': 0.03225806451612903,\n",
       " 'C': 0.03225806451612903,\n",
       " 'D': 0.03225806451612903,\n",
       " 'E': 0.03225806451612903,\n",
       " 'F': 0.03225806451612903,\n",
       " 'G': 0.03225806451612903,\n",
       " 'H': 0.03225806451612903,\n",
       " 'I': 0.06451612903225806,\n",
       " 'J': 0.03225806451612903,\n",
       " 'K': 0.03225806451612903,\n",
       " 'L': 0.03225806451612903,\n",
       " 'M': 0.03225806451612903,\n",
       " 'N': 0.03225806451612903,\n",
       " 'O': 0.06451612903225806,\n",
       " 'P': 0.03225806451612903,\n",
       " 'Q': 0.03225806451612903,\n",
       " 'R': 0.03225806451612903,\n",
       " 'S': 0.06451612903225806,\n",
       " 'T': 0.03225806451612903,\n",
       " 'U': 0.03225806451612903,\n",
       " 'V': 0.03225806451612903,\n",
       " 'W': 0.03225806451612903,\n",
       " 'X': 0.03225806451612903,\n",
       " 'Y': 0.03225806451612903,\n",
       " 'Z': 0.03225806451612903}"
      ]
     },
     "execution_count": 8,
     "metadata": {},
     "output_type": "execute_result"
    }
   ],
   "source": [
    "#grade\n",
    "for key in letter_freq.keys():\n",
    "    letter_freq[key] = letter_freq[key] / len(text)\n",
    "letter_freq"
   ]
  },
  {
   "cell_type": "markdown",
   "metadata": {},
   "source": [
    "Now we will turn the above process into a general function to process a string into its letter frequency."
   ]
  },
  {
   "cell_type": "markdown",
   "metadata": {},
   "source": [
    "### <span style=\"color:#345995\">Exercise 1: Calculate the Normalized Letter Frequencies</span>\n",
    "\n",
    "Compose a function `calc_freq` which accepts a string `text`.  `calc_freq` should `return` a dictionary containing the normalized frequency by letter.\n",
    "    \n",
    "You should use the above process just outlined to write this function.\n",
    "    \n",
    "<div class=\"alert alert-warning\">\n",
    "When diagnosing the behavior of your code, we encourage you to use `print` statements freely.\n",
    "</div>"
   ]
  },
  {
   "cell_type": "code",
   "execution_count": 21,
   "metadata": {},
   "outputs": [],
   "source": [
    "#grade\n",
    "# define your function here\n",
    "from string import whitespace, punctuation, digits\n",
    "from string import ascii_uppercase as alphabet\n",
    "\n",
    "def calc_freq(text):\n",
    "    '''\n",
    "    Calculate the frequency in the text of each letter\n",
    "    Args:\n",
    "        string: a piece of text \n",
    "    Returns:\n",
    "        dict: the frequency of each letter in a dictionary (e.g. letter_freq['A'] gives 0.06)\n",
    "    '''\n",
    "    # Create an empty frequency dictionary letter_freq.\n",
    "    letter_freq_dict = {}\n",
    "    \n",
    "    # Initialize values in the letter_freq_dict\n",
    "    ## YOUR CODE HERE\n",
    "    \n",
    "    # Make text upper-case.\n",
    "    text = text.upper()\n",
    "    \n",
    "    # Loop over each letter of the alphabet:\n",
    "    for letter in alphabet:\n",
    "        letter_count = text.count(letter)\n",
    "        letter_freq_dict[letter] = letter_count # Count the number of times each letter occurs in text.\n",
    "        # Add this count to letter_freq.\n",
    "    \n",
    "    # Make a copy of text without non-alphabet characters.\n",
    "    from string import whitespace, punctuation, digits\n",
    "    for character in whitespace+punctuation+digits:\n",
    "        text = text.replace(character, '')\n",
    "    \n",
    "    # Normalize the frequencies and put the results back into letter_freq.\n",
    "    for key in letter_freq.keys():\n",
    "        letter_freq_dict[key] = letter_freq_dict[key] / len(text)\n",
    "    \n",
    "    # Finally, return the dict letter_freq.\n",
    "    return letter_freq_dict"
   ]
  },
  {
   "cell_type": "code",
   "execution_count": 22,
   "metadata": {},
   "outputs": [
    {
     "data": {
      "text/plain": [
       "{'A': 0.065625,\n",
       " 'B': 0.00625,\n",
       " 'C': 0.025,\n",
       " 'D': 0.05,\n",
       " 'E': 0.10625,\n",
       " 'F': 0.03125,\n",
       " 'G': 0.025,\n",
       " 'H': 0.071875,\n",
       " 'I': 0.078125,\n",
       " 'J': 0.0,\n",
       " 'K': 0.00625,\n",
       " 'L': 0.0125,\n",
       " 'M': 0.028125,\n",
       " 'N': 0.109375,\n",
       " 'O': 0.065625,\n",
       " 'P': 0.0125,\n",
       " 'Q': 0.0,\n",
       " 'R': 0.0625,\n",
       " 'S': 0.075,\n",
       " 'T': 0.10625,\n",
       " 'U': 0.040625,\n",
       " 'V': 0.00625,\n",
       " 'W': 0.009375,\n",
       " 'X': 0.0,\n",
       " 'Y': 0.00625,\n",
       " 'Z': 0.0}"
      ]
     },
     "execution_count": 22,
     "metadata": {},
     "output_type": "execute_result"
    }
   ],
   "source": [
    "# test your code here.  You may edit this cell, and you may use any sample text, but the following is provided for convenience.\n",
    "text = \"\"\"Neither the naked hand nor the understanding left to itself can effect much. It is by instruments and helps that the work is done,\n",
    "which are as much wanted for the understanding as for the hand. And as the instruments of the hand either give motion or guide it, so the\n",
    "instruments of the mind supply either suggestions for the understanding or cautions.  (Francis Bacon, Novum Organon, Aphorism II)\"\"\"\n",
    "calc_freq(text)"
   ]
  },
  {
   "cell_type": "code",
   "execution_count": 23,
   "metadata": {},
   "outputs": [
    {
     "name": "stdout",
     "output_type": "stream",
     "text": [
      "Success!\n"
     ]
    }
   ],
   "source": [
    "# it should pass this test---do NOT edit this cell\n",
    "from numpy import isclose\n",
    "test_text1 = \"\"\"The study of nature with a view to works is engaged in by the mechanic, the mathematician, the physician, the alchemist, and\n",
    "the magician; but by all (as things now are) with slight endeavor and scanty success.  (Francis Bacon, Novum Organon, Aphorism V)\"\"\"\n",
    "result_text1 = calc_freq(test_text1)\n",
    "assert isclose(result_text1['T'], 0.09045226130653267) and \\\n",
    "       isclose(result_text1['Q'], 0.0) and \\\n",
    "       isclose(result_text1['Y'], 0.0251256281407035)\n",
    "print('Success!')"
   ]
  },
  {
   "cell_type": "code",
   "execution_count": 24,
   "metadata": {},
   "outputs": [
    {
     "name": "stdout",
     "output_type": "stream",
     "text": [
      "Success!\n"
     ]
    }
   ],
   "source": [
    "# it should pass this test---do NOT edit this cell\n",
    "test_text2 = \"\"\"In order to penetrate into the inner and further recesses of nature, it is necessary that both notions and axioms be derived\n",
    "from things by a more sure and guarded way, and that a method of intellectual operation be introduced altogether better and more certain.\n",
    "(Francis Bacon, Novum Organon, Aphorism XVIII)\"\"\"\n",
    "result_text2 = calc_freq(test_text2)\n",
    "assert isclose(result_text2['K'], 0.0) and \\\n",
    "       isclose(result_text2['N'], 0.09523809523809523) and \\\n",
    "       isclose(result_text2['L'], 0.015873015873015872)\n",
    "print('Success!')"
   ]
  },
  {
   "cell_type": "markdown",
   "metadata": {},
   "source": [
    "### 2.  Load the reference language frequencies."
   ]
  },
  {
   "cell_type": "markdown",
   "metadata": {},
   "source": [
    "Each language has a characteristic pattern of letter frequencies.  In previous labs, we stored data like these on the disk as files.  This time, we will use the `requests` library to acquire data available on the Web.  Reference frequencies for the following languages are available.  (These frequencies are derived from the work of Stefan Trost<sup>[[Trost2015](http://www.sttmedia.com/characterfrequencies)]</sup> and used with his permission.)\n",
    "\n",
    "- [Afrikaans](https://raw.githubusercontent.com/UI-CS101/cs101-fa16/master/lab07/afrikaans)\n",
    "- [Catalan](https://raw.githubusercontent.com/UI-CS101/cs101-fa16/master/lab07/catalan)\n",
    "- [Danish](https://raw.githubusercontent.com/UI-CS101/cs101-fa16/master/lab07/danish)\n",
    "- [English](https://raw.githubusercontent.com/UI-CS101/cs101-fa16/master/lab07/english)\n",
    "- [Finnish](https://raw.githubusercontent.com/UI-CS101/cs101-fa16/master/lab07/finnish)\n",
    "- [French](https://raw.githubusercontent.com/UI-CS101/cs101-fa16/master/lab07/french)\n",
    "- [German](https://raw.githubusercontent.com/UI-CS101/cs101-fa16/master/lab07/german)\n",
    "- [Latin](https://raw.githubusercontent.com/UI-CS101/cs101-fa16/master/lab07/latin)\n",
    "- [Polish](https://raw.githubusercontent.com/UI-CS101/cs101-fa16/master/lab07/polish)\n",
    "- [Portuguese](https://raw.githubusercontent.com/UI-CS101/cs101-fa16/master/lab07/portuguese)\n",
    "- [Spanish](https://raw.githubusercontent.com/UI-CS101/cs101-fa16/master/lab07/spanish)\n",
    "- [Welsh](https://raw.githubusercontent.com/UI-CS101/cs101-fa16/master/lab07/welsh)"
   ]
  },
  {
   "cell_type": "code",
   "execution_count": 65,
   "metadata": {},
   "outputs": [],
   "source": [
    "#grade\n",
    "import requests\n",
    "# example_data = requests.get( 'https://raw.githubusercontent.com/UI-CS101/cs101-wiki/master/lab07/danish' )\n",
    "# print( example_data.text )"
   ]
  },
  {
   "cell_type": "markdown",
   "metadata": {},
   "source": [
    "In order to obtain the reference language frequencies, you will first write a function `load_ref` to load a given language reference URL.  You will write a function `load_languages` which uses `load_ref` with a list of available languages to create a `dict` of all of the language frequencies available.\n",
    "\n",
    "Take a look at the format of `example_data` (Danish):\n",
    "    \n",
    "    A,8.27%\n",
    "    B,1.42%\n",
    "    C,0.45%\n",
    "    ...\n",
    "\n",
    "If you wanted to read this into a dictionary, you could take each line and split it by the comma.\n",
    "\n",
    "Since you want to include the second part as a `float`, you need to convert it.  Try this out directly (but it will fail):"
   ]
  },
  {
   "cell_type": "code",
   "execution_count": 26,
   "metadata": {},
   "outputs": [
    {
     "ename": "ValueError",
     "evalue": "could not convert string to float: '8.27%'",
     "output_type": "error",
     "traceback": [
      "\u001b[0;31m---------------------------------------------------------------------------\u001b[0m",
      "\u001b[0;31mValueError\u001b[0m                                Traceback (most recent call last)",
      "\u001b[0;32m<ipython-input-26-f6fcbef741fa>\u001b[0m in \u001b[0;36m<module>\u001b[0;34m\u001b[0m\n\u001b[1;32m      1\u001b[0m \u001b[0mtestDict\u001b[0m \u001b[0;34m=\u001b[0m \u001b[0;34m{\u001b[0m\u001b[0;34m}\u001b[0m\u001b[0;34m\u001b[0m\u001b[0;34m\u001b[0m\u001b[0m\n\u001b[0;32m----> 2\u001b[0;31m \u001b[0mtestDict\u001b[0m\u001b[0;34m[\u001b[0m\u001b[0;34m'A'\u001b[0m\u001b[0;34m]\u001b[0m \u001b[0;34m=\u001b[0m \u001b[0mfloat\u001b[0m\u001b[0;34m(\u001b[0m\u001b[0;34m'8.27%'\u001b[0m\u001b[0;34m)\u001b[0m\u001b[0;34m\u001b[0m\u001b[0;34m\u001b[0m\u001b[0m\n\u001b[0m",
      "\u001b[0;31mValueError\u001b[0m: could not convert string to float: '8.27%'"
     ]
    }
   ],
   "source": [
    "testDict = {}\n",
    "testDict['A'] = float('8.27%')"
   ]
  },
  {
   "cell_type": "markdown",
   "metadata": {},
   "source": [
    "<div class=\"alert alert-danger\">\n",
    "The problem is that Python doesn't know if the percent sign in the string is supposed to be a string format marker or actually a percent sign, so it doesn't correctly parse this string into a `float`.\n",
    "</div>"
   ]
  },
  {
   "cell_type": "markdown",
   "metadata": {},
   "source": [
    "### <span style=\"color:#345995\">Exercise 2: Convert Percentage Strings to `float`s</span>\n",
    "\n",
    "In order to convert a string of a percent value into a float, compose a function `p2f` (short for `percentToFloat`) which accepts a string `value`.  `p2f` `strip`s the percent sign off of the string `value`, converts this to a `float`, and then divides by `100` and `return`s the result.  (Python provides a function `round` which you may elect to use here to simplify the result, but this is not required.)"
   ]
  },
  {
   "cell_type": "code",
   "execution_count": 27,
   "metadata": {},
   "outputs": [
    {
     "name": "stdout",
     "output_type": "stream",
     "text": [
      "hi hello.\n"
     ]
    }
   ],
   "source": [
    "# str.strip() example\n",
    "a = ' hi hello.     '\n",
    "print(a.strip())"
   ]
  },
  {
   "cell_type": "code",
   "execution_count": 28,
   "metadata": {},
   "outputs": [
    {
     "name": "stdout",
     "output_type": "stream",
     "text": [
      "hihello.\n"
     ]
    }
   ],
   "source": [
    "# str.replace() example\n",
    "a = ' hi hello.     '\n",
    "print(a.replace(\" \", \"\"))"
   ]
  },
  {
   "cell_type": "code",
   "execution_count": 45,
   "metadata": {},
   "outputs": [],
   "source": [
    "#grade\n",
    "# define your function here\n",
    "def p2f(value):\n",
    "    '''\n",
    "    Take a string in the format of '8.27%', \n",
    "    and convert it to a number (0.0827 in this case).\n",
    "    Args:\n",
    "        string: n%\n",
    "    Returns:\n",
    "        float: a number between 0 and 1\n",
    "    '''\n",
    "    # Strip any whitespace and then strip the percent sign off of value.\n",
    "    value = value.strip().replace(\"%\" ,\"\")\n",
    "    \n",
    "    # Convert the result to a float and divide by 100.\n",
    "    \n",
    "    result = float(value) / 100\n",
    "    \n",
    "    # Finally, return the result.\n",
    "    return result"
   ]
  },
  {
   "cell_type": "code",
   "execution_count": 46,
   "metadata": {},
   "outputs": [
    {
     "data": {
      "text/plain": [
       "0.055999999999999994"
      ]
     },
     "execution_count": 46,
     "metadata": {},
     "output_type": "execute_result"
    }
   ],
   "source": [
    "# test your code here.  You may edit this cell, and you may use any sample value, but the following is provided for convenience.\n",
    "value = \"5.6%\"\n",
    "p2f(value)"
   ]
  },
  {
   "cell_type": "code",
   "execution_count": 47,
   "metadata": {},
   "outputs": [
    {
     "name": "stdout",
     "output_type": "stream",
     "text": [
      "Success!\n"
     ]
    }
   ],
   "source": [
    "# it should pass this test---do NOT edit this cell\n",
    "from numpy import isclose\n",
    "assert isclose(p2f('1.79%'), 0.0179)\n",
    "print('Success!')"
   ]
  },
  {
   "cell_type": "markdown",
   "metadata": {},
   "source": [
    "Now try to add to the dictionary:"
   ]
  },
  {
   "cell_type": "code",
   "execution_count": 62,
   "metadata": {},
   "outputs": [],
   "source": [
    "testDict = {}\n",
    "testDict['A'] = p2f('8.27%')"
   ]
  },
  {
   "cell_type": "markdown",
   "metadata": {},
   "source": [
    "### <span style=\"color:#345995\">Exercise 3: Open Web Data</span>\n",
    "\n",
    "Compose a function `open_url` which accepts a string `language`.  `open_url` should `return` a `str` containing the reference language letter frequencies stored at the URL of the form given below."
   ]
  },
  {
   "cell_type": "code",
   "execution_count": 57,
   "metadata": {},
   "outputs": [
    {
     "data": {
      "text/plain": [
       "'A,9.16%\\nB,1.93%\\nC,4.49%\\nD,3.35%\\nE,9.81%\\nF,0.26%\\nG,1.46%\\nH,1.25%\\nI,8.83%\\nJ,2.28%\\nK,3.01%\\nL,4.62%\\nM,2.81%\\nN,5.85%\\nO,8.32%\\nP,2.87%\\nQ,0.00%\\nR,4.15%\\nS,4.85%\\nT,3.85%\\nU,2.06%\\nV,0.00%\\nW,4.11%\\nX,0.00%\\nY,4.03%\\nZ,5.50%\\n'"
      ]
     },
     "execution_count": 57,
     "metadata": {},
     "output_type": "execute_result"
    }
   ],
   "source": [
    "# test your code here.  You may edit this cell, and you may use any language listed above, but the following is provided for convenience.\n",
    "language = 'polish'\n",
    "open_url(language)"
   ]
  },
  {
   "cell_type": "code",
   "execution_count": 55,
   "metadata": {},
   "outputs": [],
   "source": [
    "#grade\n",
    "languageNames = [ 'afrikaans','catalan','danish','english','finnish','french',\n",
    "                  'german','latin','polish','portuguese','spanish','welsh' ]\n",
    "Lang = {}\n",
    "Lang['afrikaans'] = \"\"\"A,7.94%\n",
    "B,1.60%\n",
    "C,0.30%\n",
    "D,5.76%\n",
    "E,18.12%\n",
    "F,0.80%\n",
    "G,3.58%\n",
    "H,1.69%\n",
    "I,8.47%\n",
    "J,0.32%\n",
    "K,3.07%\n",
    "L,4.03%\n",
    "M,2.18%\n",
    "N,8.07%\n",
    "O,5.98%\n",
    "P,1.48%\n",
    "Q,0.01%\n",
    "R,6.52%\n",
    "S,6.89%\n",
    "T,5.74%\n",
    "U,2.27%\n",
    "V,2.27%\n",
    "W,1.87%\n",
    "X,0.02%\n",
    "Y,0.99%\n",
    "Z,0.04%\n",
    "\"\"\"\n",
    "Lang['catalan']=\"\"\"A,13.35%\n",
    "B,1.48%\n",
    "C,3.36%\n",
    "D,3.36%\n",
    "E,14.21%\n",
    "F,0.82%\n",
    "G,1.24%\n",
    "H,0.82%\n",
    "I,6.50%\n",
    "J,0.39%\n",
    "K,0.11%\n",
    "L,6.41%\n",
    "M,3.49%\n",
    "N,6.20%\n",
    "O,5.38%\n",
    "P,2.93%\n",
    "Q,1.27%\n",
    "R,7.12%\n",
    "S,7.94%\n",
    "T,6.31%\n",
    "U,4.27%\n",
    "V,2.17%\n",
    "W,0.04%\n",
    "X,0.51%\n",
    "Y,0.15%\n",
    "Z,0.10%\n",
    "\"\"\"\n",
    "Lang['danish']=\"\"\"A,8.27%\n",
    "B,1.42%\n",
    "C,0.45%\n",
    "D,6.65%\n",
    "E,16.09%\n",
    "F,2.20%\n",
    "G,4.88%\n",
    "H,2.40%\n",
    "I,5.73%\n",
    "J,0.94%\n",
    "K,3.26%\n",
    "L,4.90%\n",
    "M,3.29%\n",
    "N,7.32%\n",
    "O,5.32%\n",
    "P,1.31%\n",
    "Q,0.01%\n",
    "R,7.63%\n",
    "S,5.18%\n",
    "T,7.19%\n",
    "U,1.88%\n",
    "V,2.90%\n",
    "W,0.08%\n",
    "X,0.05%\n",
    "Y,0.51%\n",
    "Z,0.04%\n",
    "\"\"\"\n",
    "Lang['english'] = \"\"\"A,8.34%\n",
    "B,1.54%\n",
    "C,2.73%\n",
    "D,4.14%\n",
    "E,12.60%\n",
    "F,2.03%\n",
    "G,1.92%\n",
    "H,6.11%\n",
    "I,6.71%\n",
    "J,0.23%\n",
    "K,0.87%\n",
    "L,4.24%\n",
    "M,2.53%\n",
    "N,6.80%\n",
    "O,7.70%\n",
    "P,1.66%\n",
    "Q,0.09%\n",
    "R,5.68%\n",
    "S,6.11%\n",
    "T,9.37%\n",
    "U,2.85%\n",
    "V,1.06%\n",
    "W,2.34%\n",
    "X,0.20%\n",
    "Y,2.04%\n",
    "Z,0.06%\n",
    "\"\"\"\n",
    "Lang['finnish']=\"\"\"A,16.66%\n",
    "B,0.12%\n",
    "C,0.27%\n",
    "D,0.91%\n",
    "E,8.42%\n",
    "F,0.09%\n",
    "G,0.30%\n",
    "H,2.49%\n",
    "I,10.46%\n",
    "J,2.07%\n",
    "K,4.92%\n",
    "L,5.87%\n",
    "M,3.18%\n",
    "N,9.14%\n",
    "O,5.89%\n",
    "P,1.77%\n",
    "Q,0.01%\n",
    "R,2.15%\n",
    "S,6.59%\n",
    "T,9.68%\n",
    "U,4.67%\n",
    "V,2.45%\n",
    "W,0.06%\n",
    "X,0.03%\n",
    "Y,1.71%\n",
    "Z,0.04%\n",
    "\"\"\"\n",
    "Lang['french']=\"\"\"A,8.70%\n",
    "B,0.93%\n",
    "C,3.15%\n",
    "D,3.55%\n",
    "E,17.83%\n",
    "F,0.96%\n",
    "G,0.97%\n",
    "H,1.08%\n",
    "I,6.97%\n",
    "J,0.71%\n",
    "K,0.16%\n",
    "L,5.68%\n",
    "M,3.23%\n",
    "N,6.42%\n",
    "O,5.35%\n",
    "P,3.03%\n",
    "Q,0.89%\n",
    "R,6.43%\n",
    "S,7.91%\n",
    "T,7.11%\n",
    "U,6.14%\n",
    "V,1.83%\n",
    "W,0.04%\n",
    "X,0.42%\n",
    "Y,0.19%\n",
    "Z,0.21%\n",
    "\"\"\"\n",
    "Lang['german']=\"\"\"A,6.12%\n",
    "B,1.96%\n",
    "C,3.16%\n",
    "D,4.98%\n",
    "E,16.93%\n",
    "F,1.49%\n",
    "G,3.02%\n",
    "H,4.98%\n",
    "I,8.02%\n",
    "J,0.24%\n",
    "K,1.32%\n",
    "L,3.60%\n",
    "M,2.55%\n",
    "N,10.53%\n",
    "O,2.54%\n",
    "P,0.67%\n",
    "Q,0.02%\n",
    "R,6.89%\n",
    "S,7.16%\n",
    "T,5.79%\n",
    "U,4.48%\n",
    "V,0.84%\n",
    "W,1.78%\n",
    "X,0.05%\n",
    "Y,0.05%\n",
    "Z,1.21%\n",
    "\"\"\"\n",
    "Lang['latin']=\"\"\"A,8.89%\n",
    "B,1.58%\n",
    "C,3.99%\n",
    "D,2.77%\n",
    "E,11.38%\n",
    "F,0.93%\n",
    "G,1.21%\n",
    "H,0.69%\n",
    "I,11.44%\n",
    "J,0.00%\n",
    "K,0.00%\n",
    "L,3.15%\n",
    "M,5.38%\n",
    "N,6.28%\n",
    "O,5.40%\n",
    "P,3.03%\n",
    "Q,1.51%\n",
    "R,6.67%\n",
    "S,7.60%\n",
    "T,8.00%\n",
    "U,8.46%\n",
    "V,0.96%\n",
    "W,0.00%\n",
    "X,0.60%\n",
    "Y,0.07%\n",
    "Z,0.01%\n",
    "\"\"\"\n",
    "Lang['polish']=\"\"\"A,9.16%\n",
    "B,1.93%\n",
    "C,4.49%\n",
    "D,3.35%\n",
    "E,9.81%\n",
    "F,0.26%\n",
    "G,1.46%\n",
    "H,1.25%\n",
    "I,8.83%\n",
    "J,2.28%\n",
    "K,3.01%\n",
    "L,4.62%\n",
    "M,2.81%\n",
    "N,5.85%\n",
    "O,8.32%\n",
    "P,2.87%\n",
    "Q,0.00%\n",
    "R,4.15%\n",
    "S,4.85%\n",
    "T,3.85%\n",
    "U,2.06%\n",
    "V,0.00%\n",
    "W,4.11%\n",
    "X,0.00%\n",
    "Y,4.03%\n",
    "Z,5.50%\n",
    "\"\"\"\n",
    "Lang['portuguese']=\"\"\"A,13.52%\n",
    "B,1.01%\n",
    "C,3.75%\n",
    "D,4.21%\n",
    "E,14.07%\n",
    "F,1.07%\n",
    "G,1.08%\n",
    "H,1.22%\n",
    "I,5.67%\n",
    "J,0.30%\n",
    "K,0.13%\n",
    "L,3.00%\n",
    "M,5.07%\n",
    "N,5.02%\n",
    "O,10.44%\n",
    "P,3.01%\n",
    "Q,1.10%\n",
    "R,6.73%\n",
    "S,7.35%\n",
    "T,5.07%\n",
    "U,4.57%\n",
    "V,1.72%\n",
    "W,0.05%\n",
    "X,0.28%\n",
    "Y,0.04%\n",
    "Z,0.45%\n",
    "\"\"\"\n",
    "Lang['spanish']=\"\"\"A,12.16%\n",
    "B,1.49%\n",
    "C,3.87%\n",
    "D,4.67%\n",
    "E,14.08%\n",
    "F,0.69%\n",
    "G,1.00%\n",
    "H,1.18%\n",
    "I,5.98%\n",
    "J,0.52%\n",
    "K,0.11%\n",
    "L,5.24%\n",
    "M,3.08%\n",
    "N,7.00%\n",
    "O,9.20%\n",
    "P,2.89%\n",
    "Q,1.11%\n",
    "R,6.41%\n",
    "S,7.20%\n",
    "T,4.60%\n",
    "U,4.69%\n",
    "V,1.05%\n",
    "W,0.04%\n",
    "X,0.14%\n",
    "Y,1.09%\n",
    "Z,0.47%\n",
    "\"\"\"\n",
    "Lang['welsh']=\"\"\"A,9.36%\n",
    "B,1.82%\n",
    "C,2.89%\n",
    "D,9.88%\n",
    "E,8.31%\n",
    "F,3.12%\n",
    "G,3.41%\n",
    "H,3.87%\n",
    "I,6.98%\n",
    "J,0.13%\n",
    "K,0.00%\n",
    "L,5.03%\n",
    "M,2.48%\n",
    "N,8.12%\n",
    "O,5.59%\n",
    "P,0.91%\n",
    "Q,0.00%\n",
    "R,6.52%\n",
    "S,2.91%\n",
    "T,2.84%\n",
    "U,2.58%\n",
    "V,0.00%\n",
    "W,3.98%\n",
    "X,0.00%\n",
    "Y,8.49%\n",
    "Z,0.00%\n",
    "\"\"\"\n",
    "def open_url( language ):\n",
    "    '''\n",
    "    Open the language URL using `requests` and read the data out via the text attribute.\n",
    "    The URL you need is of the form\n",
    "       https://raw.githubusercontent.com/UI-CS101/cs101-fa16/master/lab07/language\n",
    "    where you'll replace language with the string passed in (think of string format operators).\n",
    "    For instance, if language == 'english', then the URL should be\n",
    "       https://raw.githubusercontent.com/UI-CS101/cs101-fa16/master/lab07/english\n",
    "    Args:\n",
    "        string: language name\n",
    "    Returns:\n",
    "        The text found at the url\n",
    "    '''\n",
    "    \n",
    "#     url_prefix = 'https://raw.githubusercontent.com/UI-CS101/cs101-fa16/master/lab07/'\n",
    "#     url_suffix = ## YOUR CODE HERE \n",
    "    \n",
    "#     # Construct url here from `url_prefix` and `language`\n",
    "#     url = url_prefix + url_suffix\n",
    "#     # Read the data from the url, using the requests library's .get() function\n",
    "#     language_data = requests.get( url ).text\n",
    "    language_data = Lang[language]\n",
    "\n",
    "    # Finally, return the string `language_data`.\n",
    "    return language_data"
   ]
  },
  {
   "cell_type": "code",
   "execution_count": 56,
   "metadata": {},
   "outputs": [
    {
     "name": "stdout",
     "output_type": "stream",
     "text": [
      "Success!\n"
     ]
    }
   ],
   "source": [
    "# it should pass this test---do NOT edit this cell\n",
    "from numpy import isclose\n",
    "test_ref = open_url('english')\n",
    "assert test_ref.split('\\n')[0] == 'A,8.34%'\n",
    "assert len(test_ref) == 209\n",
    "print('Success!')"
   ]
  },
  {
   "cell_type": "markdown",
   "metadata": {},
   "source": [
    "### <span style=\"color:#345995\">Exercise 4: Parse Web Data</span>\n",
    "\n",
    "Compose a function `load_ref` which accepts a string `language`.  `load_ref` should `return` a `dict` containing the reference language letter frequencies stored at the correct URL (using `open_url`)."
   ]
  },
  {
   "cell_type": "code",
   "execution_count": 73,
   "metadata": {},
   "outputs": [],
   "source": [
    "#grade\n",
    "def load_ref( language ):\n",
    "    '''\n",
    "    Open the language URL using `open_url` and read the data out via the text attribute.\n",
    "    Then, parse the text line by line, and store the values in a dictionary.\n",
    "    Args:\n",
    "        string: language name\n",
    "    Returns:\n",
    "        dict: The predicted distribution of each character in the given language\n",
    "              in the format of {letter: percentage} ('A': 0.08, 'B\": 0.065 ...)\n",
    "    '''\n",
    "\n",
    "    # Create an empty dictionary called `languages`.\n",
    "    languages = {}\n",
    "    \n",
    "    # Open the language URL.\n",
    "    data = open_url( language ) # data is a string\n",
    "    data = data.strip().split( \"\\n\" ) #convert it from a string to a list\n",
    "    \n",
    "    # Loop over each line in the data.\n",
    "    for line in data: \n",
    "        # Split each line at the comma.\n",
    "        data = line.split(\",\")\n",
    "        # The first part should be assigned to a variable `letter`\n",
    "        letter = data[0]\n",
    "        # the second part to a variable `frequency`.\n",
    "        frequency = data[1]\n",
    "        \n",
    "        # Add the second part (the frequency) to the dictionary as the value (converted to a float)\n",
    "        # with the first part (the letter) as the key.  MAKE SURE THE KEY IS UPPER-CASE!\n",
    "        languages[ letter ] = p2f( frequency )\n",
    "    \n",
    "    # Finally, return the dict `languages`.\n",
    "    return languages"
   ]
  },
  {
   "cell_type": "code",
   "execution_count": 74,
   "metadata": {},
   "outputs": [
    {
     "data": {
      "text/plain": [
       "{'A': 0.0916,\n",
       " 'B': 0.019299999999999998,\n",
       " 'C': 0.0449,\n",
       " 'D': 0.0335,\n",
       " 'E': 0.0981,\n",
       " 'F': 0.0026,\n",
       " 'G': 0.0146,\n",
       " 'H': 0.0125,\n",
       " 'I': 0.0883,\n",
       " 'J': 0.022799999999999997,\n",
       " 'K': 0.0301,\n",
       " 'L': 0.0462,\n",
       " 'M': 0.0281,\n",
       " 'N': 0.058499999999999996,\n",
       " 'O': 0.0832,\n",
       " 'P': 0.0287,\n",
       " 'Q': 0.0,\n",
       " 'R': 0.0415,\n",
       " 'S': 0.048499999999999995,\n",
       " 'T': 0.0385,\n",
       " 'U': 0.0206,\n",
       " 'V': 0.0,\n",
       " 'W': 0.041100000000000005,\n",
       " 'X': 0.0,\n",
       " 'Y': 0.0403,\n",
       " 'Z': 0.055}"
      ]
     },
     "execution_count": 74,
     "metadata": {},
     "output_type": "execute_result"
    }
   ],
   "source": [
    "# test your code here.  You may edit this cell, and you may use any language listed above, but the following is provided for convenience.\n",
    "language = 'polish'\n",
    "load_ref(language)"
   ]
  },
  {
   "cell_type": "code",
   "execution_count": 75,
   "metadata": {},
   "outputs": [
    {
     "name": "stdout",
     "output_type": "stream",
     "text": [
      "Success!\n"
     ]
    }
   ],
   "source": [
    "# it should pass this test---do NOT edit this cell\n",
    "from numpy import isclose\n",
    "language = 'english'\n",
    "test_ref = load_ref(language)\n",
    "assert isclose(test_ref['A'], 0.0834)\n",
    "print('Success!')"
   ]
  },
  {
   "cell_type": "markdown",
   "metadata": {},
   "source": [
    "Next, you need to write a function `load_languages` which accepts a list of languages and creates a dictionary for each using `load_ref`.  Then all of these dictionaries will be added to an overall dictionary, by language.  That is, `master` will look something like this:\n",
    "\n",
    "        `master` is a dictionary with keys:\n",
    "            'afrikaans' -> (a dictionary with keys:\n",
    "                                  letter -> frequency)\n",
    "            'catalan'   -> (a dictionary with keys:\n",
    "                                  letter -> frequency)\n",
    "            'danish'    -> (a dictionary with keys:\n",
    "                                  letter -> frequency)\n",
    "\n",
    "Specifically,\n",
    "    \n",
    "    master['afrikaans']  # returns a dict containing the reference language frequencies for Afrikaans"
   ]
  },
  {
   "cell_type": "markdown",
   "metadata": {},
   "source": [
    "You need a list of available languages.  You can then open each of them, reading them into a dictionary using `load_ref`."
   ]
  },
  {
   "cell_type": "code",
   "execution_count": 76,
   "metadata": {},
   "outputs": [],
   "source": [
    "#grade\n",
    "# You don't need to edit this cell\n",
    "languageNames = [ 'afrikaans','catalan','danish','english','finnish','french',\n",
    "                  'german','latin','polish','portuguese','spanish','welsh' ]"
   ]
  },
  {
   "cell_type": "markdown",
   "metadata": {},
   "source": [
    "### <span style=\"color:#345995\">Exercise 5: Make a Language Dictionary Function</span>\n",
    "\n",
    "Now we can loop over the list `languageNames`, and for each language we can 1) create a dictionary using `load_ref` and 2) add this dictionary to the master dictionary `master` with the language as the key.  Do this in the function `loadLanguages` (which need have no parameters) and `return` `master`."
   ]
  },
  {
   "cell_type": "code",
   "execution_count": 79,
   "metadata": {},
   "outputs": [],
   "source": [
    "#grade\n",
    "def load_languages():\n",
    "    '''\n",
    "    For each language, construct a dictionary and store the dictionary as the value\n",
    "    of the master dictionary.\n",
    "    Args:\n",
    "        None\n",
    "    Returns:\n",
    "        dict: The predicted distribution of each language \n",
    "              in the format of {language: distribution} \n",
    "              ('English': {'A': 0.08, 'B\": 0.065 ...}, 'Welsh\": ...)\n",
    "    '''\n",
    "\n",
    "    # Create an empty dictionary `master`.\n",
    "    master = {}\n",
    "    # We expect\n",
    "    # master: language(str) -> dict\n",
    "    # dict: character(str) -> frequency(float)\n",
    "    \n",
    "    # Get a list of languages available.\n",
    "    languageNames = [ 'afrikaans','catalan','danish','english','finnish','french',\n",
    "                  'german','latin','polish','portuguese','spanish','welsh' ]\n",
    "    \n",
    "    # Call `load_ref` on each of the languages and add the resulting dictionary as a value to `master` with key `language`.\n",
    "    for language in languageNames:\n",
    "        master[language] = load_ref(language)\n",
    "    \n",
    "    # Finally, return the dict `master`.\n",
    "    return master"
   ]
  },
  {
   "cell_type": "code",
   "execution_count": 80,
   "metadata": {},
   "outputs": [
    {
     "name": "stdout",
     "output_type": "stream",
     "text": [
      "dict_keys(['afrikaans', 'catalan', 'danish', 'english', 'finnish', 'french', 'german', 'latin', 'polish', 'portuguese', 'spanish', 'welsh'])\n",
      "{'A': 0.09359999999999999, 'B': 0.0182, 'C': 0.028900000000000002, 'D': 0.09880000000000001, 'E': 0.08310000000000001, 'F': 0.031200000000000002, 'G': 0.0341, 'H': 0.0387, 'I': 0.0698, 'J': 0.0013, 'K': 0.0, 'L': 0.050300000000000004, 'M': 0.0248, 'N': 0.0812, 'O': 0.0559, 'P': 0.0091, 'Q': 0.0, 'R': 0.0652, 'S': 0.0291, 'T': 0.028399999999999998, 'U': 0.0258, 'V': 0.0, 'W': 0.0398, 'X': 0.0, 'Y': 0.0849, 'Z': 0.0}\n"
     ]
    }
   ],
   "source": [
    "# test your code here.  You may edit this cell.\n",
    "master = load_languages()\n",
    "print(master.keys())\n",
    "print(master['welsh'])"
   ]
  },
  {
   "cell_type": "code",
   "execution_count": 81,
   "metadata": {},
   "outputs": [
    {
     "name": "stdout",
     "output_type": "stream",
     "text": [
      "Success!\n"
     ]
    }
   ],
   "source": [
    "# it should pass this test---do NOT edit this cell\n",
    "from numpy import isclose\n",
    "test_master = load_languages()\n",
    "assert isclose(test_master['english']['A'], 0.0834)\n",
    "print('Success!')"
   ]
  },
  {
   "cell_type": "code",
   "execution_count": 82,
   "metadata": {},
   "outputs": [
    {
     "name": "stdout",
     "output_type": "stream",
     "text": [
      "Success!\n"
     ]
    }
   ],
   "source": [
    "# it should pass this test---do NOT edit this cell\n",
    "from numpy import isclose\n",
    "test_master = load_languages()\n",
    "assert isclose(test_master['catalan']['Z'], 0.001),'Check the URL.  You may be writing the open_url() function with the language given in the test case, not the one given in the function parameters.'\n",
    "print('Success!')"
   ]
  },
  {
   "cell_type": "markdown",
   "metadata": {},
   "source": [
    "### 3.  Predict the most likely language."
   ]
  },
  {
   "cell_type": "markdown",
   "metadata": {},
   "source": [
    "With `load_languages` and `calc_freq`, you are now prepared to assess the similarity of a text to a reference language.  This last step is the most mathematically involved.\n",
    "\n",
    "We will define a frequency metric $f$ to assess the closeness of the match between two sets of frequencies.  In human language, you will calculate the difference between the two lists $L_{\\text{unknown}}$ and $L_{\\text{ref}}$, which yields a third list of the differences.  To make this list positive, take its absolute value.  (This keeps equal but opposite errors from canceling each other out.)  To provide a single value to compare, let $f$ be equal to the sum of these absolute values.  Thus a low value of $f$ means a low difference and a better fit between two frequency distributions than a high value of $f$.  As an equation,\n",
    "\n",
    "$$\n",
    "f \\left( L_{\\text{text}}, L_{\\text{ref}} \\right) =\n",
    "\\sum_{\\text{letters}} \\left| L_{\\text{text}} - L_{\\text{ref}}\\right| \\text{.}\n",
    "$$\n",
    "\n",
    "To be clear, the metric we are calculating, $f$, is a metric for how *different* two letter frequency distributions are."
   ]
  },
  {
   "cell_type": "markdown",
   "metadata": {},
   "source": [
    "### <span style=\"color:#345995\">Exercise 6: Measure Goodness-of-Fit</span>\n",
    "\n",
    "Compose a function `calc_match` which accepts two dictionaries `L_text` and `L_ref`.  `calc_match` should return the calculated metric `f` according to the formula above."
   ]
  },
  {
   "cell_type": "code",
   "execution_count": null,
   "metadata": {},
   "outputs": [],
   "source": [
    "# example dictionary\n",
    "a = {'firstname': 'lastname',\n",
    "     'Professor': 'Davis',\n",
    "     'Mickey': 'Mouse'}\n",
    "print(a['Mickey'])"
   ]
  },
  {
   "cell_type": "code",
   "execution_count": null,
   "metadata": {},
   "outputs": [],
   "source": [
    "# example dictionary continued\n",
    "print(a.keys())"
   ]
  },
  {
   "cell_type": "code",
   "execution_count": null,
   "metadata": {},
   "outputs": [],
   "source": [
    "# example dictionary continued\n",
    "print(a.items())"
   ]
  },
  {
   "cell_type": "code",
   "execution_count": null,
   "metadata": {},
   "outputs": [],
   "source": [
    "#grade\n",
    "def calc_match(L_text, L_ref):\n",
    "    '''\n",
    "    Compute the difference of two dictionaries.\n",
    "    Args:\n",
    "        L_text: The distribution of letter frequency of the analyzed text\n",
    "        L_ref: The distribution of letter frequency of one language\n",
    "    Returns:\n",
    "        f: float, a caculated metric showing the difference between two dicts\n",
    "    '''\n",
    "\n",
    "    # Create an empty dictionary `L_diff`.\n",
    "    L_diff = {}\n",
    "    \n",
    "    # Loop through the keys of the dictionaries (either by loading `alphabet` as above or by using `L_ref.keys()`).\n",
    "    # Calculate the absolute value of the difference between each dictionary value for each letter\n",
    "    #     L_diff['A'] = abs(L_text['A'] - L_ref['A'])  # for each letter (or key in L_ref)\n",
    "    for key in L_ref.keys():\n",
    "        L_diff[key] = abs(L_text[key] - L_ref[key])\n",
    "        \n",
    "    \n",
    "    # Next, loop through `L_diff` and sum all of the differences into the variable `f`.\n",
    "    f = 0.0\n",
    "    for letter in L_diff:\n",
    "        f += L_diff[letter]\n",
    "    \n",
    "    # Finally, return the metric `f`.\n",
    "    return f"
   ]
  },
  {
   "cell_type": "code",
   "execution_count": 73,
   "metadata": {},
   "outputs": [
    {
     "name": "stdout",
     "output_type": "stream",
     "text": [
      "Success!\n"
     ]
    }
   ],
   "source": [
    "# it should pass this test---do NOT edit this cell\n",
    "# test self-similarity and similarity across languages\n",
    "from numpy import isclose\n",
    "master = load_languages()\n",
    "assert isclose(calc_match(master['danish'], master['danish']), 0.0)\n",
    "assert isclose(calc_match(master['english'], master['finnish']), 0.5338)\n",
    "print('Success!')"
   ]
  },
  {
   "cell_type": "code",
   "execution_count": 74,
   "metadata": {},
   "outputs": [
    {
     "name": "stdout",
     "output_type": "stream",
     "text": [
      "welsh, 0.348949\n"
     ]
    }
   ],
   "source": [
    "# it should pass this test---do NOT edit this cell\n",
    "# test success in counting name elements\n",
    "from numpy import isclose\n",
    "text   = '''The conclusions of human reason as ordinarily applied in matters of nature, I call for the sake of distinction Anticipations of\n",
    "Nature (as a thing rash or premature). That reason which is elicited from facts by a just and methodical process, I call Interpretation of\n",
    "Nature.  (Francis Bacon, Novum Organon, Aphorism XXVI)'''\n",
    "L_text = calc_freq(text)\n",
    "master = load_languages()\n",
    "L_ref  = master['english']\n",
    "f = calc_match(L_text, L_ref)\n",
    "print('welsh, %f'%f)"
   ]
  },
  {
   "cell_type": "markdown",
   "metadata": {},
   "source": [
    "<div class=\"alert alert-danger\">\n",
    "Nothing needs to be written in the next cell, it's just to see how we can use the function we wrote. \n",
    "</div>"
   ]
  },
  {
   "cell_type": "markdown",
   "metadata": {},
   "source": [
    "Finally, we will capture the above logic in a function `find_best_fit` which will accept a string `text` and a dictionary of reference language dictionaries `master`.  `find_best_fit` compares `text` against all languages in `master`.  `find_best_fit` will return the language corresponding to the lowest value of `f` across the different available reference languages.\n",
    "\n",
    "**This is a freebie, so you can see the fruits of your labor in action.**"
   ]
  },
  {
   "cell_type": "code",
   "execution_count": 75,
   "metadata": {},
   "outputs": [],
   "source": [
    "#grade -- Don't modify this cell\n",
    "# This code already works---you don't need to write anything here.\n",
    "def find_best_fit(text, master):\n",
    "    # Create an empty dictionary `fs`.\n",
    "    fs = {}\n",
    "    \n",
    "    L_text = calc_freq(text)\n",
    "    \n",
    "    # Loop through the keys of `master` (by using `master.keys()`).\n",
    "    for language in master.keys():\n",
    "        # Calculate `f` for each using `calc_match` and store the result in `fs` with the key of the language.\n",
    "        L_ref = master[language]\n",
    "        fs[language] = calc_match(L_text, L_ref)\n",
    "    \n",
    "    # Finally, return the language corresponding to the minimum `f` in `fs` and the value of `f` in a tuple.\n",
    "    best_language = min(fs, key=fs.get)  # calculate the minimum value of any key in `fs`\n",
    "    best_f = fs[best_language]\n",
    "    return (best_language, best_f)"
   ]
  },
  {
   "cell_type": "code",
   "execution_count": 76,
   "metadata": {},
   "outputs": [
    {
     "name": "stdout",
     "output_type": "stream",
     "text": [
      "The best fit for the text is danish with a metric of 0.174584.\n"
     ]
    }
   ],
   "source": [
    "# it should pass this test---do NOT edit this cell\n",
    "# test success in counting name elements\n",
    "text = '''\n",
    "    Soren Kierkegaard (\"Frygt og baven:  Dialektisk lyrik\", 1843)\n",
    "    Er det virkelig saa, er al den Spidsborgerlighed, jeg seer i Livet, som jeg ikke lader mit Ord men min Gjerning domme, er den virkelig\n",
    "    ikke hvad den synes, er den Vidunderet? Det lod sig jo tanke; thi hiin Troens Helt havde jo en paafaldende Lighed dermed; thi hiin Troens\n",
    "    Helt var end ikke Ironiker og Humorist, men noget endnu Hoiere. Der tales i vor Tid meget om Ironi og Humor, Lsær af Folk, som aldrig have\n",
    "    formaaet at praktisere deri, men som desuagtet vide at forklare Alt. Jeg er ikke ganske ubekjendt med disse tvende Lidenskaber, jeg veed\n",
    "    lidt mere om dem end hvad der staaer i tydske og tydsk-danske Compendier. Jeg veed derfor, at disse tvende Lidenskaber ere vasentlig\n",
    "    forskjellige fra Troens Lidenskab. Ironi og Humor reflektere ogsaa paa sig selv og hore derfor hjemme i den uendelige Resignations\n",
    "    Sphare, de have deres Elasticitet i, at Individet er incommensurabelt for Virkeligheden.\n",
    "    '''\n",
    "master = load_languages()\n",
    "language, f = find_best_fit(text, master)\n",
    "print('The best fit for the text is %s with a metric of %f.'%(language,f))"
   ]
  },
  {
   "cell_type": "code",
   "execution_count": 77,
   "metadata": {},
   "outputs": [
    {
     "name": "stdout",
     "output_type": "stream",
     "text": [
      "Success!\n"
     ]
    }
   ],
   "source": [
    "# it should pass this test---do NOT edit this cell\n",
    "# test success in counting name elements\n",
    "from numpy import isclose\n",
    "text = '''\n",
    "    Below the thunders of the upper deep;\n",
    "    Far, far beneath in the abysmal sea, \n",
    "    His ancient, dreamless, uninvaded sleep\n",
    "    The Kraken sleepeth: faintest sunlights flee\n",
    "    About his shadowy sides: above him swell\n",
    "    Huge sponges of millennial growth and height; \n",
    "    And far away into the sickly light, \n",
    "    From many a wondrous grot and secret cell\n",
    "    Unnumbered and enormous polypi\n",
    "    Winnow with giant arms the slumbering green.\n",
    "    There hath he lain for ages and will lie\n",
    "    Battening upon huge sea-worms in his sleep,\n",
    "    Until the latter fire shall heat the deep;\n",
    "    Then once by man and angels to be seen,\n",
    "    In roaring he shall rise and on the surface die.\n",
    "    (Alfred Lord Tennyson)\n",
    "    '''\n",
    "master = load_languages()\n",
    "language, f = find_best_fit(text, master)\n",
    "assert isclose(f, 0.198151072125)\n",
    "print('Success!')"
   ]
  },
  {
   "cell_type": "markdown",
   "metadata": {},
   "source": [
    "This is the most complex program you've yet written.  Let's review its overall logic:\n",
    "\n",
    "![](./img/flowchart.png)\n",
    "\n",
    "It's easy to get lost, but charting out your program's logic can help you navigate and think about coding challenges."
   ]
  },
  {
   "cell_type": "markdown",
   "metadata": {},
   "source": [
    "---\n",
    "\n",
    "The lab is now complete, but you may find it interesting to use this function to predict the language of the following text samples, or find your own online and try it out."
   ]
  },
  {
   "cell_type": "code",
   "execution_count": 78,
   "metadata": {},
   "outputs": [],
   "source": [
    "#test-cell (do not edit)\n",
    "#grade\n",
    "master = load_languages()"
   ]
  },
  {
   "cell_type": "markdown",
   "metadata": {},
   "source": [
    "Consider the text"
   ]
  },
  {
   "cell_type": "code",
   "execution_count": 79,
   "metadata": {},
   "outputs": [],
   "source": [
    "text = '''Onder hierdie hoof wil ek u kortliks op grondige teëstelling wys en ook op verbinding. Die satiere, immers, is algemeen opgevat as\n",
    "spottende uiting van tenminste ontevredenheid of misnoeë ten opsigte van slegtheid en dwaasheid, bestaande wantoestande in die werklikheid,\n",
    "met die doel om daarteen gedagte, wil en gevoel op te wek. Hierby wil ek vooropstel die verskillende grade ven gevoel in satieriese spot,\n",
    "variërende tussen die uiterstes van hoon en sarkasme aan die een kant en gemoedelikheid van komiek en mildheid van humor aan die ander. 'n\n",
    "Definiesie van satiere wat enkel op hoon en bitterheid wys, skyn my egter nie ruim genoeg vir hierdie begrip nie. Hierteen kan miskien\n",
    "ingebring word dat ons dan die satiere nie langer in sy essensieelste vorm kry nie.  (F.E.J. Malherbe, Humor in die algemeen en sy uiting in\n",
    "die Afrikaanse letterkunde)\n",
    "    '''"
   ]
  },
  {
   "cell_type": "markdown",
   "metadata": {},
   "source": [
    "-   Which language is the best match, and its value of $f$?"
   ]
  },
  {
   "cell_type": "code",
   "execution_count": 80,
   "metadata": {},
   "outputs": [
    {
     "name": "stdout",
     "output_type": "stream",
     "text": [
      "The best fit for the text is afrikaans with a metric of 0.150750.\n"
     ]
    }
   ],
   "source": [
    "language, f = find_best_fit(text, master)\n",
    "print('The best fit for the text is %s with a metric of %f.'%(language,f))"
   ]
  },
  {
   "cell_type": "markdown",
   "metadata": {},
   "source": [
    "-   Which language is the worst match, and its value of $f$?"
   ]
  },
  {
   "cell_type": "code",
   "execution_count": 81,
   "metadata": {},
   "outputs": [
    {
     "name": "stdout",
     "output_type": "stream",
     "text": [
      "The worst fit for the text is welsh with a metric of 0.573430.\n"
     ]
    }
   ],
   "source": [
    "fs = {}\n",
    "L_text = calc_freq(text)\n",
    "for language in master.keys():\n",
    "    fs[language] = calc_match(L_text, master[language])\n",
    "\n",
    "language = max(fs, key=fs.get)  # calculate the maximum value of any key in `fs`\n",
    "f = fs[language]\n",
    "print('The worst fit for the text is %s with a metric of %f.'%(language,f))"
   ]
  },
  {
   "cell_type": "markdown",
   "metadata": {},
   "source": [
    "---\n",
    "\n",
    "Consider the text:"
   ]
  },
  {
   "cell_type": "code",
   "execution_count": 82,
   "metadata": {},
   "outputs": [],
   "source": [
    "text = '''Tots els essers humans neixen lliures i iguals en dignitat i en drets. Son dotats de rao i de consciencia, i han de comportar-se\n",
    "    fraternalment els uns amb els altres.'''"
   ]
  },
  {
   "cell_type": "markdown",
   "metadata": {},
   "source": [
    "-   Which language is the best match, and its value of $f$?"
   ]
  },
  {
   "cell_type": "code",
   "execution_count": 83,
   "metadata": {},
   "outputs": [
    {
     "name": "stdout",
     "output_type": "stream",
     "text": [
      "The best fit for the text is french with a metric of 0.277559.\n"
     ]
    }
   ],
   "source": [
    "language, f = find_best_fit(text, master)\n",
    "print('The best fit for the text is %s with a metric of %f.'%(language,f))"
   ]
  },
  {
   "cell_type": "markdown",
   "metadata": {},
   "source": [
    "-   Which language is the worst match, and its value of $f$?"
   ]
  },
  {
   "cell_type": "code",
   "execution_count": 84,
   "metadata": {},
   "outputs": [
    {
     "name": "stdout",
     "output_type": "stream",
     "text": [
      "The worst fit for the text is polish with a metric of 0.560747.\n"
     ]
    }
   ],
   "source": [
    "#test-cell\n",
    "#grade\n",
    "fs = {}\n",
    "L_text = calc_freq(text)\n",
    "for language in master.keys():\n",
    "    fs[language] = calc_match(L_text, master[language])\n",
    "\n",
    "language = max(fs, key=fs.get)  # calculate the maximum value of any key in `fs`\n",
    "f = fs[language]\n",
    "print('The worst fit for the text is %s with a metric of %f.'%(language,f))"
   ]
  },
  {
   "cell_type": "markdown",
   "metadata": {},
   "source": [
    "(You will note that, unsurprisingly, short text samples are harder to statistically analyze in this manner.  The foregoing sample is written in Catalan, but this method detects a slightly different language.)"
   ]
  },
  {
   "cell_type": "markdown",
   "metadata": {},
   "source": [
    "---\n",
    "\n",
    "Consider the text:"
   ]
  },
  {
   "cell_type": "code",
   "execution_count": 85,
   "metadata": {},
   "outputs": [],
   "source": [
    "text = '''Quoi que puisse dire Aristote, et toute la philosophie, il n'est rien d'egal\n",
    "au tabac ; c'est la passion des honnetes gens ; et qui vit sans tabac n'est pas digne\n",
    "de vivre. Non seulement il rejouit et purge les cerveaux humains, mais encore il\n",
    "instruit les ames a la vertu, et l'on apprend avec lui a devenir honnete homme. Ne\n",
    "voyez-vous pas bien, des qu'on en prend, de quelle maniere obligeante on en use avec\n",
    "tout le monde, et comme on est ravi d'en donner a droite et a gauche, partout ou l'on\n",
    "se trouve ? On n'attend pas meme qu'on en demande, et l'on court au-devant du souhait\n",
    "des gens ; tant il est vrai que le tabac inspire des sentiments d'honneur et de vertu\n",
    "a tous ceux qui en prennent. Mais c'est assez de cette matiere, reprenons un peu notre\n",
    "discours. Si bien donc, cher Gusman, que done Elvire, ta maitresse, surprise de notre\n",
    "depart, s'est mise en campagne apres nous ; et son coeur, que mon Maitre a su toucher\n",
    "trop fortement, n'a pu vivre, dis-tu, sans le venir chercher ici. Veux-tu qu'entre-nous\n",
    "je te dise ma pensee ? J'ai peur qu'elle ne soit mal payee de son amour, que son voyage\n",
    "en cette ville produise peu de fruit, et que vous eussiez autant gagne a ne bouger de la.\n",
    "\n",
    "(Moliere, Don Juan ou le Festin de pierre)\n",
    "'''"
   ]
  },
  {
   "cell_type": "markdown",
   "metadata": {},
   "source": [
    "-   Which language is the best match, and its value of $f$?"
   ]
  },
  {
   "cell_type": "code",
   "execution_count": 86,
   "metadata": {},
   "outputs": [
    {
     "name": "stdout",
     "output_type": "stream",
     "text": [
      "The best fit for the text is french with a metric of 0.162854.\n"
     ]
    }
   ],
   "source": [
    "language, f = find_best_fit(text, master)\n",
    "print('The best fit for the text is %s with a metric of %f.'%(language,f))"
   ]
  },
  {
   "cell_type": "markdown",
   "metadata": {},
   "source": [
    "-   Which language is the worst match, and its value of $f$?"
   ]
  },
  {
   "cell_type": "code",
   "execution_count": 87,
   "metadata": {},
   "outputs": [
    {
     "name": "stdout",
     "output_type": "stream",
     "text": [
      "The worst fit for the text is welsh with a metric of 0.653765.\n"
     ]
    }
   ],
   "source": [
    "#test-cell\n",
    "#grade\n",
    "fs = {}\n",
    "L_text = calc_freq(text)\n",
    "for language in master.keys():\n",
    "    fs[language] = calc_match(L_text, master[language])\n",
    "\n",
    "language = max(fs, key=fs.get)  # calculate the maximum value of any key in `fs`\n",
    "f = fs[language]\n",
    "print('The worst fit for the text is %s with a metric of %f.'%(language,f))"
   ]
  },
  {
   "cell_type": "markdown",
   "metadata": {},
   "source": [
    "---\n",
    "\n",
    "Consider the text:"
   ]
  },
  {
   "cell_type": "code",
   "execution_count": 88,
   "metadata": {},
   "outputs": [],
   "source": [
    "text = '''\n",
    "En un lugar de la Mancha, de cuyo nombre no quiero acordarme, no ha mucho\n",
    "tiempo que vivia un hidalgo de los de lanza en astillero, adarga antigua,\n",
    "rocin flaco y galgo corredor. Una olla de algo mas vaca que carnero,\n",
    "salpicon las mas noches, duelos y quebrantos los sabados, lantejas los\n",
    "viernes, algun palomino de anadidura los domingos, consumían las tres\n",
    "partes de su hacienda. El resto della concluian sayo de velarte, calzas de\n",
    "velludo para las fiestas, con sus pantuflos de lo mesmo, y los dias de\n",
    "entresemana se honraba con su vellori de lo mas fino. Tenia en su casa una\n",
    "ama que pasaba de los cuarenta, y una sobrina que no llegaba a los veinte,\n",
    "y un mozo de campo y plaza, que asi ensillaba el rocin como tomaba la\n",
    "podadera. Frisaba la edad de nuestro hidalgo con los cincuenta anos; era de\n",
    "complexion recia, seco de carnes, enjuto de rostro, gran madrugador y amigo\n",
    "de la caza. Quieren decir que tenia el sobrenombre de Quijada, o Quesada,\n",
    "que en esto hay alguna diferencia en los autores que deste caso escriben;\n",
    "aunque, por conjeturas verosimiles, se deja entender que se llamaba\n",
    "Quejana. Pero esto importa poco a nuestro cuento; basta que en la narracion\n",
    "del no se salga un punto de la verdad.\n",
    "(Miguel de Saavedra Cervantes, Don Quixote)\n",
    "'''"
   ]
  },
  {
   "cell_type": "markdown",
   "metadata": {},
   "source": [
    "-   Which language is the best match, and its value of $f$?"
   ]
  },
  {
   "cell_type": "code",
   "execution_count": 89,
   "metadata": {},
   "outputs": [
    {
     "name": "stdout",
     "output_type": "stream",
     "text": [
      "The best fit for the text is spanish with a metric of 0.145797.\n"
     ]
    }
   ],
   "source": [
    "#test-cell\n",
    "#grade\n",
    "language, f = find_best_fit(text, master)\n",
    "print('The best fit for the text is %s with a metric of %f.'%(language,f))"
   ]
  },
  {
   "cell_type": "markdown",
   "metadata": {},
   "source": [
    "-   Which language is the worst match, and its value of $f$?"
   ]
  },
  {
   "cell_type": "code",
   "execution_count": 90,
   "metadata": {},
   "outputs": [
    {
     "name": "stdout",
     "output_type": "stream",
     "text": [
      "The worst fit for the text is welsh with a metric of 0.548518.\n"
     ]
    }
   ],
   "source": [
    "#test-cell\n",
    "#grade\n",
    "fs = {}\n",
    "L_text = calc_freq(text)\n",
    "for language in master.keys():\n",
    "    fs[language] = calc_match(L_text, master[language])\n",
    "\n",
    "language = max(fs, key=fs.get)  # calculate the maximum value of any key in `fs`\n",
    "f = fs[language]\n",
    "print('The worst fit for the text is %s with a metric of %f.'%(language,f))"
   ]
  }
 ],
 "metadata": {
  "anaconda-cloud": {},
  "celltoolbar": "Raw Cell Format",
  "kernelspec": {
   "display_name": "Python 3",
   "language": "python",
   "name": "python3"
  },
  "language_info": {
   "codemirror_mode": {
    "name": "ipython",
    "version": 3
   },
   "file_extension": ".py",
   "mimetype": "text/x-python",
   "name": "python",
   "nbconvert_exporter": "python",
   "pygments_lexer": "ipython3",
   "version": "3.8.6"
  }
 },
 "nbformat": 4,
 "nbformat_minor": 4
}
