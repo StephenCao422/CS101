{
 "cells": [
  {
   "cell_type": "markdown",
   "metadata": {},
   "source": [
    "#   `lab02`—Mathematical Operations\n",
    "\n"
   ]
  },
  {
   "cell_type": "markdown",
   "metadata": {},
   "source": [
    "**Objectives**\n",
    "\n",
    "- Work with tuples to contain pairs of numbers.\n",
    "- Produce a complex number library of use in future projects."
   ]
  },
  {
   "cell_type": "markdown",
   "metadata": {},
   "source": [
    "Most labs from now on will have a short header cell which you should evaluate before running anything later on in the lab."
   ]
  },
  {
   "cell_type": "markdown",
   "metadata": {},
   "source": [
    "_The first part of this lesson draws from a [Microsoft Quantum Development Kit tutorial](https://github.com/microsoft/QuantumKatas/blob/main/tutorials/ComplexArithmetic) on complex algebra, licensed under the MIT License._"
   ]
  },
  {
   "cell_type": "code",
   "execution_count": 59,
   "metadata": {},
   "outputs": [
    {
     "name": "stdout",
     "output_type": "stream",
     "text": [
      "Successfully loaded module.\n"
     ]
    }
   ],
   "source": [
    "from numpy import isclose\n",
    "from testing import exercise"
   ]
  },
  {
   "cell_type": "markdown",
   "metadata": {},
   "source": [
    "##  Complex Numbers"
   ]
  },
  {
   "cell_type": "markdown",
   "metadata": {},
   "source": [
    "### Imaginary numbers\n",
    "\n",
    "For some purposes, real numbers aren't enough. Probably the most famous example is this equation:\n",
    "\n",
    "$$x^{2} = -1$$\n",
    "\n",
    "which has no solution for $x$ among real numbers. If, however, we abandon that constraint, we can do something interesting - we can define our own number. Let's say there exists some number that solves that equation. Let's call that number $i$.\n",
    "\n",
    "$$i^{2} = -1$$\n",
    "\n",
    "As we said before, $i$ can't be a real number. In that case, we'll call it an **imaginary unit**. However, there is no reason for us to define it as acting any different from any other number, other than the fact that $i^2 = -1$:\n",
    "\n",
    "$$\n",
    "i + i = 2i \\\\\n",
    "i - i = 0 \\\\\n",
    "-1 \\cdot i = -i \\\\\n",
    "(-i)^{2} = -1\n",
    "$$\n",
    "\n",
    "We'll call the number $i$ and its real multiples **imaginary numbers**.\n",
    "\n",
    "> A good video introduction on imaginary numbers can be found  [here](https://youtu.be/SP-YJe7Vldo).\n",
    "\n",
    "<!-- The foregoing is quoted from MS. -->\n",
    "\n",
    "### Imaginary Numbers in Python\n",
    "\n",
    "Python represents imaginary numbers with a real and an imaginary component inside of a single value, `complex`.  Since we can write a strictly imaginary number as a complex number with zero real part, we could use `(0+1j)` as the imaginary unit $i$.\n",
    "\n",
    "However, for our purposes today, we will prefer to use separate real and imaginary parts, representing an imaginary number as a pair of real `float`s `(a,b)` rather than a single `complex` `(a+bj)`."
   ]
  },
  {
   "cell_type": "markdown",
   "metadata": {},
   "source": [
    "### <span style=\"color:#345995\">Exercise 1: Powers of $i$</span>\n",
    "\n",
    "Compose a function `pow_imag` which accepts an integer `n` and yields the imaginary unit raised to that power.  `pow_imag` should return a pair of values of type `float` or `int`:\n",
    "\n",
    "- $1 \\rightarrow (1,0)$\n",
    "- $i \\rightarrow (0,1)$\n",
    "- $i^2 \\rightarrow (-1,0)$`\n",
    "- $i^3 \\rightarrow (0,-1)$\n",
    "\n",
    "Use an `if` statement and a `%` modulus operator to detect and return the correct imaginary value for a given integer input.  You should be able to work out the four possible values of $i$ raised to a power on paper, then identify the repeating pattern."
   ]
  },
  {
   "cell_type": "code",
   "execution_count": 35,
   "metadata": {},
   "outputs": [],
   "source": [
    "#grade\n",
    "def pow_imag(n): # exponent\n",
    "    if n%4 == 0:\n",
    "        return (1,0)\n",
    "    elif n%4 == 1:\n",
    "        return (0,1)\n",
    "    elif n%4 == 2:\n",
    "        return(-1,0)\n",
    "    else:\n",
    "        return (0,-1)"
   ]
  },
  {
   "cell_type": "code",
   "execution_count": 36,
   "metadata": {},
   "outputs": [
    {
     "name": "stdout",
     "output_type": "stream",
     "text": [
      "Success!\n"
     ]
    }
   ],
   "source": [
    "#Don't modify this cell run it to test your code\n",
    "#Tests are not exhaustive this is just a sanity check\n",
    "actual = pow_imag(3)\n",
    "expected = (0,-1)\n",
    "assert actual == expected,\"Test case failed\"\n",
    "print (\"Success!\")"
   ]
  },
  {
   "cell_type": "markdown",
   "metadata": {},
   "source": [
    "###  Complex Arithmetic\n",
    "\n",
    "The real part and the imaginary part of a complex number are subjected to addition and subtraction separately.  That is, when adding two complex numbers together, the real parts add and the imaginary parts add, but they do not otherwise interact:\n",
    "\n",
    "$$\n",
    "(4 + 3i) + (2 + i) \\\\ \\downarrow \\\\\n",
    "(6 + 2) + (3 + 1)i \\\\ \\downarrow \\\\\n",
    "8 + 4i\n",
    "$$"
   ]
  },
  {
   "cell_type": "markdown",
   "metadata": {},
   "source": [
    "### <span style=\"color:#345995\">Exercise 2: Complex Addition</span>\n",
    "\n",
    "Compose a function `addc` which accepts two pairs of integers `x` and `y` and yields the sum of those two pairs interpreted as complex numbers.  `addc` should return a pair of values of type `float` or `int`.\n",
    "\n",
    "You can create a pair of numbers, called a `tuple`, by including them inside of parentheses:  `(3,5)`.\n",
    "\n",
    "<br/>\n",
    "<details>\n",
    "<summary>More on <code>tuple</code>s</summary>\n",
    "A <code>tuple</code> is a special kind of <code>list</code>.\n",
    "    \n",
    "To access the elements of a <code>tuple</code>, use index notation:\n",
    "    \n",
    "```py\n",
    "a = x[0]\n",
    "b = x[1]\n",
    "```\n",
    "</details>"
   ]
  },
  {
   "cell_type": "code",
   "execution_count": 33,
   "metadata": {},
   "outputs": [],
   "source": [
    "#grade\n",
    "\n",
    "def addc(x,y):\n",
    "    a = x[0]\n",
    "    b = x[1]\n",
    "    c = y[0]\n",
    "    d = y[1]\n",
    "    return (a+c,b+d)"
   ]
  },
  {
   "cell_type": "code",
   "execution_count": 34,
   "metadata": {},
   "outputs": [
    {
     "name": "stdout",
     "output_type": "stream",
     "text": [
      "Success!\n"
     ]
    }
   ],
   "source": [
    "#Don't modify this cell run it to test your code\n",
    "#Tests are not exhaustive this is just a sanity check\n",
    "actual = addc((1,1),(1,2))\n",
    "expected = (2,3)\n",
    "assert actual == expected,\"Test case failed\"\n",
    "print (\"Success!\")"
   ]
  },
  {
   "cell_type": "markdown",
   "metadata": {},
   "source": [
    "### Complex Multiplication\n",
    "\n",
    "Complex multiplication behaves a bit like polynomial multiplication, with $i$ playing the part of $x$:\n",
    "\n",
    "$$\n",
    "(4 + 3i) \\cdot (2 + i) \\\\ \\downarrow \\\\\n",
    "(4 \\cdot 2 - 3 \\cdot 1) + (4 \\cdot 1 + 3 \\cdot 2) i \\\\ \\downarrow \\\\\n",
    "5 + 10 i\n",
    "$$"
   ]
  },
  {
   "cell_type": "markdown",
   "metadata": {},
   "source": [
    "### <span style=\"color:#345995\">Exercise 3: Complex Multiplication</span>\n",
    "\n",
    "Compose a function `mulc` which accepts two pairs of integers `x` and `y` and yields the product of those two pairs interpreted as complex numbers.  `mulc` should return a pair of values of type `float` or `int`."
   ]
  },
  {
   "cell_type": "code",
   "execution_count": 76,
   "metadata": {},
   "outputs": [],
   "source": [
    "#grade\n",
    "\n",
    "def mulc(x,y):\n",
    "    a = x[0]\n",
    "    b = x[1]\n",
    "    c = y[0]\n",
    "    d = y[1]\n",
    "    return (a*c - b*d , b*c + a*d)"
   ]
  },
  {
   "cell_type": "code",
   "execution_count": 77,
   "metadata": {},
   "outputs": [
    {
     "name": "stdout",
     "output_type": "stream",
     "text": [
      "Success!\n"
     ]
    }
   ],
   "source": [
    "#Don't modify this cell run it to test your code\n",
    "#Tests are not exhaustive this is just a sanity check\n",
    "actual = mulc((2,2),(1,1))\n",
    "expected = (0,4)\n",
    "assert actual == expected,\"Test case failed\"\n",
    "print (\"Success!\")"
   ]
  },
  {
   "cell_type": "markdown",
   "metadata": {},
   "source": [
    "<div class=\"alert alert-danger\">\n",
    "Check in with your team and TA to make sure everyone understands concepts up through this point.\n",
    "</div>"
   ]
  },
  {
   "cell_type": "markdown",
   "metadata": {},
   "source": [
    "### Complex Conjugate\n",
    "\n",
    "Before we discuss any other complex operations, we have to cover the **complex conjugate**. The conjugate is a simple operation: given a complex number $x = a + bi$, its complex conjugate is $\\overline{x} = a - bi$.\n",
    "\n",
    "The conjugate allows us to do some interesting things. The first and probably most important is multiplying a complex number by its conjugate:\n",
    "\n",
    "$$x \\cdot \\overline{x} = (a + bi)(a - bi)$$\n",
    "\n",
    "Notice that the second expression is a difference of squares:\n",
    "\n",
    "$$(a + bi)(a - bi) = a^2 - (bi)^2 = a^2 - b^2i^2 = a^2 + b^2$$\n",
    "\n",
    "This means that a complex number multiplied by its conjugate always produces a non-negative real number.\n",
    "\n",
    "Another property of the conjugate is that it distributes over both complex addition and complex multiplication:\n",
    "\n",
    "$$\\overline{x + y} = \\overline{x} + \\overline{y} \\\\\n",
    "\\overline{x \\cdot y} = \\overline{x} \\cdot \\overline{y}$$\n",
    "\n",
    "<!-- The foregoing is quoted from MS. -->"
   ]
  },
  {
   "cell_type": "markdown",
   "metadata": {},
   "source": [
    "### <span style=\"color:#345995\">Exercise 4: Complex Conjugation</span>\n",
    "\n",
    "Compose a function `conj` which takes a complex number `x` (represented as a tuple) and yields the complex conjugate.  `conj` should return a pair of values of type `float` or `int`."
   ]
  },
  {
   "cell_type": "code",
   "execution_count": 51,
   "metadata": {},
   "outputs": [],
   "source": [
    "#grade\n",
    "\n",
    "def conj(x):\n",
    "    a = x[0]\n",
    "    b = x[1]\n",
    "    return a, - b"
   ]
  },
  {
   "cell_type": "code",
   "execution_count": 52,
   "metadata": {},
   "outputs": [
    {
     "name": "stdout",
     "output_type": "stream",
     "text": [
      "Success!\n"
     ]
    }
   ],
   "source": [
    "#Don't modify this cell run it to test your code\n",
    "#Tests are not exhaustive this is just a sanity check\n",
    "actual = conj((2,1))\n",
    "expected = (2,-1)\n",
    "assert actual == expected,\"Test case failed\"\n",
    "print (\"Success!\")"
   ]
  },
  {
   "cell_type": "markdown",
   "metadata": {},
   "source": [
    "### Complex Division\n",
    "\n",
    "The conjugate is used to accomplish complex division. Let's take two complex numbers: $x = a + bi$ and $y = c + di \\neq 0$ (not even complex numbers let you divide by $0$). What does $\\frac{x}{y}$ mean?\n",
    "\n",
    "Let's expand $x$ and $y$ into their component forms:\n",
    "\n",
    "$$\\frac{x}{y} = \\frac{a + bi}{c + di}$$\n",
    "\n",
    "Unfortunately, it isn't very clear what it means to divide by a complex number. We need some way to move either all real parts or all imaginary parts into the numerator. And thanks to the conjugate, we can do just that. Using the fact that any number (except $0$) divided by itself equals $1$, and any number multiplied by $1$ equals itself, we get:\n",
    "\n",
    "$$\\frac{x}{y} = \\frac{x}{y} \\cdot 1 = \\frac{x}{y} \\cdot \\frac{\\overline{y}}{\\overline{y}} = \\frac{x\\overline{y}}{y\\overline{y}} = \\frac{(a + bi)(c - di)}{(c + di)(c - di)} = \\frac{(a + bi)(c - di)}{c^2 + d^2}$$\n",
    "\n",
    "By doing this, we re-wrote our division problem to have a complex multiplication expression in the numerator, and a real number in the denominator. We already know how to multiply complex numbers, and dividing a complex number by a real number is as simple as dividing both parts of the complex number separately:\n",
    "\n",
    "$$\\frac{a + bi}{r} = \\frac{a}{r} + \\frac{b}{r}i$$\n",
    "\n",
    "<!-- The foregoing is quoted from MS. -->"
   ]
  },
  {
   "cell_type": "markdown",
   "metadata": {},
   "source": [
    "### <span style=\"color:#345995\">Exercise 5: Complex Division</span>\n",
    "\n",
    "Compose a function `divc` which accepts two pairs of integers `x` and `y` and yields the division of the former by the latter.  `divc` should return a pair of values of type `float` or `int`."
   ]
  },
  {
   "cell_type": "code",
   "execution_count": 60,
   "metadata": {},
   "outputs": [],
   "source": [
    "#grade\n",
    "\n",
    "def divc(x,y): # x/y\n",
    "    a = x[0]\n",
    "    b = x[1]\n",
    "    c = y[0]\n",
    "    d = y[1]\n",
    "    return (a*c + b*d)/(c**2 + d**2),(c*b - a*d)/(c**2 + d**2)"
   ]
  },
  {
   "cell_type": "code",
   "execution_count": 61,
   "metadata": {},
   "outputs": [
    {
     "name": "stdout",
     "output_type": "stream",
     "text": [
      "Success!\n"
     ]
    }
   ],
   "source": [
    "#Don't modify this cell run it to test your code\n",
    "#Tests are not exhaustive this is just a sanity check\n",
    "x, y = (-1.24, 2.39), (-2.65, -24.72)\n",
    "divc_result = divc(x, y)\n",
    "assert (divc_result == isclose(-0.090, -0.059)).all\n",
    "print(\"Success!\")"
   ]
  },
  {
   "cell_type": "markdown",
   "metadata": {},
   "source": [
    "<div class=\"alert alert-danger\">\n",
    "Check in with your team and TA to make sure everyone understands concepts up through this point.\n",
    "</div>"
   ]
  },
  {
   "cell_type": "markdown",
   "metadata": {},
   "source": [
    "##  The Complex Plane"
   ]
  },
  {
   "cell_type": "markdown",
   "metadata": {},
   "source": [
    "### A Geometric Interpretation\n",
    "\n",
    "Just as the real numbers can be represented as lying along a number line,\n",
    "\n",
    "![](https://upload.wikimedia.org/wikipedia/commons/thumb/9/93/Number-line.svg/640px-Number-line.svg.png)\n",
    "\n",
    "the introduction of the imaginary unit suggests the expedient of imagining the crossing a real number line and an imaginary number line.  This describes the _complex plane_, in which the number $x+yi$ is treated as a coordinate pair $(x,y)$.\n",
    "\n",
    "![](https://upload.wikimedia.org/wikipedia/commons/thumb/6/69/Complex_conjugate_picture.svg/341px-Complex_conjugate_picture.svg.png)\n",
    "\n",
    "<!-- The foregoing is by NED. -->\n",
    "\n",
    "This mapping allows us to apply complex arithmetic to geometry, and, more importantly, apply geometric concepts to complex numbers. Many properties of complex numbers become easier to understand when viewed through a geometric lens.\n",
    "\n",
    "<!-- The foregoing is quoted from MS. -->"
   ]
  },
  {
   "cell_type": "markdown",
   "metadata": {},
   "source": [
    "### Modulus\n",
    "\n",
    "The modulus operator in regular Python means the remainder after division, but in complex arithmetic it means something quite different.\n",
    "\n",
    "<!-- The foregoing by NED. -->\n",
    "\n",
    "For complex operations, the modulus operator generalizes the **absolute value** operator on real numbers to the complex plane. Just like the absolute value of a number is its distance from $0$, the modulus of a complex number is its distance from $0 + 0i$. Using the distance formula, if $x = a + bi$, then:\n",
    "\n",
    "$$|x| = \\sqrt{a^2 + b^2}$$\n",
    "\n",
    "There is also a slightly different, but algebraically equivalent definition:\n",
    "\n",
    "$$|x| = \\sqrt{x \\cdot \\overline{x}}$$\n",
    "\n",
    "Like the conjugate, the modulus distributes over multiplication.\n",
    "\n",
    "$$|x \\cdot y| = |x| \\cdot |y|$$\n",
    "\n",
    "Unlike the conjugate, however, the modulus doesn't distribute over addition. Instead, the interaction of the two comes from the triangle inequality:\n",
    "\n",
    "$$|x + y| \\leq |x| + |y|$$\n",
    "\n",
    "<!-- The foregoing is quoted from MS. -->"
   ]
  },
  {
   "cell_type": "markdown",
   "metadata": {},
   "source": [
    "### <span style=\"color:#345995\">Exercise 6: Modulus</span>\n",
    "\n",
    "Compose a function `mod` which accepts a pair of integers `x` and yields the modulus of this number, $|x|$.  `mod` should return a single real value of type `float` or `int`."
   ]
  },
  {
   "cell_type": "code",
   "execution_count": 62,
   "metadata": {},
   "outputs": [],
   "source": [
    "#grade\n",
    "\n",
    "def mod(x):\n",
    "    a = x[0]\n",
    "    b = x[1]\n",
    "    return (a**2 + b**2)**0.5"
   ]
  },
  {
   "cell_type": "code",
   "execution_count": 63,
   "metadata": {},
   "outputs": [
    {
     "name": "stdout",
     "output_type": "stream",
     "text": [
      "Success!\n"
     ]
    }
   ],
   "source": [
    "#Don't modify this cell run it to test your code\n",
    "#Tests are not exhaustive this is just a sanity check\n",
    "x = (1.55, -22.71)\n",
    "mod_result = mod(x)\n",
    "assert isclose(22.762, mod_result, rtol=0.01)\n",
    "print(\"Success!\")"
   ]
  },
  {
   "cell_type": "markdown",
   "metadata": {},
   "source": [
    "### Complex Exponents\n",
    "\n",
    "The next complex operation we're going to need is exponentiation. Raising an imaginary number to an integer power is a fairly simple task, but raising a number to an imaginary power, or raising an imaginary (or complex) number to a real power isn't quite as simple.\n",
    "\n",
    "Let's start with raising real numbers to imaginary powers. Specifically, let's start with a rather special real number - Euler's constant, $e$:\n",
    "\n",
    "$$e^{i\\theta} = \\cos \\theta + i\\sin \\theta$$\n",
    "\n",
    "(Here and later in this tutorial $\\theta$ is measured in radians.)\n",
    "\n",
    "Explaining why that happens is somewhat beyond the scope of this tutorial, as it requires some calculus, so we won't do that here. If you are curious, you can see [this video](https://youtu.be/v0YEaeIClKY) for a beautiful intuitive explanation, or [the Wikipedia article](https://en.wikipedia.org/wiki/Euler%27s_formula#Proofs) for a more mathematically rigorous proof.\n",
    "\n",
    "Here are some examples of this formula in action:\n",
    "\n",
    "$$e^{i\\pi/4} = \\frac{1}{\\sqrt{2}} + \\frac{i}{\\sqrt{2}} \\\\\n",
    "e^{i\\pi/2} = i \\\\\n",
    "e^{i\\pi} = -1 \\\\\n",
    "e^{2i\\pi} = 1$$\n",
    "\n",
    "> One interesting consequence of this is Euler's Identity:\n",
    ">\n",
    "> $$e^{i\\pi} + 1 = 0$$\n",
    ">\n",
    "> While this doesn't have any notable uses, it is still an interesting identity to consider, as it combines 5 fundamental constants of algebra into one expression.\n",
    "\n",
    "We can also calculate complex powers of $e$ as follows:\n",
    "\n",
    "$$e^{a + bi} = e^a \\cdot e^{bi}$$\n",
    "\n",
    "Finally, using logarithms to express the base of the exponent as $r = e^{\\ln r}$, we can use this to find complex powers of any positive real number.\n",
    "\n",
    "So in summary:\n",
    "\n",
    "Euler formula says $$\\exp(\\theta) = \\cos(\\theta) + j \\sin(\\theta)$$\n",
    "\n",
    "If we put in a general complex number, we get the following:\n",
    "\n",
    "$$\\exp(x+yj) = \\cos(y)*\\exp(x) + \\sin(y)*\\exp(x) j$$\n",
    "<!-- The foregoing is quoted from MS. -->"
   ]
  },
  {
   "cell_type": "markdown",
   "metadata": {},
   "source": [
    "### <span style=\"color:#345995\">Exercise 7: Complex Exponents</span>\n",
    "\n",
    "Compose a function `expc` which accepts a pair of integers `x` and yields $e^x$.  `expc` should return a pair of values of type `float` or `int`."
   ]
  },
  {
   "cell_type": "code",
   "execution_count": 66,
   "metadata": {},
   "outputs": [],
   "source": [
    "#grade\n",
    "\n",
    "from math import e\n",
    "from math import cos, sin, e, exp\n",
    "import numpy as np\n",
    "\n",
    "def expc(x): # e^a * e^bi\n",
    "    a = x[0]\n",
    "    b = x[1]\n",
    "    return (cos(b)*exp(a) , sin(b)*exp(a))\n"
   ]
  },
  {
   "cell_type": "code",
   "execution_count": 67,
   "metadata": {},
   "outputs": [
    {
     "name": "stdout",
     "output_type": "stream",
     "text": [
      "Success!\n"
     ]
    }
   ],
   "source": [
    "#Don't modify this cell run it to test your code\n",
    "#Tests are not exhaustive this is just a sanity check\n",
    "x = (0.18, -6.24)\n",
    "expc_result = expc(x)\n",
    "expected = (1.196, 0.051)\n",
    "assert isclose(expc_result, expected, rtol=0.01).all\n",
    "print(\"Success!\")"
   ]
  },
  {
   "cell_type": "markdown",
   "metadata": {},
   "source": [
    "### <span style=\"color:#345995\">Exercise 8: Complex Powers of Real Numbers</span>\n",
    "\n",
    "Compose a function `powc_real` which accepts a real `float` `r` and a pair of integers `x` and yields $r^{x}=r^{a+bi}$.  `powc_real` should return a pair of values of type `float` or `int`.\n",
    "\n",
    "Use the fact that $r = e^{\\ln r}$ to convert exponent bases.  $\\ln r$ requires $r > 0$.\n",
    "\n",
    "$$ r^{a+bi} = e^{(\\ln r)(a+ib)} = e^{(a \\ln r)+i(b \\ln r)}$$\n",
    "\n",
    "HINT: Use `expc` function and handle two cases: `r > 0` and `r = 0`\n"
   ]
  },
  {
   "cell_type": "code",
   "execution_count": 74,
   "metadata": {},
   "outputs": [],
   "source": [
    "#grade\n",
    "from math import log,e\n",
    "def powc_real(r,x): # define r^x = r = e^(ln r)\n",
    "    a = x[0]\n",
    "    b = x[1]\n",
    "    if r == 0:\n",
    "        return (0,0)\n",
    "    elif r > 0:\n",
    "        return expc(((a * log(r)),(b * log(r))))"
   ]
  },
  {
   "cell_type": "code",
   "execution_count": 75,
   "metadata": {},
   "outputs": [
    {
     "name": "stdout",
     "output_type": "stream",
     "text": [
      "Success!\n"
     ]
    }
   ],
   "source": [
    "#Don't modify this cell run it to test your code\n",
    "#Tests are not exhaustive this is just a sanity check\n",
    "base = 31.923129780662176\n",
    "x = (2.48, -5.35)\n",
    "powc_real_result = powc_real(base, x)\n",
    "expected = (5098.582, 1693.782)\n",
    "assert isclose(powc_real_result, expected, rtol=0.01).all\n",
    "print(\"Success!\")"
   ]
  },
  {
   "cell_type": "markdown",
   "metadata": {},
   "source": [
    "<div class=\"alert alert-danger\">\n",
    "Check in with your team and TA to make sure everyone understands concepts up through this point.\n",
    "</div>"
   ]
  }
 ],
 "metadata": {
  "kernelspec": {
   "display_name": "Python 3",
   "language": "python",
   "name": "python3"
  },
  "language_info": {
   "codemirror_mode": {
    "name": "ipython",
    "version": 3
   },
   "file_extension": ".py",
   "mimetype": "text/x-python",
   "name": "python",
   "nbconvert_exporter": "python",
   "pygments_lexer": "ipython3",
   "version": "3.8.6"
  }
 },
 "nbformat": 4,
 "nbformat_minor": 4
}
