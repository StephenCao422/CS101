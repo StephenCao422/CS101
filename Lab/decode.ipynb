{
 "cells": [
  {
   "cell_type": "markdown",
   "metadata": {},
   "source": [
    "# `lab07`—“The Secret Weapon that Won the War”"
   ]
  },
  {
   "cell_type": "markdown",
   "metadata": {},
   "source": [
    "**Objectives**\n",
    "\n",
    "- Apply a brute-force attack to solve an encryption problem.\n",
    "- Apply language-frequency and encryption ideas to decrypt a target message."
   ]
  },
  {
   "cell_type": "markdown",
   "metadata": {},
   "source": [
    "In the `encode` lab, you built a tool to reproduce the encryption algorithm of the World War II-era Nazi Enigma machine.  Today, you will recapitulate some of the work required to solve such an encryption if the encoding offsets are unknown.\n",
    "\n",
    "This is a computer implementation of one possible solution method, although not the one that [the Allies used in WW2](https://en.wikipedia.org/wiki/Cryptanalysis_of_the_Enigma) to decrypt many Nazi German communiqués.  This technique only uses the target letter frequency of the German language, whereas in reality the Polish and later British codebreakers relied on certain repeated patterns and other tells."
   ]
  },
  {
   "cell_type": "markdown",
   "metadata": {},
   "source": [
    "## Enigma:  A Refresher"
   ]
  },
  {
   "cell_type": "markdown",
   "metadata": {},
   "source": [
    "Enigma uses a polyalphabetic cipher, in which each letter pressed on a mechanical keyboard would both be encoded and trigger a rotor to change position.  Since the rotor determines the alphabet (either the offset or a randomized substitution pattern), each letter press *changes the subsequent encoding alphabet*.  It's like changing the offset according to some rule every time you encoded a letter above.\n",
    "\n",
    "To clarify this, first think of a pair of rotors, or wheels.  The inner (red) wheel represents the base alphabet (of the message), and the outer (blue) wheel represents the letter each inner letter maps to (the encoding).  An offset of one produces the following diagram:\n",
    "\n",
    "![](./img/rotor-base.png)\n",
    "\n",
    "A rotor cipher simply chains multiple wheels together, so that a change in one wheel produces an encoded letter *but also changes the position of the encoding rotor* for the next letter.  For instance, before encoding the letter `'A'` from the inner wheel, the rotor configuration is at left.  After encoding `'A'` (to `'B'`), the wheel advances and gives us the *new* configuration at right, in which `'A'` now maps to `'C'`.\n",
    "\n",
    "![](./img/rotor-pair.png)\n",
    "\n",
    "In order to think about a rotor cipher, you will have to accept a message, and for each letter in that message you will need to:\n",
    "\n",
    "1.  Encode the letter.\n",
    "2.  Advance the offset of the rotors by one.\n",
    "\n",
    "-   We provide a function `rotor_cipher` which accepts a string `message` and a list `m` of the starting offsets for the $n$ rotors.  `rotor_cipher` should `return` the message transformed by successively apply the rotor cipher across the alphabet."
   ]
  },
  {
   "cell_type": "code",
   "execution_count": 1,
   "metadata": {},
   "outputs": [],
   "source": [
    "#grade\n",
    "# This is from last lab, do not modify\n",
    "alphabet = 'ABCDEFGHIJKLMNOPQRSTUVWXYZ'\n",
    "\n",
    "def mapper( letter,offset=1 ):\n",
    "    '''\n",
    "    Map a single-character string letter forward by its offset.\n",
    "    '''\n",
    "    return alphabet[ ( alphabet.index( letter ) + offset ) % 26 ]\n",
    "\n",
    "def decode_n_rotors( message,m ):\n",
    "    decoded = ''\n",
    "    message = message.upper()\n",
    "    \n",
    "    for letter in message:\n",
    "        if letter in alphabet:\n",
    "            decoded += mapper( letter,sum( m ) )\n",
    "            # Rotate all rotors back.\n",
    "            m[ 0 ] = ( m[ 0 ] - 1 ) % 26\n",
    "            for i in range( 1,len( m ) ):\n",
    "                if m[ i - 1 ] % 26 == 0:\n",
    "                    m[ i ] = ( m[ i ] - 1 ) % 26  # here as well\n",
    "        else:\n",
    "            decoded += letter\n",
    "    \n",
    "    # Finally, return the result.\n",
    "    return decoded\n",
    "\n",
    "def encode_n_rotors( message,m ):\n",
    "    encoded = ''\n",
    "    \n",
    "    # Convert the message to upper-case.\n",
    "    message = message.upper()\n",
    "    \n",
    "    # Loop over each letter of the message.\n",
    "    for letter in message:\n",
    "        # If the letter is in the alphabet, then:\n",
    "        if letter in alphabet:\n",
    "            # 1. encode the letter\n",
    "            encoded += mapper( letter,sum( m ) )\n",
    "            # 2. advance the offset of each rotor by n=1 (modulo 26)\n",
    "            m[ 0 ] = ( m[ 0 ] + 1 ) % 26\n",
    "            for i in range( 1,len( m ) ):\n",
    "                if m[ i - 1 ] % 26 == 0:\n",
    "                    m[ i ] = ( m[ i ] + 1 ) % 26  # here as well\n",
    "\n",
    "        # Otherwise, just add the whitespace or punctuation or numeric character to the encoded string.\n",
    "        else:\n",
    "            encoded += letter\n",
    "    \n",
    "    # Finally, return the encoded message.\n",
    "    return encoded"
   ]
  },
  {
   "cell_type": "code",
   "execution_count": 2,
   "metadata": {},
   "outputs": [
    {
     "data": {
      "text/plain": [
       "'HFNOS'"
      ]
     },
     "execution_count": 2,
     "metadata": {},
     "output_type": "execute_result"
    }
   ],
   "source": [
    "# As an example, 'HELLO' maps to 'HFNOS' if it starts with an offset of 0 on one rotor:\n",
    "#   H->H, E->F (1), L->N (2), L->O (3), O->S (4).\n",
    "text = 'HELLO'\n",
    "encode_n_rotors( text,[0,] )"
   ]
  },
  {
   "cell_type": "code",
   "execution_count": 3,
   "metadata": {},
   "outputs": [
    {
     "data": {
      "text/plain": [
       "'JHPQU'"
      ]
     },
     "execution_count": 3,
     "metadata": {},
     "output_type": "execute_result"
    }
   ],
   "source": [
    "# As an example, 'HELLO' maps to 'HFNOS' if it starts with an offset of [1,1] on two rotors:\n",
    "#   H->J (1+1), E->H (2+1), L->P (3+1), L->Q (4+1), O->U (5+1).\n",
    "text = 'HELLO'\n",
    "encode_n_rotors( text,[1,1] )"
   ]
  },
  {
   "cell_type": "markdown",
   "metadata": {},
   "source": [
    "### <span style=\"color:#345995\">Exercise 0: Decode_n_rotors</span>"
   ]
  },
  {
   "cell_type": "markdown",
   "metadata": {},
   "source": [
    "### A Brute-Force Solution"
   ]
  },
  {
   "cell_type": "markdown",
   "metadata": {},
   "source": [
    "We will explore several potential solutions to this problem:\n",
    "\n",
    "1.  A brute-force or exhaustive solution, which simply tries every single possible rotor configuration on an encrypted text.\n",
    "2.  A one-letter frequency attack, based on the sort of calculations you did in the lab `language`.\n",
    "3.  A three-letter frequency attack, based on the relative likelihood of a given three-letter combination in a language, like `ghi` or `nvy`.\n",
    "\n",
    "First, the brute-force solution.  In this case, we make a guess about the number of rotors employed, try every combination, and visually inspect the results for the likely decryption.\n",
    "\n",
    "For a single-rotor Enigma cipher, there is only one offset per letter, so only 26 possibilities need be tried for an exhaustive search.  For a two-rotor Enigma cipher, $26 \\times 26 = 26^2 = 676$ cases must be tested.  In general, for $n$ rotors, $26^n$ cases must be searched."
   ]
  },
  {
   "cell_type": "markdown",
   "metadata": {},
   "source": [
    "We provide the partial function `decode_n_rotors( message,m )` which accepts an encrypted message `message` and a tuple or list of $n$ rotor offsets. You have to complete it using the concepts from `encode_n_rotor(message,m)`"
   ]
  },
  {
   "cell_type": "code",
   "execution_count": 6,
   "metadata": {},
   "outputs": [],
   "source": [
    "#grade\n",
    "def decode_n_rotors( message,m ):\n",
    "    decoded = ''\n",
    "    \n",
    "    # Convert the message to upper-case.\n",
    "    message = message.upper()\n",
    "    \n",
    "    # Reverse offsets for convenience.\n",
    "    for i in range( len( m ) ):\n",
    "        m[ i ] = -m[ i ]\n",
    "    \n",
    "    # Loop over each letter of the message.\n",
    "    for letter in message:\n",
    "        # If the letter is in the alphabet, then:\n",
    "        if letter in alphabet:\n",
    "            # 1. encode the letter\n",
    "            decoded += mapper( letter,sum( m ) )\n",
    "            # 2. decrement the offset of each rotor by n=1 (modulo 26)\n",
    "            m[ 0 ] = ( m[ 0 ] - 1 ) % 26\n",
    "            for i in range( 1,len( m ) ):\n",
    "                if m[ i - 1 ] % 26 == 0:\n",
    "                    m[ i ] = ( m[ i ] - 1 ) % 26\n",
    "            \n",
    "        # Otherwise, just add the whitespace or punctuation or numeric character to the encoded string.\n",
    "        else:\n",
    "            decoded += letter\n",
    "\n",
    "    # Finally, return the result.\n",
    "    return decoded"
   ]
  },
  {
   "cell_type": "code",
   "execution_count": 7,
   "metadata": {},
   "outputs": [
    {
     "name": "stdout",
     "output_type": "stream",
     "text": [
      "OU. JTCSMA LPUAU P FVJLYQAOGMG ODR, FY H OXYO EROBQE KAIPHA ZD, BMRGPGKMM DSQ UCJIV, SGX CWSGMG NGX DUB\n",
      "ADMNQRRTT SQ VYMPXGM ASIXRKUBB, WPFNZAYT GK IODBPVITG, LR IVVESYOVBV OFM MBVP VMTR JPWIWLACC HQES IXV KTGZ WP FHS.\n",
      "MR. FOWLER BEING A PERSEVERING MAN, AS A GOOD SEAMAN SHOULD BE, BLOCKADED THE HOUSE, AND HAVING MET YOU\n",
      "SUCCEEDED BY CERTAIN ARGUMENTS, METALLIC OR OTHERWISE, IN CONVINCING YOU THAT YOUR INTERESTS WERE THE SAME AS HIS.\n"
     ]
    }
   ],
   "source": [
    "# Test [1,1] offset on two rotors.\n",
    "test_text = \"\"\"Mr. Fowler being a persevering man, as a good seaman should be, blockaded the house, and having met you\n",
    "succeeded by certain arguments, metallic or otherwise, in convincing you that your interests were the same as his.\"\"\"\n",
    "code_text = \"\"\"OU. JTCSMA LPUAU P FVJLYQAOGMG ODR, FY H OXYO EROBQE KAIPHA ZD, BMRGPGKMM DSQ UCJIV, SGX CWSGMG NGX DUB\n",
    "ADMNQRRTT SQ VYMPXGM ASIXRKUBB, WPFNZAYT GK IODBPVITG, LR IVVESYOVBV OFM MBVP VMTR JPWIWLACC HQES IXV KTGZ WP FHS.\"\"\"\n",
    "\n",
    "print( encode_n_rotors( test_text,[ 1,1 ] ) )\n",
    "assert encode_n_rotors( test_text,[ 1,1 ] ) == code_text\n",
    "\n",
    "print( decode_n_rotors( code_text,[ 1,1 ] ) )\n",
    "assert decode_n_rotors( code_text,[ 1,1 ] ) == test_text.upper()"
   ]
  },
  {
   "cell_type": "code",
   "execution_count": 9,
   "metadata": {},
   "outputs": [
    {
     "name": "stdout",
     "output_type": "stream",
     "text": [
      "SY. NXGWQE PTYEY T JZNPCUESKQL SHV, JC L SBCS IVSFUI OEMTLE DH, FRVKTKOQQ HWU YGNMZ, WKB GAWKQK RLB HYF\n",
      "EHQRUVVXX WU ZCQTBKQ EWMCVOYFF, ATJRDECX KO MSHFTZMXK, PW MZZIWCSZFZ SJQ QFZT ZQXV NTAMBPEGG LUIW MBZ OXKD AT JLW.\n",
      "MR. FOWLER BEING A PERSEVERING MAN, AS A GOOD SEAMAN SHOULD BE, BLOCKADED THE HOUSE, AND HAVING MET YOU\n",
      "SUCCEEDED BY CERTAIN ARGUMENTS, METALLIC OR OTHERWISE, IN CONVINCING YOU THAT YOUR INTERESTS WERE THE SAME AS HIS.\n"
     ]
    }
   ],
   "source": [
    "# Test [2,2,2] offset on three rotors.\n",
    "test_text = \"\"\"Mr. Fowler being a persevering man, as a good seaman should be, blockaded the house, and having met you\n",
    "succeeded by certain arguments, metallic or otherwise, in convincing you that your interests were the same as his.\"\"\"\n",
    "code_text = \"\"\"SY. NXGWQE PTYEY T JZNPCUESKQL SHV, JC L SBCS IVSFUI OEMTLE DH, FRVKTKOQQ HWU YGNMZ, WKB GAWKQK RLB HYF\n",
    "EHQRUVVXX WU ZCQTBKQ EWMCVOYFF, ATJRDECX KO MSHFTZMXK, PW MZZIWCSZFZ SJQ QFZT ZQXV NTAMBPEGG LUIW MBZ OXKD AT JLW.\"\"\"\n",
    "\n",
    "print( encode_n_rotors( test_text,[ 2,2,2 ] ) )\n",
    "assert encode_n_rotors( test_text,[ 2,2,2 ] ) == code_text\n",
    "\n",
    "code_text = encode_n_rotors( test_text,[ 2,2,2 ] )\n",
    "print( decode_n_rotors( code_text,[ 2,2,2 ] ) )\n",
    "assert decode_n_rotors( code_text,[ 2,2,2 ] ) == test_text.upper()"
   ]
  },
  {
   "cell_type": "markdown",
   "metadata": {},
   "source": [
    "Given these two tools, we can encrypt any message like the Enigma would.  We can also decrypt using candidate offsets in an attempt to solve an unknown message."
   ]
  },
  {
   "cell_type": "markdown",
   "metadata": {},
   "source": [
    "### <span style=\"color:#345995\">Exercise 1: Find a Single Encoding</span>\n",
    "\n",
    "-   Consider the following message, which has been encoded by one rotor.  Write a loop which attempts all 26 possible rotor offsets and displays the result.  Use the only English-language result to identify the correct offset."
   ]
  },
  {
   "cell_type": "code",
   "execution_count": 71,
   "metadata": {},
   "outputs": [
    {
     "name": "stdout",
     "output_type": "stream",
     "text": [
      "0 KFF DREP JVTIVKJ\n",
      "1 JEE CQDO IUSHUJI\n",
      "2 IDD BPCN HTRGTIH\n",
      "3 HCC AOBM GSQFSHG\n",
      "4 GBB ZNAL FRPERGF\n",
      "5 FAA YMZK EQODQFE\n",
      "6 EZZ XLYJ DPNCPED\n",
      "7 DYY WKXI COMBODC\n",
      "8 CXX VJWH BNLANCB\n",
      "9 BWW UIVG AMKZMBA\n",
      "10 AVV THUF ZLJYLAZ\n",
      "11 ZUU SGTE YKIXKZY\n",
      "12 YTT RFSD XJHWJYX\n",
      "13 XSS QERC WIGVIXW\n",
      "14 WRR PDQB VHFUHWV\n",
      "15 VQQ OCPA UGETGVU\n",
      "16 UPP NBOZ TFDSFUT\n",
      "17 TOO MANY SECRETS\n",
      "18 SNN LZMX RDBQDSR\n",
      "19 RMM KYLW QCAPCRQ\n",
      "20 QLL JXKV PBZOBQP\n",
      "21 PKK IWJU OAYNAPO\n",
      "22 OJJ HVIT NZXMZON\n",
      "23 NII GUHS MYWLYNM\n",
      "24 MHH FTGR LXVKXML\n",
      "25 LGG ESFQ KWUJWLK\n"
     ]
    }
   ],
   "source": [
    "#grade\n",
    "code_text = \"\"\"KGH GVJV QDCSGWW\"\"\"\n",
    "for i in range(26):\n",
    "    print(i,decode_n_rotors(code_text,[i]))\n",
    "# Write a loop here to test all possible combinations for code_text with one rotor.\n",
    "# You should output each result and index so you see which one is correct."
   ]
  },
  {
   "cell_type": "code",
   "execution_count": 72,
   "metadata": {},
   "outputs": [
    {
     "name": "stdout",
     "output_type": "stream",
     "text": [
      "TOO MANY SECRETS\n"
     ]
    }
   ],
   "source": [
    "#grade\n",
    "decoded_text = decode_n_rotors(code_text,[17]) \n",
    "print(decoded_text)# Write key value here"
   ]
  },
  {
   "cell_type": "markdown",
   "metadata": {},
   "source": [
    "### <span style=\"color:#345995\">Exercise 2: Find a Double Encoding</span>\n",
    "\n",
    "-   Consider the following message, which has been encoded by two rotors.  Write a nested loop which attempts all $26 \\times 26 = 676$ possible rotor offsets and displays the result.  Use this to identify the correct offset.  Store each output in a list named `possible_msg`"
   ]
  },
  {
   "cell_type": "code",
   "execution_count": 68,
   "metadata": {},
   "outputs": [
    {
     "name": "stdout",
     "output_type": "stream",
     "text": [
      "0 0 JARAN CKJJX DFSB VLR RM\n",
      "0 1 IZQZM BJIIW CERA UKQ QL\n",
      "0 2 HYPYL AIHHV BDQZ TJP PK\n",
      "0 3 GXOXK ZHGGU ACPY SIO OJ\n",
      "0 4 FWNWJ YGFFT ZBOX RHN NI\n",
      "0 5 EVMVI XFEES YANW QGM MH\n",
      "0 6 DULUH WEDDR XZMV PFL LG\n",
      "0 7 CTKTG VDCCQ WYLU OEK KF\n",
      "0 8 BSJSF UCBBP VXKT NDJ JE\n",
      "0 9 ARIRE TBAAO UWJS MCI ID\n",
      "0 10 ZQHQD SAZZN TVIR LBH HC\n",
      "0 11 YPGPC RZYYM SUHQ KAG GB\n",
      "0 12 XOFOB QYXXL RTGP JZF FA\n",
      "0 13 WNENA PXWWK QSFO IYE EZ\n",
      "0 14 VMDMZ OWVVJ PREN HXD DY\n",
      "0 15 ULCLY NVUUI OQDM GWC CX\n",
      "0 16 TKBKX MUTTH NPCL FVB BW\n",
      "0 17 SJAJW LTSSG MOBK EUA AV\n",
      "0 18 RIZIV KSRRF LNAJ DTZ ZU\n",
      "0 19 QHYHU JRQQE KMZI CSY YT\n",
      "0 20 PGXGT IQPPD JLYH BRX XS\n",
      "0 21 OFWFS HPOOC IKXG AQW WR\n",
      "0 22 NEVER GONNB HJWF ZPV VQ\n",
      "0 23 MDUDQ FNMMA GIVE YOU UP\n",
      "0 24 LCTCP EMLLZ FHUD XNT TO\n",
      "0 25 KBSBO DLKKY EGTC WMS SN\n",
      "1 0 IZQZM BJIIW CERA UKQ QL\n",
      "1 1 HYPYL AIHHV BDQZ TJP PK\n",
      "1 2 GXOXK ZHGGU ACPY SIO OJ\n",
      "1 3 FWNWJ YGFFT ZBOX RHN NI\n",
      "1 4 EVMVI XFEES YANW QGM MH\n",
      "1 5 DULUH WEDDR XZMV PFL LG\n",
      "1 6 CTKTG VDCCQ WYLU OEK KF\n",
      "1 7 BSJSF UCBBP VXKT NDJ JE\n",
      "1 8 ARIRE TBAAO UWJS MCI ID\n",
      "1 9 ZQHQD SAZZN TVIR LBH HC\n",
      "1 10 YPGPC RZYYM SUHQ KAG GB\n",
      "1 11 XOFOB QYXXL RTGP JZF FA\n",
      "1 12 WNENA PXWWK QSFO IYE EZ\n",
      "1 13 VMDMZ OWVVJ PREN HXD DY\n",
      "1 14 ULCLY NVUUI OQDM GWC CX\n",
      "1 15 TKBKX MUTTH NPCL FVB BW\n",
      "1 16 SJAJW LTSSG MOBK EUA AV\n",
      "1 17 RIZIV KSRRF LNAJ DTZ ZU\n",
      "1 18 QHYHU JRQQE KMZI CSY YT\n",
      "1 19 PGXGT IQPPD JLYH BRX XS\n",
      "1 20 OFWFS HPOOC IKXG AQW WR\n",
      "1 21 NEVER GONNB HJWF ZPV VQ\n",
      "1 22 MDUDQ FNMMA GIVE YOU UP\n",
      "1 23 LCTCP EMLLZ FHUD XNT TO\n",
      "1 24 KBSBO DLKKY EGTC WMS SN\n",
      "1 25 JARAN CKJJX DFSB VLR RM\n",
      "2 0 HYPYL AIHHV BDQZ TJP PK\n",
      "2 1 GXOXK ZHGGU ACPY SIO OJ\n",
      "2 2 FWNWJ YGFFT ZBOX RHN NI\n",
      "2 3 EVMVI XFEES YANW QGM MH\n",
      "2 4 DULUH WEDDR XZMV PFL LG\n",
      "2 5 CTKTG VDCCQ WYLU OEK KF\n",
      "2 6 BSJSF UCBBP VXKT NDJ JE\n",
      "2 7 ARIRE TBAAO UWJS MCI ID\n",
      "2 8 ZQHQD SAZZN TVIR LBH HC\n",
      "2 9 YPGPC RZYYM SUHQ KAG GB\n",
      "2 10 XOFOB QYXXL RTGP JZF FA\n",
      "2 11 WNENA PXWWK QSFO IYE EZ\n",
      "2 12 VMDMZ OWVVJ PREN HXD DY\n",
      "2 13 ULCLY NVUUI OQDM GWC CX\n",
      "2 14 TKBKX MUTTH NPCL FVB BW\n",
      "2 15 SJAJW LTSSG MOBK EUA AV\n",
      "2 16 RIZIV KSRRF LNAJ DTZ ZU\n",
      "2 17 QHYHU JRQQE KMZI CSY YT\n",
      "2 18 PGXGT IQPPD JLYH BRX XS\n",
      "2 19 OFWFS HPOOC IKXG AQW WR\n",
      "2 20 NEVER GONNB HJWF ZPV VQ\n",
      "2 21 MDUDQ FNMMA GIVE YOU UP\n",
      "2 22 LCTCP EMLLZ FHUD XNT TO\n",
      "2 23 KBSBO DLKKY EGTC WMS SN\n",
      "2 24 JARAN CKJJX DFSB VLR RM\n",
      "2 25 IZQZM BJIIW CERA UKQ QL\n",
      "3 0 GXOXK ZHGGU ACPY SIO OJ\n",
      "3 1 FWNWJ YGFFT ZBOX RHN NI\n",
      "3 2 EVMVI XFEES YANW QGM MH\n",
      "3 3 DULUH WEDDR XZMV PFL LG\n",
      "3 4 CTKTG VDCCQ WYLU OEK KF\n",
      "3 5 BSJSF UCBBP VXKT NDJ JE\n",
      "3 6 ARIRE TBAAO UWJS MCI ID\n",
      "3 7 ZQHQD SAZZN TVIR LBH HC\n",
      "3 8 YPGPC RZYYM SUHQ KAG GB\n",
      "3 9 XOFOB QYXXL RTGP JZF FA\n",
      "3 10 WNENA PXWWK QSFO IYE EZ\n",
      "3 11 VMDMZ OWVVJ PREN HXD DY\n",
      "3 12 ULCLY NVUUI OQDM GWC CX\n",
      "3 13 TKBKX MUTTH NPCL FVB BW\n",
      "3 14 SJAJW LTSSG MOBK EUA AV\n",
      "3 15 RIZIV KSRRF LNAJ DTZ ZU\n",
      "3 16 QHYHU JRQQE KMZI CSY YT\n",
      "3 17 PGXGT IQPPD JLYH BRX XS\n",
      "3 18 OFWFS HPOOC IKXG AQW WR\n",
      "3 19 NEVER GONNB HJWF ZPV VQ\n",
      "3 20 MDUDQ FNMMA GIVE YOU UP\n",
      "3 21 LCTCP EMLLZ FHUD XNT TO\n",
      "3 22 KBSBO DLKKY EGTC WMS SN\n",
      "3 23 JARAN CKJJX DFSB VLR RM\n",
      "3 24 IZQZM BJIIW CERA UKQ QL\n",
      "3 25 HYPYL AIHHV BDQZ TJP PK\n",
      "4 0 FWNWJ YGFFT ZBOX RHN NI\n",
      "4 1 EVMVI XFEES YANW QGM MH\n",
      "4 2 DULUH WEDDR XZMV PFL LG\n",
      "4 3 CTKTG VDCCQ WYLU OEK KF\n",
      "4 4 BSJSF UCBBP VXKT NDJ JE\n",
      "4 5 ARIRE TBAAO UWJS MCI ID\n",
      "4 6 ZQHQD SAZZN TVIR LBH HC\n",
      "4 7 YPGPC RZYYM SUHQ KAG GB\n",
      "4 8 XOFOB QYXXL RTGP JZF FA\n",
      "4 9 WNENA PXWWK QSFO IYE EZ\n",
      "4 10 VMDMZ OWVVJ PREN HXD DY\n",
      "4 11 ULCLY NVUUI OQDM GWC CX\n",
      "4 12 TKBKX MUTTH NPCL FVB BW\n",
      "4 13 SJAJW LTSSG MOBK EUA AV\n",
      "4 14 RIZIV KSRRF LNAJ DTZ ZU\n",
      "4 15 QHYHU JRQQE KMZI CSY YT\n",
      "4 16 PGXGT IQPPD JLYH BRX XS\n",
      "4 17 OFWFS HPOOC IKXG AQW WR\n",
      "4 18 NEVER GONNB HJWF ZPV VQ\n",
      "4 19 MDUDQ FNMMA GIVE YOU UP\n",
      "4 20 LCTCP EMLLZ FHUD XNT TO\n",
      "4 21 KBSBO DLKKY EGTC WMS SN\n",
      "4 22 JARAN CKJJX DFSB VLR RM\n",
      "4 23 IZQZM BJIIW CERA UKQ QL\n",
      "4 24 HYPYL AIHHV BDQZ TJP PK\n",
      "4 25 GXOXK ZHGGU ACPY SIO OJ\n",
      "5 0 EVMVI XFEES YANW QGM MH\n",
      "5 1 DULUH WEDDR XZMV PFL LG\n",
      "5 2 CTKTG VDCCQ WYLU OEK KF\n",
      "5 3 BSJSF UCBBP VXKT NDJ JE\n",
      "5 4 ARIRE TBAAO UWJS MCI ID\n",
      "5 5 ZQHQD SAZZN TVIR LBH HC\n",
      "5 6 YPGPC RZYYM SUHQ KAG GB\n",
      "5 7 XOFOB QYXXL RTGP JZF FA\n",
      "5 8 WNENA PXWWK QSFO IYE EZ\n",
      "5 9 VMDMZ OWVVJ PREN HXD DY\n",
      "5 10 ULCLY NVUUI OQDM GWC CX\n",
      "5 11 TKBKX MUTTH NPCL FVB BW\n",
      "5 12 SJAJW LTSSG MOBK EUA AV\n",
      "5 13 RIZIV KSRRF LNAJ DTZ ZU\n",
      "5 14 QHYHU JRQQE KMZI CSY YT\n",
      "5 15 PGXGT IQPPD JLYH BRX XS\n",
      "5 16 OFWFS HPOOC IKXG AQW WR\n",
      "5 17 NEVER GONNB HJWF ZPV VQ\n",
      "5 18 MDUDQ FNMMA GIVE YOU UP\n",
      "5 19 LCTCP EMLLZ FHUD XNT TO\n",
      "5 20 KBSBO DLKKY EGTC WMS SN\n",
      "5 21 JARAN CKJJX DFSB VLR RM\n",
      "5 22 IZQZM BJIIW CERA UKQ QL\n",
      "5 23 HYPYL AIHHV BDQZ TJP PK\n",
      "5 24 GXOXK ZHGGU ACPY SIO OJ\n",
      "5 25 FWNWJ YGFFT ZBOX RHN NI\n",
      "6 0 DULUH WEDDR XZMV PFL LG\n",
      "6 1 CTKTG VDCCQ WYLU OEK KF\n",
      "6 2 BSJSF UCBBP VXKT NDJ JE\n",
      "6 3 ARIRE TBAAO UWJS MCI ID\n",
      "6 4 ZQHQD SAZZN TVIR LBH HC\n",
      "6 5 YPGPC RZYYM SUHQ KAG GB\n",
      "6 6 XOFOB QYXXL RTGP JZF FA\n",
      "6 7 WNENA PXWWK QSFO IYE EZ\n",
      "6 8 VMDMZ OWVVJ PREN HXD DY\n",
      "6 9 ULCLY NVUUI OQDM GWC CX\n",
      "6 10 TKBKX MUTTH NPCL FVB BW\n",
      "6 11 SJAJW LTSSG MOBK EUA AV\n",
      "6 12 RIZIV KSRRF LNAJ DTZ ZU\n",
      "6 13 QHYHU JRQQE KMZI CSY YT\n",
      "6 14 PGXGT IQPPD JLYH BRX XS\n",
      "6 15 OFWFS HPOOC IKXG AQW WR\n",
      "6 16 NEVER GONNB HJWF ZPV VQ\n",
      "6 17 MDUDQ FNMMA GIVE YOU UP\n",
      "6 18 LCTCP EMLLZ FHUD XNT TO\n",
      "6 19 KBSBO DLKKY EGTC WMS SN\n",
      "6 20 JARAN CKJJX DFSB VLR RM\n",
      "6 21 IZQZM BJIIW CERA UKQ QL\n",
      "6 22 HYPYL AIHHV BDQZ TJP PK\n",
      "6 23 GXOXK ZHGGU ACPY SIO OJ\n",
      "6 24 FWNWJ YGFFT ZBOX RHN NI\n",
      "6 25 EVMVI XFEES YANW QGM MH\n",
      "7 0 CTKTG VDCCQ WYLU OEK KF\n",
      "7 1 BSJSF UCBBP VXKT NDJ JE\n",
      "7 2 ARIRE TBAAO UWJS MCI ID\n",
      "7 3 ZQHQD SAZZN TVIR LBH HC\n",
      "7 4 YPGPC RZYYM SUHQ KAG GB\n",
      "7 5 XOFOB QYXXL RTGP JZF FA\n",
      "7 6 WNENA PXWWK QSFO IYE EZ\n",
      "7 7 VMDMZ OWVVJ PREN HXD DY\n",
      "7 8 ULCLY NVUUI OQDM GWC CX\n",
      "7 9 TKBKX MUTTH NPCL FVB BW\n",
      "7 10 SJAJW LTSSG MOBK EUA AV\n",
      "7 11 RIZIV KSRRF LNAJ DTZ ZU\n",
      "7 12 QHYHU JRQQE KMZI CSY YT\n",
      "7 13 PGXGT IQPPD JLYH BRX XS\n",
      "7 14 OFWFS HPOOC IKXG AQW WR\n",
      "7 15 NEVER GONNB HJWF ZPV VQ\n",
      "7 16 MDUDQ FNMMA GIVE YOU UP\n",
      "7 17 LCTCP EMLLZ FHUD XNT TO\n",
      "7 18 KBSBO DLKKY EGTC WMS SN\n",
      "7 19 JARAN CKJJX DFSB VLR RM\n",
      "7 20 IZQZM BJIIW CERA UKQ QL\n",
      "7 21 HYPYL AIHHV BDQZ TJP PK\n",
      "7 22 GXOXK ZHGGU ACPY SIO OJ\n",
      "7 23 FWNWJ YGFFT ZBOX RHN NI\n",
      "7 24 EVMVI XFEES YANW QGM MH\n",
      "7 25 DULUH WEDDR XZMV PFL LG\n",
      "8 0 BSJSF UCBBP VXKT NDJ JD\n",
      "8 1 ARIRE TBAAO UWJS MCI IC\n",
      "8 2 ZQHQD SAZZN TVIR LBH HB\n",
      "8 3 YPGPC RZYYM SUHQ KAG GA\n",
      "8 4 XOFOB QYXXL RTGP JZF FZ\n",
      "8 5 WNENA PXWWK QSFO IYE EY\n",
      "8 6 VMDMZ OWVVJ PREN HXD DX\n",
      "8 7 ULCLY NVUUI OQDM GWC CW\n",
      "8 8 TKBKX MUTTH NPCL FVB BV\n",
      "8 9 SJAJW LTSSG MOBK EUA AU\n",
      "8 10 RIZIV KSRRF LNAJ DTZ ZT\n",
      "8 11 QHYHU JRQQE KMZI CSY YS\n",
      "8 12 PGXGT IQPPD JLYH BRX XR\n",
      "8 13 OFWFS HPOOC IKXG AQW WQ\n",
      "8 14 NEVER GONNB HJWF ZPV VP\n",
      "8 15 MDUDQ FNMMA GIVE YOU UO\n",
      "8 16 LCTCP EMLLZ FHUD XNT TN\n",
      "8 17 KBSBO DLKKY EGTC WMS SM\n",
      "8 18 JARAN CKJJX DFSB VLR RL\n",
      "8 19 IZQZM BJIIW CERA UKQ QK\n",
      "8 20 HYPYL AIHHV BDQZ TJP PJ\n",
      "8 21 GXOXK ZHGGU ACPY SIO OI\n",
      "8 22 FWNWJ YGFFT ZBOX RHN NH\n",
      "8 23 EVMVI XFEES YANW QGM MG\n",
      "8 24 DULUH WEDDR XZMV PFL LF\n",
      "8 25 CTKTG VDCCQ WYLU OEK KE\n",
      "9 0 ARIRE TBAAO UWJS MCI HC\n",
      "9 1 ZQHQD SAZZN TVIR LBH GB\n",
      "9 2 YPGPC RZYYM SUHQ KAG FA\n",
      "9 3 XOFOB QYXXL RTGP JZF EZ\n",
      "9 4 WNENA PXWWK QSFO IYE DY\n",
      "9 5 VMDMZ OWVVJ PREN HXD CX\n",
      "9 6 ULCLY NVUUI OQDM GWC BW\n",
      "9 7 TKBKX MUTTH NPCL FVB AV\n",
      "9 8 SJAJW LTSSG MOBK EUA ZU\n",
      "9 9 RIZIV KSRRF LNAJ DTZ YT\n",
      "9 10 QHYHU JRQQE KMZI CSY XS\n",
      "9 11 PGXGT IQPPD JLYH BRX WR\n",
      "9 12 OFWFS HPOOC IKXG AQW VQ\n",
      "9 13 NEVER GONNB HJWF ZPV UP\n",
      "9 14 MDUDQ FNMMA GIVE YOU TO\n",
      "9 15 LCTCP EMLLZ FHUD XNT SN\n",
      "9 16 KBSBO DLKKY EGTC WMS RM\n",
      "9 17 JARAN CKJJX DFSB VLR QL\n",
      "9 18 IZQZM BJIIW CERA UKQ PK\n",
      "9 19 HYPYL AIHHV BDQZ TJP OJ\n",
      "9 20 GXOXK ZHGGU ACPY SIO NI\n",
      "9 21 FWNWJ YGFFT ZBOX RHN MH\n",
      "9 22 EVMVI XFEES YANW QGM LG\n",
      "9 23 DULUH WEDDR XZMV PFL KF\n",
      "9 24 CTKTG VDCCQ WYLU OEK JE\n",
      "9 25 BSJSF UCBBP VXKT NDJ ID\n",
      "10 0 ZQHQD SAZZN TVIR LBG GB\n",
      "10 1 YPGPC RZYYM SUHQ KAF FA\n",
      "10 2 XOFOB QYXXL RTGP JZE EZ\n",
      "10 3 WNENA PXWWK QSFO IYD DY\n",
      "10 4 VMDMZ OWVVJ PREN HXC CX\n",
      "10 5 ULCLY NVUUI OQDM GWB BW\n",
      "10 6 TKBKX MUTTH NPCL FVA AV\n",
      "10 7 SJAJW LTSSG MOBK EUZ ZU\n",
      "10 8 RIZIV KSRRF LNAJ DTY YT\n",
      "10 9 QHYHU JRQQE KMZI CSX XS\n",
      "10 10 PGXGT IQPPD JLYH BRW WR\n",
      "10 11 OFWFS HPOOC IKXG AQV VQ\n",
      "10 12 NEVER GONNB HJWF ZPU UP\n",
      "10 13 MDUDQ FNMMA GIVE YOT TO\n",
      "10 14 LCTCP EMLLZ FHUD XNS SN\n",
      "10 15 KBSBO DLKKY EGTC WMR RM\n",
      "10 16 JARAN CKJJX DFSB VLQ QL\n",
      "10 17 IZQZM BJIIW CERA UKP PK\n",
      "10 18 HYPYL AIHHV BDQZ TJO OJ\n",
      "10 19 GXOXK ZHGGU ACPY SIN NI\n",
      "10 20 FWNWJ YGFFT ZBOX RHM MH\n",
      "10 21 EVMVI XFEES YANW QGL LG\n",
      "10 22 DULUH WEDDR XZMV PFK KF\n",
      "10 23 CTKTG VDCCQ WYLU OEJ JE\n",
      "10 24 BSJSF UCBBP VXKT NDI ID\n",
      "10 25 ARIRE TBAAO UWJS MCH HC\n",
      "11 0 YPGPC RZYYM SUHQ KZF FA\n",
      "11 1 XOFOB QYXXL RTGP JYE EZ\n",
      "11 2 WNENA PXWWK QSFO IXD DY\n",
      "11 3 VMDMZ OWVVJ PREN HWC CX\n",
      "11 4 ULCLY NVUUI OQDM GVB BW\n",
      "11 5 TKBKX MUTTH NPCL FUA AV\n",
      "11 6 SJAJW LTSSG MOBK ETZ ZU\n",
      "11 7 RIZIV KSRRF LNAJ DSY YT\n",
      "11 8 QHYHU JRQQE KMZI CRX XS\n",
      "11 9 PGXGT IQPPD JLYH BQW WR\n",
      "11 10 OFWFS HPOOC IKXG APV VQ\n",
      "11 11 NEVER GONNB HJWF ZOU UP\n",
      "11 12 MDUDQ FNMMA GIVE YNT TO\n",
      "11 13 LCTCP EMLLZ FHUD XMS SN\n",
      "11 14 KBSBO DLKKY EGTC WLR RM\n",
      "11 15 JARAN CKJJX DFSB VKQ QL\n",
      "11 16 IZQZM BJIIW CERA UJP PK\n",
      "11 17 HYPYL AIHHV BDQZ TIO OJ\n",
      "11 18 GXOXK ZHGGU ACPY SHN NI\n",
      "11 19 FWNWJ YGFFT ZBOX RGM MH\n",
      "11 20 EVMVI XFEES YANW QFL LG\n",
      "11 21 DULUH WEDDR XZMV PEK KF\n",
      "11 22 CTKTG VDCCQ WYLU ODJ JE\n",
      "11 23 BSJSF UCBBP VXKT NCI ID\n",
      "11 24 ARIRE TBAAO UWJS MBH HC\n",
      "11 25 ZQHQD SAZZN TVIR LAG GB\n",
      "12 0 XOFOB QYXXL RTGP IYE EZ\n",
      "12 1 WNENA PXWWK QSFO HXD DY\n",
      "12 2 VMDMZ OWVVJ PREN GWC CX\n",
      "12 3 ULCLY NVUUI OQDM FVB BW\n",
      "12 4 TKBKX MUTTH NPCL EUA AV\n",
      "12 5 SJAJW LTSSG MOBK DTZ ZU\n",
      "12 6 RIZIV KSRRF LNAJ CSY YT\n",
      "12 7 QHYHU JRQQE KMZI BRX XS\n",
      "12 8 PGXGT IQPPD JLYH AQW WR\n",
      "12 9 OFWFS HPOOC IKXG ZPV VQ\n",
      "12 10 NEVER GONNB HJWF YOU UP\n",
      "12 11 MDUDQ FNMMA GIVE XNT TO\n",
      "12 12 LCTCP EMLLZ FHUD WMS SN\n",
      "12 13 KBSBO DLKKY EGTC VLR RM\n",
      "12 14 JARAN CKJJX DFSB UKQ QL\n",
      "12 15 IZQZM BJIIW CERA TJP PK\n",
      "12 16 HYPYL AIHHV BDQZ SIO OJ\n",
      "12 17 GXOXK ZHGGU ACPY RHN NI\n",
      "12 18 FWNWJ YGFFT ZBOX QGM MH\n",
      "12 19 EVMVI XFEES YANW PFL LG\n",
      "12 20 DULUH WEDDR XZMV OEK KF\n",
      "12 21 CTKTG VDCCQ WYLU NDJ JE\n",
      "12 22 BSJSF UCBBP VXKT MCI ID\n",
      "12 23 ARIRE TBAAO UWJS LBH HC\n",
      "12 24 ZQHQD SAZZN TVIR KAG GB\n",
      "12 25 YPGPC RZYYM SUHQ JZF FA\n",
      "13 0 WNENA PXWWK QSFN HXD DY\n",
      "13 1 VMDMZ OWVVJ PREM GWC CX\n",
      "13 2 ULCLY NVUUI OQDL FVB BW\n",
      "13 3 TKBKX MUTTH NPCK EUA AV\n",
      "13 4 SJAJW LTSSG MOBJ DTZ ZU\n",
      "13 5 RIZIV KSRRF LNAI CSY YT\n",
      "13 6 QHYHU JRQQE KMZH BRX XS\n",
      "13 7 PGXGT IQPPD JLYG AQW WR\n",
      "13 8 OFWFS HPOOC IKXF ZPV VQ\n",
      "13 9 NEVER GONNB HJWE YOU UP\n",
      "13 10 MDUDQ FNMMA GIVD XNT TO\n",
      "13 11 LCTCP EMLLZ FHUC WMS SN\n",
      "13 12 KBSBO DLKKY EGTB VLR RM\n",
      "13 13 JARAN CKJJX DFSA UKQ QL\n",
      "13 14 IZQZM BJIIW CERZ TJP PK\n",
      "13 15 HYPYL AIHHV BDQY SIO OJ\n",
      "13 16 GXOXK ZHGGU ACPX RHN NI\n",
      "13 17 FWNWJ YGFFT ZBOW QGM MH\n",
      "13 18 EVMVI XFEES YANV PFL LG\n",
      "13 19 DULUH WEDDR XZMU OEK KF\n",
      "13 20 CTKTG VDCCQ WYLT NDJ JE\n",
      "13 21 BSJSF UCBBP VXKS MCI ID\n",
      "13 22 ARIRE TBAAO UWJR LBH HC\n",
      "13 23 ZQHQD SAZZN TVIQ KAG GB\n",
      "13 24 YPGPC RZYYM SUHP JZF FA\n",
      "13 25 XOFOB QYXXL RTGO IYE EZ\n",
      "14 0 VMDMZ OWVVJ PRDM GWC CX\n",
      "14 1 ULCLY NVUUI OQCL FVB BW\n",
      "14 2 TKBKX MUTTH NPBK EUA AV\n",
      "14 3 SJAJW LTSSG MOAJ DTZ ZU\n",
      "14 4 RIZIV KSRRF LNZI CSY YT\n",
      "14 5 QHYHU JRQQE KMYH BRX XS\n",
      "14 6 PGXGT IQPPD JLXG AQW WR\n",
      "14 7 OFWFS HPOOC IKWF ZPV VQ\n",
      "14 8 NEVER GONNB HJVE YOU UP\n",
      "14 9 MDUDQ FNMMA GIUD XNT TO\n",
      "14 10 LCTCP EMLLZ FHTC WMS SN\n",
      "14 11 KBSBO DLKKY EGSB VLR RM\n",
      "14 12 JARAN CKJJX DFRA UKQ QL\n",
      "14 13 IZQZM BJIIW CEQZ TJP PK\n",
      "14 14 HYPYL AIHHV BDPY SIO OJ\n",
      "14 15 GXOXK ZHGGU ACOX RHN NI\n",
      "14 16 FWNWJ YGFFT ZBNW QGM MH\n",
      "14 17 EVMVI XFEES YAMV PFL LG\n",
      "14 18 DULUH WEDDR XZLU OEK KF\n",
      "14 19 CTKTG VDCCQ WYKT NDJ JE\n",
      "14 20 BSJSF UCBBP VXJS MCI ID\n",
      "14 21 ARIRE TBAAO UWIR LBH HC\n",
      "14 22 ZQHQD SAZZN TVHQ KAG GB\n",
      "14 23 YPGPC RZYYM SUGP JZF FA\n",
      "14 24 XOFOB QYXXL RTFO IYE EZ\n",
      "14 25 WNENA PXWWK QSEN HXD DY\n",
      "15 0 ULCLY NVUUI OPCL FVB BW\n",
      "15 1 TKBKX MUTTH NOBK EUA AV\n",
      "15 2 SJAJW LTSSG MNAJ DTZ ZU\n",
      "15 3 RIZIV KSRRF LMZI CSY YT\n",
      "15 4 QHYHU JRQQE KLYH BRX XS\n",
      "15 5 PGXGT IQPPD JKXG AQW WR\n",
      "15 6 OFWFS HPOOC IJWF ZPV VQ\n",
      "15 7 NEVER GONNB HIVE YOU UP\n",
      "15 8 MDUDQ FNMMA GHUD XNT TO\n",
      "15 9 LCTCP EMLLZ FGTC WMS SN\n",
      "15 10 KBSBO DLKKY EFSB VLR RM\n",
      "15 11 JARAN CKJJX DERA UKQ QL\n",
      "15 12 IZQZM BJIIW CDQZ TJP PK\n",
      "15 13 HYPYL AIHHV BCPY SIO OJ\n",
      "15 14 GXOXK ZHGGU ABOX RHN NI\n",
      "15 15 FWNWJ YGFFT ZANW QGM MH\n",
      "15 16 EVMVI XFEES YZMV PFL LG\n",
      "15 17 DULUH WEDDR XYLU OEK KF\n",
      "15 18 CTKTG VDCCQ WXKT NDJ JE\n",
      "15 19 BSJSF UCBBP VWJS MCI ID\n",
      "15 20 ARIRE TBAAO UVIR LBH HC\n",
      "15 21 ZQHQD SAZZN TUHQ KAG GB\n",
      "15 22 YPGPC RZYYM STGP JZF FA\n",
      "15 23 XOFOB QYXXL RSFO IYE EZ\n",
      "15 24 WNENA PXWWK QREN HXD DY\n",
      "15 25 VMDMZ OWVVJ PQDM GWC CX\n",
      "16 0 TKBKX MUTTH MOBK EUA AV\n",
      "16 1 SJAJW LTSSG LNAJ DTZ ZU\n",
      "16 2 RIZIV KSRRF KMZI CSY YT\n",
      "16 3 QHYHU JRQQE JLYH BRX XS\n",
      "16 4 PGXGT IQPPD IKXG AQW WR\n",
      "16 5 OFWFS HPOOC HJWF ZPV VQ\n",
      "16 6 NEVER GONNB GIVE YOU UP\n",
      "16 7 MDUDQ FNMMA FHUD XNT TO\n",
      "16 8 LCTCP EMLLZ EGTC WMS SN\n",
      "16 9 KBSBO DLKKY DFSB VLR RM\n",
      "16 10 JARAN CKJJX CERA UKQ QL\n",
      "16 11 IZQZM BJIIW BDQZ TJP PK\n",
      "16 12 HYPYL AIHHV ACPY SIO OJ\n",
      "16 13 GXOXK ZHGGU ZBOX RHN NI\n",
      "16 14 FWNWJ YGFFT YANW QGM MH\n",
      "16 15 EVMVI XFEES XZMV PFL LG\n",
      "16 16 DULUH WEDDR WYLU OEK KF\n",
      "16 17 CTKTG VDCCQ VXKT NDJ JE\n",
      "16 18 BSJSF UCBBP UWJS MCI ID\n",
      "16 19 ARIRE TBAAO TVIR LBH HC\n",
      "16 20 ZQHQD SAZZN SUHQ KAG GB\n",
      "16 21 YPGPC RZYYM RTGP JZF FA\n",
      "16 22 XOFOB QYXXL QSFO IYE EZ\n",
      "16 23 WNENA PXWWK PREN HXD DY\n",
      "16 24 VMDMZ OWVVJ OQDM GWC CX\n",
      "16 25 ULCLY NVUUI NPCL FVB BW\n",
      "17 0 SJAJW LTSSF LNAJ DTZ ZU\n",
      "17 1 RIZIV KSRRE KMZI CSY YT\n",
      "17 2 QHYHU JRQQD JLYH BRX XS\n",
      "17 3 PGXGT IQPPC IKXG AQW WR\n",
      "17 4 OFWFS HPOOB HJWF ZPV VQ\n",
      "17 5 NEVER GONNA GIVE YOU UP\n",
      "17 6 MDUDQ FNMMZ FHUD XNT TO\n",
      "17 7 LCTCP EMLLY EGTC WMS SN\n",
      "17 8 KBSBO DLKKX DFSB VLR RM\n",
      "17 9 JARAN CKJJW CERA UKQ QL\n",
      "17 10 IZQZM BJIIV BDQZ TJP PK\n",
      "17 11 HYPYL AIHHU ACPY SIO OJ\n",
      "17 12 GXOXK ZHGGT ZBOX RHN NI\n",
      "17 13 FWNWJ YGFFS YANW QGM MH\n",
      "17 14 EVMVI XFEER XZMV PFL LG\n",
      "17 15 DULUH WEDDQ WYLU OEK KF\n",
      "17 16 CTKTG VDCCP VXKT NDJ JE\n",
      "17 17 BSJSF UCBBO UWJS MCI ID\n",
      "17 18 ARIRE TBAAN TVIR LBH HC\n",
      "17 19 ZQHQD SAZZM SUHQ KAG GB\n",
      "17 20 YPGPC RZYYL RTGP JZF FA\n",
      "17 21 XOFOB QYXXK QSFO IYE EZ\n",
      "17 22 WNENA PXWWJ PREN HXD DY\n",
      "17 23 VMDMZ OWVVI OQDM GWC CX\n",
      "17 24 ULCLY NVUUH NPCL FVB BW\n",
      "17 25 TKBKX MUTTG MOBK EUA AV\n",
      "18 0 RIZIV KSRQE KMZI CSY YT\n",
      "18 1 QHYHU JRQPD JLYH BRX XS\n",
      "18 2 PGXGT IQPOC IKXG AQW WR\n",
      "18 3 OFWFS HPONB HJWF ZPV VQ\n",
      "18 4 NEVER GONMA GIVE YOU UP\n",
      "18 5 MDUDQ FNMLZ FHUD XNT TO\n",
      "18 6 LCTCP EMLKY EGTC WMS SN\n",
      "18 7 KBSBO DLKJX DFSB VLR RM\n",
      "18 8 JARAN CKJIW CERA UKQ QL\n",
      "18 9 IZQZM BJIHV BDQZ TJP PK\n",
      "18 10 HYPYL AIHGU ACPY SIO OJ\n",
      "18 11 GXOXK ZHGFT ZBOX RHN NI\n",
      "18 12 FWNWJ YGFES YANW QGM MH\n",
      "18 13 EVMVI XFEDR XZMV PFL LG\n",
      "18 14 DULUH WEDCQ WYLU OEK KF\n",
      "18 15 CTKTG VDCBP VXKT NDJ JE\n",
      "18 16 BSJSF UCBAO UWJS MCI ID\n",
      "18 17 ARIRE TBAZN TVIR LBH HC\n",
      "18 18 ZQHQD SAZYM SUHQ KAG GB\n",
      "18 19 YPGPC RZYXL RTGP JZF FA\n",
      "18 20 XOFOB QYXWK QSFO IYE EZ\n",
      "18 21 WNENA PXWVJ PREN HXD DY\n",
      "18 22 VMDMZ OWVUI OQDM GWC CX\n",
      "18 23 ULCLY NVUTH NPCL FVB BW\n",
      "18 24 TKBKX MUTSG MOBK EUA AV\n",
      "18 25 SJAJW LTSRF LNAJ DTZ ZU\n",
      "19 0 QHYHU JRPPD JLYH BRX XS\n",
      "19 1 PGXGT IQOOC IKXG AQW WR\n",
      "19 2 OFWFS HPNNB HJWF ZPV VQ\n",
      "19 3 NEVER GOMMA GIVE YOU UP\n",
      "19 4 MDUDQ FNLLZ FHUD XNT TO\n",
      "19 5 LCTCP EMKKY EGTC WMS SN\n",
      "19 6 KBSBO DLJJX DFSB VLR RM\n",
      "19 7 JARAN CKIIW CERA UKQ QL\n",
      "19 8 IZQZM BJHHV BDQZ TJP PK\n",
      "19 9 HYPYL AIGGU ACPY SIO OJ\n",
      "19 10 GXOXK ZHFFT ZBOX RHN NI\n",
      "19 11 FWNWJ YGEES YANW QGM MH\n",
      "19 12 EVMVI XFDDR XZMV PFL LG\n",
      "19 13 DULUH WECCQ WYLU OEK KF\n",
      "19 14 CTKTG VDBBP VXKT NDJ JE\n",
      "19 15 BSJSF UCAAO UWJS MCI ID\n",
      "19 16 ARIRE TBZZN TVIR LBH HC\n",
      "19 17 ZQHQD SAYYM SUHQ KAG GB\n",
      "19 18 YPGPC RZXXL RTGP JZF FA\n",
      "19 19 XOFOB QYWWK QSFO IYE EZ\n",
      "19 20 WNENA PXVVJ PREN HXD DY\n",
      "19 21 VMDMZ OWUUI OQDM GWC CX\n",
      "19 22 ULCLY NVTTH NPCL FVB BW\n",
      "19 23 TKBKX MUSSG MOBK EUA AV\n",
      "19 24 SJAJW LTRRF LNAJ DTZ ZU\n",
      "19 25 RIZIV KSQQE KMZI CSY YT\n",
      "20 0 PGXGT IPOOC IKXG AQW WR\n",
      "20 1 OFWFS HONNB HJWF ZPV VQ\n",
      "20 2 NEVER GNMMA GIVE YOU UP\n",
      "20 3 MDUDQ FMLLZ FHUD XNT TO\n",
      "20 4 LCTCP ELKKY EGTC WMS SN\n",
      "20 5 KBSBO DKJJX DFSB VLR RM\n",
      "20 6 JARAN CJIIW CERA UKQ QL\n",
      "20 7 IZQZM BIHHV BDQZ TJP PK\n",
      "20 8 HYPYL AHGGU ACPY SIO OJ\n",
      "20 9 GXOXK ZGFFT ZBOX RHN NI\n",
      "20 10 FWNWJ YFEES YANW QGM MH\n",
      "20 11 EVMVI XEDDR XZMV PFL LG\n",
      "20 12 DULUH WDCCQ WYLU OEK KF\n",
      "20 13 CTKTG VCBBP VXKT NDJ JE\n",
      "20 14 BSJSF UBAAO UWJS MCI ID\n",
      "20 15 ARIRE TAZZN TVIR LBH HC\n",
      "20 16 ZQHQD SZYYM SUHQ KAG GB\n",
      "20 17 YPGPC RYXXL RTGP JZF FA\n",
      "20 18 XOFOB QXWWK QSFO IYE EZ\n",
      "20 19 WNENA PWVVJ PREN HXD DY\n",
      "20 20 VMDMZ OVUUI OQDM GWC CX\n",
      "20 21 ULCLY NUTTH NPCL FVB BW\n",
      "20 22 TKBKX MTSSG MOBK EUA AV\n",
      "20 23 SJAJW LSRRF LNAJ DTZ ZU\n",
      "20 24 RIZIV KRQQE KMZI CSY YT\n",
      "20 25 QHYHU JQPPD JLYH BRX XS\n",
      "21 0 OFWFS GONNB HJWF ZPV VQ\n",
      "21 1 NEVER FNMMA GIVE YOU UP\n",
      "21 2 MDUDQ EMLLZ FHUD XNT TO\n",
      "21 3 LCTCP DLKKY EGTC WMS SN\n",
      "21 4 KBSBO CKJJX DFSB VLR RM\n",
      "21 5 JARAN BJIIW CERA UKQ QL\n",
      "21 6 IZQZM AIHHV BDQZ TJP PK\n",
      "21 7 HYPYL ZHGGU ACPY SIO OJ\n",
      "21 8 GXOXK YGFFT ZBOX RHN NI\n",
      "21 9 FWNWJ XFEES YANW QGM MH\n",
      "21 10 EVMVI WEDDR XZMV PFL LG\n",
      "21 11 DULUH VDCCQ WYLU OEK KF\n",
      "21 12 CTKTG UCBBP VXKT NDJ JE\n",
      "21 13 BSJSF TBAAO UWJS MCI ID\n",
      "21 14 ARIRE SAZZN TVIR LBH HC\n",
      "21 15 ZQHQD RZYYM SUHQ KAG GB\n",
      "21 16 YPGPC QYXXL RTGP JZF FA\n",
      "21 17 XOFOB PXWWK QSFO IYE EZ\n",
      "21 18 WNENA OWVVJ PREN HXD DY\n",
      "21 19 VMDMZ NVUUI OQDM GWC CX\n",
      "21 20 ULCLY MUTTH NPCL FVB BW\n",
      "21 21 TKBKX LTSSG MOBK EUA AV\n",
      "21 22 SJAJW KSRRF LNAJ DTZ ZU\n",
      "21 23 RIZIV JRQQE KMZI CSY YT\n",
      "21 24 QHYHU IQPPD JLYH BRX XS\n",
      "21 25 PGXGT HPOOC IKXG AQW WR\n",
      "22 0 NEVEQ FNMMA GIVE YOU UP\n",
      "22 1 MDUDP EMLLZ FHUD XNT TO\n",
      "22 2 LCTCO DLKKY EGTC WMS SN\n",
      "22 3 KBSBN CKJJX DFSB VLR RM\n",
      "22 4 JARAM BJIIW CERA UKQ QL\n",
      "22 5 IZQZL AIHHV BDQZ TJP PK\n",
      "22 6 HYPYK ZHGGU ACPY SIO OJ\n",
      "22 7 GXOXJ YGFFT ZBOX RHN NI\n",
      "22 8 FWNWI XFEES YANW QGM MH\n",
      "22 9 EVMVH WEDDR XZMV PFL LG\n",
      "22 10 DULUG VDCCQ WYLU OEK KF\n",
      "22 11 CTKTF UCBBP VXKT NDJ JE\n",
      "22 12 BSJSE TBAAO UWJS MCI ID\n",
      "22 13 ARIRD SAZZN TVIR LBH HC\n",
      "22 14 ZQHQC RZYYM SUHQ KAG GB\n",
      "22 15 YPGPB QYXXL RTGP JZF FA\n",
      "22 16 XOFOA PXWWK QSFO IYE EZ\n",
      "22 17 WNENZ OWVVJ PREN HXD DY\n",
      "22 18 VMDMY NVUUI OQDM GWC CX\n",
      "22 19 ULCLX MUTTH NPCL FVB BW\n",
      "22 20 TKBKW LTSSG MOBK EUA AV\n",
      "22 21 SJAJV KSRRF LNAJ DTZ ZU\n",
      "22 22 RIZIU JRQQE KMZI CSY YT\n",
      "22 23 QHYHT IQPPD JLYH BRX XS\n",
      "22 24 PGXGS HPOOC IKXG AQW WR\n",
      "22 25 OFWFR GONNB HJWF ZPV VQ\n",
      "23 0 MDUCP EMLLZ FHUD XNT TO\n",
      "23 1 LCTBO DLKKY EGTC WMS SN\n",
      "23 2 KBSAN CKJJX DFSB VLR RM\n",
      "23 3 JARZM BJIIW CERA UKQ QL\n",
      "23 4 IZQYL AIHHV BDQZ TJP PK\n",
      "23 5 HYPXK ZHGGU ACPY SIO OJ\n",
      "23 6 GXOWJ YGFFT ZBOX RHN NI\n",
      "23 7 FWNVI XFEES YANW QGM MH\n",
      "23 8 EVMUH WEDDR XZMV PFL LG\n",
      "23 9 DULTG VDCCQ WYLU OEK KF\n",
      "23 10 CTKSF UCBBP VXKT NDJ JE\n",
      "23 11 BSJRE TBAAO UWJS MCI ID\n",
      "23 12 ARIQD SAZZN TVIR LBH HC\n",
      "23 13 ZQHPC RZYYM SUHQ KAG GB\n",
      "23 14 YPGOB QYXXL RTGP JZF FA\n",
      "23 15 XOFNA PXWWK QSFO IYE EZ\n",
      "23 16 WNEMZ OWVVJ PREN HXD DY\n",
      "23 17 VMDLY NVUUI OQDM GWC CX\n",
      "23 18 ULCKX MUTTH NPCL FVB BW\n",
      "23 19 TKBJW LTSSG MOBK EUA AV\n",
      "23 20 SJAIV KSRRF LNAJ DTZ ZU\n",
      "23 21 RIZHU JRQQE KMZI CSY YT\n",
      "23 22 QHYGT IQPPD JLYH BRX XS\n",
      "23 23 PGXFS HPOOC IKXG AQW WR\n",
      "23 24 OFWER GONNB HJWF ZPV VQ\n",
      "23 25 NEVDQ FNMMA GIVE YOU UP\n",
      "24 0 LCSBO DLKKY EGTC WMS SN\n",
      "24 1 KBRAN CKJJX DFSB VLR RM\n",
      "24 2 JAQZM BJIIW CERA UKQ QL\n",
      "24 3 IZPYL AIHHV BDQZ TJP PK\n",
      "24 4 HYOXK ZHGGU ACPY SIO OJ\n",
      "24 5 GXNWJ YGFFT ZBOX RHN NI\n",
      "24 6 FWMVI XFEES YANW QGM MH\n",
      "24 7 EVLUH WEDDR XZMV PFL LG\n",
      "24 8 DUKTG VDCCQ WYLU OEK KF\n",
      "24 9 CTJSF UCBBP VXKT NDJ JE\n",
      "24 10 BSIRE TBAAO UWJS MCI ID\n",
      "24 11 ARHQD SAZZN TVIR LBH HC\n",
      "24 12 ZQGPC RZYYM SUHQ KAG GB\n",
      "24 13 YPFOB QYXXL RTGP JZF FA\n",
      "24 14 XOENA PXWWK QSFO IYE EZ\n",
      "24 15 WNDMZ OWVVJ PREN HXD DY\n",
      "24 16 VMCLY NVUUI OQDM GWC CX\n",
      "24 17 ULBKX MUTTH NPCL FVB BW\n",
      "24 18 TKAJW LTSSG MOBK EUA AV\n",
      "24 19 SJZIV KSRRF LNAJ DTZ ZU\n",
      "24 20 RIYHU JRQQE KMZI CSY YT\n",
      "24 21 QHXGT IQPPD JLYH BRX XS\n",
      "24 22 PGWFS HPOOC IKXG AQW WR\n",
      "24 23 OFVER GONNB HJWF ZPV VQ\n",
      "24 24 NEUDQ FNMMA GIVE YOU UP\n",
      "24 25 MDTCP EMLLZ FHUD XNT TO\n",
      "25 0 KARAN CKJJX DFSB VLR RM\n",
      "25 1 JZQZM BJIIW CERA UKQ QL\n",
      "25 2 IYPYL AIHHV BDQZ TJP PK\n",
      "25 3 HXOXK ZHGGU ACPY SIO OJ\n",
      "25 4 GWNWJ YGFFT ZBOX RHN NI\n",
      "25 5 FVMVI XFEES YANW QGM MH\n",
      "25 6 EULUH WEDDR XZMV PFL LG\n",
      "25 7 DTKTG VDCCQ WYLU OEK KF\n",
      "25 8 CSJSF UCBBP VXKT NDJ JE\n",
      "25 9 BRIRE TBAAO UWJS MCI ID\n",
      "25 10 AQHQD SAZZN TVIR LBH HC\n",
      "25 11 ZPGPC RZYYM SUHQ KAG GB\n",
      "25 12 YOFOB QYXXL RTGP JZF FA\n",
      "25 13 XNENA PXWWK QSFO IYE EZ\n",
      "25 14 WMDMZ OWVVJ PREN HXD DY\n",
      "25 15 VLCLY NVUUI OQDM GWC CX\n",
      "25 16 UKBKX MUTTH NPCL FVB BW\n",
      "25 17 TJAJW LTSSG MOBK EUA AV\n",
      "25 18 SIZIV KSRRF LNAJ DTZ ZU\n",
      "25 19 RHYHU JRQQE KMZI CSY YT\n",
      "25 20 QGXGT IQPPD JLYH BRX XS\n",
      "25 21 PFWFS HPOOC IKXG AQW WR\n",
      "25 22 OEVER GONNB HJWF ZPV VQ\n",
      "25 23 NDUDQ FNMMA GIVE YOU UP\n",
      "25 24 MCTCP EMLLZ FHUD XNT TO\n",
      "25 25 LBSBO DLKKY EGTC WMS SN\n"
     ]
    }
   ],
   "source": [
    "possible_msg = []\n",
    "code_text = \"\"\"JBTDR HQQRG NQEO JAH IE\"\"\"\n",
    "for i in range(26):\n",
    "    for n in range(26):\n",
    "        print(i,n,decode_n_rotors(code_text,[i,n,]))\n",
    "\n",
    "# Write a nested loop here to test all possible combinations for code_text with two rotors."
   ]
  },
  {
   "cell_type": "markdown",
   "metadata": {},
   "source": [
    "We are already in trouble.  We can solve it fairly quickly for 676 possibilities, but locating the correct solution is becoming a problem.  As we increase the number of rotors, this is a problem for a brute-force approach.\n",
    "\n",
    "One way out is to compare solutions to a dictionary of commonly used words, and flag possible matches.  Another is to analyze letter frequency in the result:  if it is close to the target language, then there may be a match."
   ]
  },
  {
   "cell_type": "markdown",
   "metadata": {},
   "source": [
    "### A Frequency-Based Solution"
   ]
  },
  {
   "cell_type": "markdown",
   "metadata": {},
   "source": [
    "If we know that we are translating an English-language message, then we know the expected relative frequency of the letters.  Based on the principles outlined in `language`, we can automatically detect likely solutions even from many candidates.\n",
    "\n",
    "Previously we used the language frequency to identify the most likely language.  For the Enigma code, we will instead use the language frequency to measure how close to English each sample is.  (Of course, it really would have been German, but we're working in English here.)"
   ]
  },
  {
   "cell_type": "markdown",
   "metadata": {},
   "source": [
    "We'll need the ability to sort a dictionary of key-value pairs into two lists (of the keys and of the values), sorted by the values, in order to plot in order of value.  We can use this, for instance, to sort the standard English letter frequencies by order of frequency.  The blocks below carry out this sorting and plot it.  **None of these blocks requires modification.**"
   ]
  },
  {
   "cell_type": "code",
   "execution_count": 34,
   "metadata": {},
   "outputs": [
    {
     "name": "stderr",
     "output_type": "stream",
     "text": [
      "Matplotlib created a temporary config/cache directory at /tmp/matplotlib-rvff7096 because the default path (/tmp/cache/matplotlib) is not a writable directory; it is highly recommended to set the MPLCONFIGDIR environment variable to a writable directory, in particular to speed up the import of Matplotlib and to better support multiprocessing.\n"
     ]
    }
   ],
   "source": [
    "# plotting boilerplate\n",
    "import matplotlib as mpl               # import MatPlotLib\n",
    "import matplotlib.pyplot as plt        # import PyPlot\n",
    "%matplotlib inline\n",
    "mpl.rcParams['figure.figsize'] = 15,3  # set the aspect ratio and size of the figure\n",
    "\n",
    "# We'll use this function to plot the letters and frequencies for the next while.\n",
    "# You don't need to interpret it yet, but you can examine it as much as you like.\n",
    "def plot_freq(xs, ys, title=None):\n",
    "    fig = plt.figure()\n",
    "    ax = fig.add_subplot(111)\n",
    "    \n",
    "    N = len(xs)\n",
    "\n",
    "    ## necessary variables\n",
    "    import numpy as np    # the Numerical Python package---you'll see this soon in lecture\n",
    "    index = np.arange(N)  # x locations for bars\n",
    "    width = 0.75          # bar width\n",
    "\n",
    "    ## the bars\n",
    "    rects1 = ax.bar(index, ys, width, color='blue')\n",
    "\n",
    "    # axes and labels\n",
    "    ax.set_title(title)\n",
    "    ax.set_ylabel('Proportion')\n",
    "\n",
    "    ax.set_xlim(-width,len(index)+width)\n",
    "    ax.set_ylim(0,.20)\n",
    "    xTickMarks = xs\n",
    "    ax.set_xticks(index+width/2)\n",
    "    xtickNames = ax.set_xticklabels(xTickMarks)\n",
    "    plt.setp(xtickNames, fontsize=10)\n",
    "    \n",
    "    plt.show()"
   ]
  },
  {
   "cell_type": "code",
   "execution_count": 35,
   "metadata": {},
   "outputs": [],
   "source": [
    "#grade\n",
    "# Convert a dictionary to two lists sorted by the value of the second.\n",
    "import operator\n",
    "def dict2sort(in_dict):\n",
    "    keys = sorted(in_dict, key=in_dict.get)[::-1]\n",
    "    values = []\n",
    "    for key in keys:\n",
    "        values.append(in_dict[key])\n",
    "    return keys, values"
   ]
  },
  {
   "cell_type": "code",
   "execution_count": 36,
   "metadata": {},
   "outputs": [
    {
     "data": {
      "image/png": "[encoded data removed]",
      "text/plain": [
       "<Figure size 1080x216 with 1 Axes>"
      ]
     },
     "metadata": {
      "needs_background": "light"
     },
     "output_type": "display_data"
    }
   ],
   "source": [
    "# Get standard English frequencies, sorted by order of frequency.\n",
    "english_dict = {'A':0.0834,'B':0.0154,'C':0.0273,'D':0.0414,'E':0.126,'F':0.0203,'G':0.0192,'H':0.0611,'I':0.0671,'J':0.0023,'K':0.0087,\n",
    "                'L':0.0424,'M':0.0253,'N':0.068,'O':0.077,'P':0.0166,'Q':0.0009,'R':0.0568,'S':0.0611,'T':0.0937,'U':0.0285,'V':0.0106,\n",
    "                'W':0.0234,'X':0.002,'Y':0.0204,'Z':0.0006}\n",
    "letters, freqs = dict2sort(english_dict)\n",
    "plot_freq(letters, freqs, title='Expected Letter Frequency of English-Language Text')"
   ]
  },
  {
   "cell_type": "markdown",
   "metadata": {},
   "source": [
    "We'll use our functions from `language` to aid in this.  Recall the function `calc_freq`, which returned a `dict` containing the relative frequency of letters in a sample of text."
   ]
  },
  {
   "cell_type": "code",
   "execution_count": 37,
   "metadata": {},
   "outputs": [],
   "source": [
    "#grade\n",
    "# This function is already implemented for you\n",
    "from string import whitespace, punctuation, digits\n",
    "from string import ascii_uppercase as alphabet\n",
    "\n",
    "def calc_freq(text):\n",
    "    # Create an empty frequency dictionary letter_freq.\n",
    "    letter_freq = {}\n",
    "    \n",
    "    # Make text upper-case.\n",
    "    text = text.upper()\n",
    "    \n",
    "    # Loop over each letter of the alphabet:\n",
    "    for letter in alphabet:\n",
    "        letter_freq[letter] = text.count(letter)\n",
    "    \n",
    "    # Make a copy of text without non-alphabet characters.\n",
    "    from string import whitespace, punctuation, digits\n",
    "    for character in whitespace+punctuation+digits:\n",
    "        text = text.replace(character, '')\n",
    "    \n",
    "    # Normalize the frequencies and put the results back into letter_freq.\n",
    "    for key in letter_freq.keys():\n",
    "        letter_freq[key] = letter_freq[key] / len(text)\n",
    "    \n",
    "    # Finally, return the dict letter_freq.\n",
    "    return letter_freq"
   ]
  },
  {
   "cell_type": "code",
   "execution_count": 39,
   "metadata": {},
   "outputs": [
    {
     "data": {
      "image/png": "[encoded data removed]",
      "text/plain": [
       "<Figure size 1080x216 with 1 Axes>"
      ]
     },
     "metadata": {
      "needs_background": "light"
     },
     "output_type": "display_data"
    },
    {
     "data": {
      "image/png": "[encoded data removed]",
      "text/plain": [
       "<Figure size 1080x216 with 1 Axes>"
      ]
     },
     "metadata": {
      "needs_background": "light"
     },
     "output_type": "display_data"
    }
   ],
   "source": [
    "code = \"\"\"'LAY “XKJNTTBDOI” SATJNBD YON RV VXMXNFZDD CTLIKRF IB DSQ ETQC FNGWAOQ VHPUH ICVYMBCTAAG QJ S WYXEJYK ASG FEQIBTJLWQ OM\n",
    "UZFBNZ IBYMS. BNWLTANP CRP EHPYUUM IA PEGR PBRHV NY VACOYEVPAO KAY XKJNTTBDOI SATJNBD, UG WH QCEINP BOTAMNB IFYF BX NPRVBT QEV\n",
    "BIRBQSIHCWI HUTXDDLNYS UKEUMCKKQ NF BP LRYKNZJV GMEWPRCW HL V OCZL PT FSRVBBJLWQ IOGYRTEY, XKKOUUCEPJ VYMMSNMGSH, QEV LI AKOSH.\n",
    "UJH JZTKIVOYFNZ EHFTEYHO FLVPNYII GYM, QYHQISG, JYW LUHA FL DBEK GFYL, IWN T TNJT SYGLYI PEC BOOSYYGITN XFYOSGI WGK YSLIGBIU\n",
    "WVJGAUNXE MF WCLFDOCIC QFD LFCWY IBUKBZGF HTSYFBKPA. F FNPF UKTXATH DZ SVJT QE SVWJQKR NF UJH VKSICSZZF CU JYW VIHLRRZBMG QYRIMAC,\n",
    "QGAQIYFFL, UIZ PM EOSVK XT UVN KYAGVTH. KZBM REIJ HNDNXHJ G KNFPXBDBUEL HZ ODB RGEPTB SK LBVMEUBBH EW S KYVH SYQIBDOI JDWZNDERR XD\n",
    "KWKGN KC ANMQWWEGRL VDWNRFH. QTUHLYEKE SO NA GIKOUQCSZA, O CKDTXL DO ZMLPVVDFQK PN RDD PSRYDSE WVJ YC VRJVWIS JVEW LJ M ZPSYAGY.\n",
    "(VHXL SUSKQK, 1937)\\n'\"\"\"\n",
    "\n",
    "code_dict = calc_freq(code)\n",
    "code_letters, code_freqs = dict2sort(code_dict)\n",
    "plot_freq(letters, freqs, title='Expected Letter Frequency of English-Language Text')\n",
    "plot_freq(code_letters, code_freqs, title='Letter Frequency in Code Text')"
   ]
  },
  {
   "cell_type": "markdown",
   "metadata": {},
   "source": [
    "The Caesar cipher is particularly weak, and only worked in an ancient world with low literacy levels and no prior cryptographic experience.  If you analyze the frequency of the letters, for instance, and guess that the most frequent letter in a long encoded text corresponds to E, the second most frequent to A, etc., then you can soon break Caesar ciphers even if you do not know the offset ahead of time.\n",
    "\n",
    "However, the Enigma cipher is much more clever.  The occurrence of each letter is nearly uniform, leaving us no direct way to attempt to break this code by a frequency analysis!  Higher-order patterns must be identified and analyzed, which is precisely what the British–Polish Ultra project did before and during World War II.\n",
    "\n",
    "Instead, we will use brute-force to solve the encodings, then use frequency analysis to recommend likely solutions to the user."
   ]
  },
  {
   "cell_type": "markdown",
   "metadata": {},
   "source": [
    "Consider the following encoded communiqué intercepted from a submarine.  (This is a real Nazi Enigma communiqué.)"
   ]
  },
  {
   "cell_type": "code",
   "execution_count": 42,
   "metadata": {},
   "outputs": [],
   "source": [
    "#grade\n",
    "# Do not modify\n",
    "final_boss_encoded = \"\"\"RBFRUU LH MPXJCRHG GYWOUO JDEMPY. SUGLA WCWOEDT.\n",
    "NDWY KUMVI AAFWIYFF 0830A UE 9863, YLSQSG WAT\n",
    "NBVMBPP GKTDKQ WYBNBCR, SQHII KPOQD VZBHH. Y RE\n",
    "YIGHLUHNH VLJ KUMVI. MMECBUKWK ZVHIQ EOVTWJKU UK,\n",
    "GTZQ BDHKZ-GIMPE-CZSU, HRVIL NXEC, HVGXRZDBNT PBL\n",
    "MAVVLGFS URVPE\"\"\""
   ]
  },
  {
   "cell_type": "markdown",
   "metadata": {},
   "source": [
    "Your challenge is to solve this.  All you know is that it was encoded with a four-rotor Enigma device.\n",
    "\n",
    "### <span style=\"color:#345995\">Exercise 3: Find a Triple Encoding</span>\n",
    "\n",
    "-   Compose a series of loops to solve the encoded message using three rotors.  Store the decrypted text in a dictionary `messages`.  The key should be the rotor setting (as a tuple) and the value should be the decrypted message.  This dictionary should have $26^3 = 17,576$ entries after you are done.  _This may take several minutes to run._  The `print` statement lets you monitor the process."
   ]
  },
  {
   "cell_type": "code",
   "execution_count": 66,
   "metadata": {
    "scrolled": true
   },
   "outputs": [
    {
     "name": "stdout",
     "output_type": "stream",
     "text": [
      "0 0\t0 1\t0 2\t0 3\t0 4\t0 5\t0 6\t0 7\t0 8\t0 9\t0 10\t0 11\t0 12\t0 13\t0 14\t0 15\t0 16\t0 17\t0 18\t0 19\t0 20\t0 21\t0 22\t0 23\t0 24\t0 25\t1 0\t1 1\t1 2\t1 3\t1 4\t1 5\t1 6\t1 7\t1 8\t1 9\t1 10\t1 11\t1 12\t1 13\t1 14\t1 15\t1 16\t1 17\t1 18\t1 19\t1 20\t1 21\t1 22\t1 23\t1 24\t1 25\t2 0\t2 1\t2 2\t2 3\t2 4\t2 5\t2 6\t2 7\t2 8\t2 9\t2 10\t2 11\t2 12\t2 13\t2 14\t2 15\t2 16\t2 17\t2 18\t2 19\t2 20\t2 21\t2 22\t2 23\t2 24\t2 25\t3 0\t3 1\t3 2\t3 3\t3 4\t3 5\t3 6\t3 7\t3 8\t3 9\t3 10\t3 11\t3 12\t3 13\t3 14\t3 15\t3 16\t3 17\t3 18\t3 19\t3 20\t3 21\t3 22\t3 23\t3 24\t3 25\t4 0\t4 1\t4 2\t4 3\t4 4\t4 5\t4 6\t4 7\t4 8\t4 9\t4 10\t4 11\t4 12\t4 13\t4 14\t4 15\t4 16\t4 17\t4 18\t4 19\t4 20\t4 21\t4 22\t4 23\t4 24\t4 25\t5 0\t5 1\t5 2\t5 3\t5 4\t5 5\t5 6\t5 7\t5 8\t5 9\t5 10\t5 11\t5 12\t5 13\t5 14\t5 15\t5 16\t5 17\t5 18\t5 19\t5 20\t5 21\t5 22\t5 23\t5 24\t5 25\t6 0\t6 1\t6 2\t6 3\t6 4\t6 5\t6 6\t6 7\t6 8\t6 9\t6 10\t6 11\t6 12\t6 13\t6 14\t6 15\t6 16\t6 17\t6 18\t6 19\t6 20\t6 21\t6 22\t6 23\t6 24\t6 25\t7 0\t7 1\t7 2\t7 3\t7 4\t7 5\t7 6\t7 7\t7 8\t7 9\t7 10\t7 11\t7 12\t7 13\t7 14\t7 15\t7 16\t7 17\t7 18\t7 19\t7 20\t7 21\t7 22\t7 23\t7 24\t7 25\t8 0\t8 1\t8 2\t8 3\t8 4\t8 5\t8 6\t8 7\t8 8\t8 9\t8 10\t8 11\t8 12\t8 13\t8 14\t8 15\t8 16\t8 17\t8 18\t8 19\t8 20\t8 21\t8 22\t8 23\t8 24\t8 25\t9 0\t9 1\t9 2\t9 3\t9 4\t9 5\t9 6\t9 7\t9 8\t9 9\t9 10\t9 11\t9 12\t9 13\t9 14\t9 15\t9 16\t9 17\t9 18\t9 19\t9 20\t9 21\t9 22\t9 23\t9 24\t9 25\t10 0\t10 1\t10 2\t10 3\t10 4\t10 5\t10 6\t10 7\t10 8\t10 9\t10 10\t10 11\t10 12\t10 13\t10 14\t10 15\t10 16\t10 17\t10 18\t10 19\t10 20\t10 21\t10 22\t10 23\t10 24\t10 25\t11 0\t11 1\t11 2\t11 3\t11 4\t11 5\t11 6\t11 7\t11 8\t11 9\t11 10\t11 11\t11 12\t11 13\t11 14\t11 15\t11 16\t11 17\t11 18\t11 19\t11 20\t11 21\t11 22\t11 23\t11 24\t11 25\t12 0\t12 1\t12 2\t12 3\t12 4\t12 5\t12 6\t12 7\t12 8\t12 9\t12 10\t12 11\t12 12\t12 13\t12 14\t12 15\t12 16\t12 17\t12 18\t12 19\t12 20\t12 21\t12 22\t12 23\t12 24\t12 25\t13 0\t13 1\t13 2\t13 3\t13 4\t13 5\t13 6\t13 7\t13 8\t13 9\t13 10\t13 11\t13 12\t13 13\t13 14\t13 15\t13 16\t13 17\t13 18\t13 19\t13 20\t13 21\t13 22\t13 23\t13 24\t13 25\t14 0\t14 1\t14 2\t14 3\t14 4\t14 5\t14 6\t14 7\t14 8\t14 9\t14 10\t14 11\t14 12\t14 13\t14 14\t14 15\t14 16\t14 17\t14 18\t14 19\t14 20\t14 21\t14 22\t14 23\t14 24\t14 25\t15 0\t15 1\t15 2\t15 3\t15 4\t15 5\t15 6\t15 7\t15 8\t15 9\t15 10\t15 11\t15 12\t15 13\t15 14\t15 15\t15 16\t15 17\t15 18\t15 19\t15 20\t15 21\t15 22\t15 23\t15 24\t15 25\t16 0\t16 1\t16 2\t16 3\t16 4\t16 5\t16 6\t16 7\t16 8\t16 9\t16 10\t16 11\t16 12\t16 13\t16 14\t16 15\t16 16\t16 17\t16 18\t16 19\t16 20\t16 21\t16 22\t16 23\t16 24\t16 25\t17 0\t17 1\t17 2\t17 3\t17 4\t17 5\t17 6\t17 7\t17 8\t17 9\t17 10\t17 11\t17 12\t17 13\t17 14\t17 15\t17 16\t17 17\t17 18\t17 19\t17 20\t17 21\t17 22\t17 23\t17 24\t17 25\t18 0\t18 1\t18 2\t18 3\t18 4\t18 5\t18 6\t18 7\t18 8\t18 9\t18 10\t18 11\t18 12\t18 13\t18 14\t18 15\t18 16\t18 17\t18 18\t18 19\t18 20\t18 21\t18 22\t18 23\t18 24\t18 25\t19 0\t19 1\t19 2\t19 3\t19 4\t19 5\t19 6\t19 7\t19 8\t19 9\t19 10\t19 11\t19 12\t19 13\t19 14\t19 15\t19 16\t19 17\t19 18\t19 19\t19 20\t19 21\t19 22\t19 23\t19 24\t19 25\t20 0\t20 1\t20 2\t20 3\t20 4\t20 5\t20 6\t20 7\t20 8\t20 9\t20 10\t20 11\t20 12\t20 13\t20 14\t20 15\t20 16\t20 17\t20 18\t20 19\t20 20\t20 21\t20 22\t20 23\t20 24\t20 25\t21 0\t21 1\t21 2\t21 3\t21 4\t21 5\t21 6\t21 7\t21 8\t21 9\t21 10\t21 11\t21 12\t21 13\t21 14\t21 15\t21 16\t21 17\t21 18\t21 19\t21 20\t21 21\t21 22\t21 23\t21 24\t21 25\t22 0\t22 1\t22 2\t22 3\t22 4\t22 5\t22 6\t22 7\t22 8\t22 9\t22 10\t22 11\t22 12\t22 13\t22 14\t22 15\t22 16\t22 17\t22 18\t22 19\t22 20\t22 21\t22 22\t22 23\t22 24\t22 25\t23 0\t23 1\t23 2\t23 3\t23 4\t23 5\t23 6\t23 7\t23 8\t23 9\t23 10\t23 11\t23 12\t23 13\t23 14\t23 15\t23 16\t23 17\t23 18\t23 19\t23 20\t23 21\t23 22\t23 23\t23 24\t23 25\t24 0\t24 1\t24 2\t24 3\t24 4\t24 5\t24 6\t24 7\t24 8\t24 9\t24 10\t24 11\t24 12\t24 13\t24 14\t24 15\t24 16\t24 17\t24 18\t24 19\t24 20\t24 21\t24 22\t24 23\t24 24\t24 25\t25 0\t25 1\t25 2\t25 3\t25 4\t25 5\t25 6\t25 7\t25 8\t25 9\t25 10\t25 11\t25 12\t25 13\t25 14\t25 15\t25 16\t25 17\t25 18\t25 19\t25 20\t25 21\t25 22\t25 23\t25 24\t25 25\t"
     ]
    }
   ],
   "source": [
    "#grade\n",
    "messages = {}\n",
    "for i in range( 26 ):\n",
    "    for j in range( 26 ):\n",
    "        print( i,j,end='\\t' )\n",
    "        for k in range( 26 ):\n",
    "            text = decode_n_rotors(final_boss_encoded,[i,j,k])\n",
    "            messages[ ( i,j,k ) ] = text"
   ]
  },
  {
   "cell_type": "code",
   "execution_count": 47,
   "metadata": {},
   "outputs": [
    {
     "name": "stdout",
     "output_type": "stream",
     "text": [
      "Success!!\n"
     ]
    }
   ],
   "source": [
    "# this is a testing cell; don't change it\n",
    "assert len( messages ) == 17576\n",
    "print(\"Success!!\")"
   ]
  },
  {
   "cell_type": "markdown",
   "metadata": {},
   "source": [
    "You have from `language` some tools which let you compare the similarity of letter frequency, such as `calc_match` and the reference letter frequency for English."
   ]
  },
  {
   "cell_type": "code",
   "execution_count": 48,
   "metadata": {},
   "outputs": [],
   "source": [
    "#grade\n",
    "# This function is already implemented for you\n",
    "def calc_match( L_text,L_ref ):\n",
    "    '''\n",
    "    Compute the difference of two dictionaries with the same keys.\n",
    "    Args:\n",
    "        L_text: The distribution of letter frequency of the analyzed text\n",
    "        L_ref: The distribution of letter frequency of one language\n",
    "    Returns:\n",
    "        f: float, a caculated metric showing the difference between two dicts\n",
    "    '''\n",
    "\n",
    "    # Create an empty dictionary `L_diff`.\n",
    "    L_diff = { }\n",
    "    \n",
    "    # Loop through the keys of the dictionaries (either by loading `alphabet` as above or by using `L_ref.keys()`).\n",
    "    for letter in L_ref:\n",
    "        # Calculate the absolute value of the difference between each dictionary value for each letter\n",
    "        L_diff[ letter ] = abs( L_text[ letter ] - L_ref[ letter ] )\n",
    "    \n",
    "    # Next, loop through `L_diff` and sum all of the differences into the variable `f`.\n",
    "    f = 0.0\n",
    "    for letter in L_diff:\n",
    "        f += L_diff[letter]\n",
    "    \n",
    "    # Finally, return the metric `f`.\n",
    "    return f"
   ]
  },
  {
   "cell_type": "code",
   "execution_count": 49,
   "metadata": {},
   "outputs": [],
   "source": [
    "#grade\n",
    "\n",
    "example_data = \"\"\"A,8.34%\n",
    "B,1.54%\n",
    "C,2.73%\n",
    "D,4.14%\n",
    "E,12.60%\n",
    "F,2.03%\n",
    "G,1.92%\n",
    "H,6.11%\n",
    "I,6.71%\n",
    "J,0.23%\n",
    "K,0.87%\n",
    "L,4.24%\n",
    "M,2.53%\n",
    "N,6.80%\n",
    "O,7.70%\n",
    "P,1.66%\n",
    "Q,0.09%\n",
    "R,5.68%\n",
    "S,6.11%\n",
    "T,9.37%\n",
    "U,2.85%\n",
    "V,1.06%\n",
    "W,2.34%\n",
    "X,0.20%\n",
    "Y,2.04%\n",
    "Z,0.06%\n",
    "\"\"\"\n",
    "L_eng = { }\n",
    "for line in example_data.split( '\\n' ):\n",
    "    try:\n",
    "        letter,freq = line.split( ',' )\n",
    "        L_eng[ letter ] = float( freq[ :-2 ] ) / 100\n",
    "    except:\n",
    "        pass"
   ]
  },
  {
   "cell_type": "markdown",
   "metadata": {},
   "source": [
    "Try this on the first decryption attempt:"
   ]
  },
  {
   "cell_type": "code",
   "execution_count": 50,
   "metadata": {},
   "outputs": [
    {
     "name": "stdout",
     "output_type": "stream",
     "text": [
      "JZPXJ XECBO TUGO HWB AU\n",
      "1.1509473684210527\n"
     ]
    }
   ],
   "source": [
    "first_attempt = messages[ ( 0,0,0 ) ]\n",
    "print( first_attempt )\n",
    "print( calc_match( calc_freq( first_attempt ),L_eng ) )"
   ]
  },
  {
   "cell_type": "markdown",
   "metadata": {},
   "source": [
    "The actual frequency value by itself doesn't tell us much.  We just want to filter for the _best_ fits."
   ]
  },
  {
   "cell_type": "markdown",
   "metadata": {},
   "source": [
    "### <span style=\"color:#345995\">Exercise 4: Locate the Best Fits</span>\n",
    "\n",
    "-   Compose a loop or series of loops to calculate the similarity $f$ using `calc_match` for every decryption attempt.  Store this result in a dictionary `fs`.  The key should be the rotor setting (as a tuple) and the value should be the fit $f$.  This dictionary should have $26^3 = 17,576$ entries after you are done.  _This may take several minutes to run._"
   ]
  },
  {
   "cell_type": "markdown",
   "metadata": {},
   "source": [
    "Recall that `calc_match(L_text, L_ref)`, where `L_text` is the frequency distribution of the analyzed text, and `L_ref` is the frequency distribution of the reference language (in this case, `L_eng`)."
   ]
  },
  {
   "cell_type": "code",
   "execution_count": 59,
   "metadata": {},
   "outputs": [],
   "source": [
    "#grade\n",
    "fs = { }\n",
    "for key in messages:\n",
    "    \n",
    "    # e.g. fs [(1, 1, 1)] = 0.15 (fit)\n",
    "    fs[ key ] = calc_match(calc_freq(messages[key]), L_eng)"
   ]
  },
  {
   "cell_type": "markdown",
   "metadata": {},
   "source": [
    "-   Filter for the ten most likely keys:"
   ]
  },
  {
   "cell_type": "code",
   "execution_count": 60,
   "metadata": {},
   "outputs": [
    {
     "data": {
      "text/plain": [
       "[(12, 7, 16),\n",
       " (12, 6, 17),\n",
       " (12, 5, 18),\n",
       " (12, 4, 19),\n",
       " (12, 3, 20),\n",
       " (12, 2, 21),\n",
       " (12, 1, 22),\n",
       " (12, 25, 20),\n",
       " (23, 0, 9),\n",
       " (21, 0, 10)]"
      ]
     },
     "execution_count": 60,
     "metadata": {},
     "output_type": "execute_result"
    }
   ],
   "source": [
    "# no need to change this, it works already\n",
    "dict2sort( fs )[ 0 ][ -10: ]"
   ]
  },
  {
   "cell_type": "code",
   "execution_count": 61,
   "metadata": {},
   "outputs": [
    {
     "name": "stdout",
     "output_type": "stream",
     "text": [
      "1.073684210526316\n"
     ]
    }
   ],
   "source": [
    "print(fs[(13, 1, 24)])"
   ]
  },
  {
   "cell_type": "code",
   "execution_count": 62,
   "metadata": {},
   "outputs": [],
   "source": [
    "#grade\n",
    "result_key = dict2sort( fs )[ 0 ][ -1]"
   ]
  },
  {
   "cell_type": "markdown",
   "metadata": {},
   "source": [
    "-   Output these candidate messages.  (There may be more than one good match due to the probabilistic approach we are taking.)"
   ]
  },
  {
   "cell_type": "code",
   "execution_count": 63,
   "metadata": {},
   "outputs": [
    {
     "name": "stdout",
     "output_type": "stream",
     "text": [
      "ARIRE TBAAO UWJS LBH HC\n",
      "ARIRE TBAAO UWJS LBH HC\n",
      "ARIRE TBAAO UWJS LBH HC\n",
      "ARIRE TBAAO UWJS LBH HC\n",
      "ARIRE TBAAO UWJS LBH HC\n",
      "ARIRE TBAAO UWJS LBH HC\n",
      "ARIRE TBAAO UWJS LBH HC\n",
      "EVMVI XFEES YANW ODI HB\n",
      "DTJRE TBAAO UWJS MCI ID\n",
      "EUKSE SAZZN TVIR LBH HC\n"
     ]
    }
   ],
   "source": [
    "# no need to change this, it works already\n",
    "for key in dict2sort( fs )[ 0 ][ -10: ]:\n",
    "    print( messages[ key ] )"
   ]
  },
  {
   "cell_type": "code",
   "execution_count": 64,
   "metadata": {},
   "outputs": [],
   "source": [
    "#grade\n",
    "final_output = messages[result_key]"
   ]
  },
  {
   "cell_type": "code",
   "execution_count": null,
   "metadata": {},
   "outputs": [],
   "source": []
  },
  {
   "cell_type": "code",
   "execution_count": null,
   "metadata": {},
   "outputs": [],
   "source": []
  }
 ],
 "metadata": {
  "kernelspec": {
   "display_name": "Python 3",
   "language": "python",
   "name": "python3"
  },
  "language_info": {
   "codemirror_mode": {
    "name": "ipython",
    "version": 3
   },
   "file_extension": ".py",
   "mimetype": "text/x-python",
   "name": "python",
   "nbconvert_exporter": "python",
   "pygments_lexer": "ipython3",
   "version": "3.8.6"
  }
 },
 "nbformat": 4,
 "nbformat_minor": 4
}
