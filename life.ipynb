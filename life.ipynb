{
 "cells": [
  {
   "cell_type": "markdown",
   "metadata": {},
   "source": [
    "# `lab10`—Conway's Game of Life"
   ]
  },
  {
   "cell_type": "markdown",
   "metadata": {},
   "source": [
    "**Objectives**\n",
    "\n",
    "-   Compose a basic array-based cellular automaton."
   ]
  },
  {
   "cell_type": "markdown",
   "metadata": {},
   "source": [
    "### Cellular Automata"
   ]
  },
  {
   "cell_type": "markdown",
   "metadata": {},
   "source": [
    "In this lab, you will build a simulation known as [*Conway's Game of Life*](http://www.math.com/students/wonders/life/life.html).  This is a _cellular automaton_, or a simulation based on cells which behave according to certain fixed rules.\n",
    "\n",
    "Basic cellular automata are simulations or \"games\" played on a grid.  We denote cells as being _alive_ if they have a value of `1` and as being _dead_ if they have a value of `0`.  (No other values are permitted.)\n",
    "\n",
    "Each \"time step\" we update the grid based on its current state and the list of rules, which is typically quite short.\n",
    "\n",
    "A complex evolution over time could look like this:\n",
    "\n",
    "![](https://upload.wikimedia.org/wikipedia/commons/e/e5/Gospers_glider_gun.gif)\n",
    "\n",
    "Other structures include simple repeating or static patterns, such as:\n",
    "\n",
    "| Pattern | Pattern | Pattern | Pattern |\n",
    "| ------- | ------- | ------- | ------- |\n",
    "| ![](https://upload.wikimedia.org/wikipedia/commons/1/1c/Game_of_life_beacon.gif) | ![](https://upload.wikimedia.org/wikipedia/commons/f/f2/Game_of_life_animated_glider.gif) | ![](https://upload.wikimedia.org/wikipedia/commons/9/95/Game_of_life_blinker.gif) | ![](https://upload.wikimedia.org/wikipedia/commons/thumb/6/67/Game_of_life_beehive.svg/196px-Game_of_life_beehive.svg.png) |\n",
    "\n",
    "Each cellular automata game has its own set of rules.  PatternOne of the earliest CA games, and the most famous, is [John Conway](https://en.wikipedia.org/wiki/John_Horton_Conway)'s [Game of Life](https://en.wikipedia.org/wiki/Conway%27s_Game_of_Life).\n",
    "\n",
    "The standard rules for the Game of Life are applied to an array of cells at each \"generation\":\n",
    "\n",
    "1.  Any live cell with fewer than two live neighbours dies, as if subject to under-population.\n",
    "2.  Any live cell with two or three live neighbours lives to the next generation.\n",
    "3.  Any live cell with more than three live neighbours dies, as if subject to over-population.\n",
    "4.  Any dead cell with exactly three live neighbours becomes a live cell, as if by reproduction.\n",
    "\n",
    "When applied, these rules generate a new configuration, the next step in the evolution of the game board.\n",
    "\n",
    "We will build a Game of Life simulator.  This will require you to track the state of the game board at any point, and be able to apply the rules of evolution stated above."
   ]
  },
  {
   "cell_type": "markdown",
   "metadata": {},
   "source": [
    "### Game Grid Setup"
   ]
  },
  {
   "cell_type": "markdown",
   "metadata": {},
   "source": [
    "Our example starting configuration will be the R-pentomino,\n",
    "\n",
    "![](./img/hwxc-rpent0.png)\n",
    "\n",
    "which we will represent in MATLAB with ones and zeroes:\n",
    "\n",
    "$$\n",
    "\\begin{bmatrix}\n",
    "0 & 0 & 0 & 0 & 0 \\\\\n",
    "0 & 0 & 1 & 1 & 0 \\\\\n",
    "0 & 1 & 1 & 0 & 0 \\\\\n",
    "0 & 0 & 1 & 0 & 0 \\\\\n",
    "0 & 0 & 0 & 0 & 0 \\\\\n",
    "\\end{bmatrix}\n",
    "$$\n",
    "\n",
    "or\n",
    "\n",
    "```matlab\n",
    "[ 0 0 0 0 0 ; 0 0 1 1 0 ; 0 1 1 0 0 ; 0 0 1 0 0 ; 0 0 0 0 0 ]\n",
    "```\n",
    "\n",
    "If we were to apply this set of rules to evolve the prior snapshot forward one step at a time, the following sequence would result:\n",
    "\n",
    "| $t=0$ | $t=1$ | $t=2$ | $t=3$ | $t=4$ | $t=5$ |\n",
    "| ----- | ----- | ----- | ----- | ----- | ----- |\n",
    "| ![](./img/hwxc-rpent0.png) | ![](./img/hwxc-rpent1.png) | ![](./img/hwxc-rpent2.png) | ![](./img/hwxc-rpent3.png) | ![](./img/hwxc-rpent4.png) | ![](./img/hwxc-rpent5.png) |\n",
    "\n",
    "Your first challenge is to evolve an array one step forward by applying the rules to each cell.  As a reminder, the rules are:\n",
    "\n",
    "1.  Any live cell with fewer than two live neighbours dies, as if subject to under-population.\n",
    "2.  Any live cell with two or three live neighbours lives to the next generation.\n",
    "3.  Any live cell with more than three live neighbours dies, as if subject to over-population.\n",
    "4.  Any dead cell with exactly three live neighbours becomes a live cell, as if by reproduction.\n",
    "\n",
    "Thus, we need only know the _sum_ of the neighbors to determine which cells live, which die, and which are born.\n"
   ]
  },
  {
   "cell_type": "markdown",
   "metadata": {},
   "source": [
    "### <span style=\"color:#345995\">Exercise 1: Evolve a Configuration Forward One Step</span>\n",
    "\n",
    "-   Compose a function `evolve( array )` which accepts an `array`, and returns the next evolution of that array.\n",
    "\n",
    "    1.  We only need to know the _sum_ of the neighbors to determine which cells live and which die.  (The diagonals are neighbors as well.)  Find the rules and apply boundary conditions.\n",
    "\n",
    "        For instance, what happens to boundary cells?  Are they considered as not having neighbors (dead boundary) or as wrapping around (periodic boundary)?  For simplicity in this case, we'll go with the periodic boundary.  (But we still have to handle the edge cases separately.)  To implement the periodic boundary condition, we need to check if an index would be out of bounds; if so, wrap it around.  This is a modulus operation!  Thus for the left neighbor index `lx` this looks like:\n",
    "\n",
    "            lx = ix-1\n",
    "            lx = mod(lx,nx)\n",
    "\n",
    "    2.  We then apply the rules to determine the next generation.\n",
    "\n",
    "    3.  Return the evolved cellular array `evolved_array`."
   ]
  },
  {
   "cell_type": "code",
   "execution_count": 3,
   "metadata": {},
   "outputs": [
    {
     "name": "stdout",
     "output_type": "stream",
     "text": [
      "warning: suggest parenthesis around assignment used as truth value\n"
     ]
    }
   ],
   "source": [
    "% save this as a file evolve.m\n",
    "function [ evolved_array ] = evolve( array )\n",
    "  [nx ny] = size(array);  % the shape of the input array\n",
    "  \n",
    "  neighbor_array = zeros(nx,ny);  % should be zeros the same size as the input array\n",
    "  evolved_array = zeros(nx,ny);   % should be zeros the same size as the input array, dtype of np.int64\n",
    "  \n",
    "  for ix = 1:nx           % loop over all x-values\n",
    "    for iy = 1:ny         % loop over all y-values\n",
    "      lx = ix-1;          % define the left and right neighbor indices\n",
    "      rx = ix+1;          %\n",
    "      uy = iy-1;          % define the top and bottom neighbor indices\n",
    "      dy = iy+1;          %\n",
    "      % normalize the indices to fall in [1,nx]\n",
    "      if lx > nx\n",
    "        lx = lx - nx;\n",
    "      elseif lx < 1\n",
    "        lx = lx + nx;\n",
    "      end\n",
    "      if rx > nx\n",
    "        rx = rx - nx;\n",
    "      elseif rx < 1\n",
    "        rx = rx + nx;\n",
    "      end\n",
    "      if uy > ny\n",
    "        uy = uy - ny;\n",
    "      elseif uy < 1\n",
    "        uy = uy + ny;\n",
    "      end\n",
    "      if dy > ny\n",
    "        dy = dy - ny;\n",
    "      elseif dy < 1\n",
    "        dy = dy + ny;\n",
    "      end %if\n",
    "      %??? for the rest\n",
    "      \n",
    "      % include all EIGHT neighboring cells in an array and sum it up\n",
    "      neighbors = [array(lx,iy),array(rx,iy),array(ix,uy),array(ix,dy),array(lx,uy),array(lx,dy),array(rx,uy),array(rx,dy)];\n",
    "      neighbor_array(ix,iy) = sum(neighbors);\n",
    "      \n",
    "      % handle the case where the current cell is alive and has two neighbors\n",
    "      if array(ix,iy) > 0 && neighbor_array(ix,iy) == 2\n",
    "        evolved_array(ix,iy) = 1;\n",
    "      % handle the case where the current cell is alive and has three neighbors\n",
    "      elseif array(ix,iy) > 0 && neighbor_array(ix,iy) == 3\n",
    "        evolved_array(ix,iy) = 1;\n",
    "      % handle the case where the current cell is dead and has three neighbors\n",
    "      elseif array(ix,iy) = 0 && neighbor_array(ix,iy) == 3\n",
    "        evolved_array(ix,iy) = 1;\n",
    "      % otherwise the cell is dead\n",
    "      else\n",
    "        evolved_array(ix,iy) = 0;\n",
    "      end %if\n",
    "    end %for iy\n",
    "  end %for ix\n",
    "end %function"
   ]
  },
  {
   "cell_type": "markdown",
   "metadata": {},
   "source": [
    "Test the simulation using the following initial R-pentomino:\n",
    "\n",
    "    pentomino = zeros( 8,8 )\n",
    "    pentomino( 5,5 ) = 1\n",
    "    pentomino( 4,5 ) = 1\n",
    "    pentomino( 6,5 ) = 1\n",
    "    pentomino( 5,4 ) = 1\n",
    "    pentomino( 4,6 ) = 1\n",
    "\n",
    "    imshow( pentomino )\n",
    "\n",
    "At any time, you can visualize the state of the simulation using `imshow`.  (**Do not** do this inside of `evolve`, however; it will be too slow.)\n",
    "\n",
    "    cells = evolve( pentomino )\n",
    "    imshow( cells )"
   ]
  },
  {
   "cell_type": "code",
   "execution_count": 4,
   "metadata": {},
   "outputs": [
    {
     "name": "stdout",
     "output_type": "stream",
     "text": [
      "pentomino =\n",
      "\n",
      "   0   0   0   0   0   0   0   0\n",
      "   0   0   0   0   0   0   0   0\n",
      "   0   0   0   0   0   0   0   0\n",
      "   0   0   0   0   0   0   0   0\n",
      "   0   0   0   0   0   0   0   0\n",
      "   0   0   0   0   0   0   0   0\n",
      "   0   0   0   0   0   0   0   0\n",
      "   0   0   0   0   0   0   0   0\n",
      "\n",
      "pentomino =\n",
      "\n",
      "   0   0   0   0   0   0   0   0\n",
      "   0   0   0   0   0   0   0   0\n",
      "   0   0   0   0   0   0   0   0\n",
      "   0   0   0   0   0   0   0   0\n",
      "   0   0   0   0   1   0   0   0\n",
      "   0   0   0   0   0   0   0   0\n",
      "   0   0   0   0   0   0   0   0\n",
      "   0   0   0   0   0   0   0   0\n",
      "\n",
      "pentomino =\n",
      "\n",
      "   0   0   0   0   0   0   0   0\n",
      "   0   0   0   0   0   0   0   0\n",
      "   0   0   0   0   0   0   0   0\n",
      "   0   0   0   0   1   0   0   0\n",
      "   0   0   0   0   1   0   0   0\n",
      "   0   0   0   0   0   0   0   0\n",
      "   0   0   0   0   0   0   0   0\n",
      "   0   0   0   0   0   0   0   0\n",
      "\n",
      "pentomino =\n",
      "\n",
      "   0   0   0   0   0   0   0   0\n",
      "   0   0   0   0   0   0   0   0\n",
      "   0   0   0   0   0   0   0   0\n",
      "   0   0   0   0   1   0   0   0\n",
      "   0   0   0   0   1   0   0   0\n",
      "   0   0   0   0   1   0   0   0\n",
      "   0   0   0   0   0   0   0   0\n",
      "   0   0   0   0   0   0   0   0\n",
      "\n",
      "pentomino =\n",
      "\n",
      "   0   0   0   0   0   0   0   0\n",
      "   0   0   0   0   0   0   0   0\n",
      "   0   0   0   0   0   0   0   0\n",
      "   0   0   0   0   1   0   0   0\n",
      "   0   0   0   1   1   0   0   0\n",
      "   0   0   0   0   1   0   0   0\n",
      "   0   0   0   0   0   0   0   0\n",
      "   0   0   0   0   0   0   0   0\n",
      "\n",
      "pentomino =\n",
      "\n",
      "   0   0   0   0   0   0   0   0\n",
      "   0   0   0   0   0   0   0   0\n",
      "   0   0   0   0   0   0   0   0\n",
      "   0   0   0   0   1   1   0   0\n",
      "   0   0   0   1   1   0   0   0\n",
      "   0   0   0   0   1   0   0   0\n",
      "   0   0   0   0   0   0   0   0\n",
      "   0   0   0   0   0   0   0   0\n",
      "\n",
      "cells =\n",
      "\n",
      "   0   0   0   0   0   0   0   0\n",
      "   0   0   0   0   0   0   0   0\n",
      "   0   0   0   0   0   0   0   0\n",
      "   0   0   0   0   1   1   0   0\n",
      "   0   0   0   1   0   0   0   0\n",
      "   0   0   0   0   0   0   0   0\n",
      "   0   0   0   0   0   0   0   0\n",
      "   0   0   0   0   0   0   0   0\n",
      "\n"
     ]
    },
    {
     "data": {
      "image/png": "[encoded data removed]",
      "text/plain": [
       "<IPython.core.display.Image object>"
      ]
     },
     "metadata": {},
     "output_type": "display_data"
    }
   ],
   "source": [
    "% Run Simulation  of pentomio grid as mentioned above\n",
    "pentomino = zeros( 8,8 )\n",
    "pentomino( 5,5 ) = 1\n",
    "pentomino( 4,5 ) = 1\n",
    "pentomino( 6,5 ) = 1\n",
    "pentomino( 5,4 ) = 1\n",
    "pentomino( 4,6 ) = 1\n",
    "\n",
    "cells = evolve( pentomino )\n",
    "imshow( cells )"
   ]
  },
  {
   "cell_type": "markdown",
   "metadata": {},
   "source": [
    "### Looping Forward in Time"
   ]
  },
  {
   "cell_type": "markdown",
   "metadata": {},
   "source": [
    "Now that we have a working `evolve` function, we can carry out longer-term simulations of the Game of Life.  (If you haven't gotten `evolve` to work yet, we provide it for this step.)\n",
    "\n",
    "Consider a wrapper loop that will simulate a glider traveling for `nt` time steps:"
   ]
  },
  {
   "cell_type": "code",
   "execution_count": 23,
   "metadata": {},
   "outputs": [
    {
     "data": {
      "image/png": "[encoded data removed]",
      "text/plain": [
       "<IPython.core.display.Image object>"
      ]
     },
     "metadata": {},
     "output_type": "display_data"
    }
   ],
   "source": [
    "glider = zeros(24,24);\n",
    "glider(10,10) = 1;\n",
    "glider(11,10) = 1;\n",
    "glider(12,10) = 1;\n",
    "glider(12,11) = 1;\n",
    "glider(11,12) = 1;\n",
    "\n",
    "rt = 5;\n",
    "ct = 10;\n",
    "nt = rt * ct;\n",
    "figure; hold on;\n",
    "cells = glider;\n",
    "for t = 1:nt\n",
    "  cells = evolve( cells );\n",
    "  subplot(rt,ct,t);\n",
    "  imshow(cells);\n",
    "end %for"
   ]
  },
  {
   "cell_type": "markdown",
   "metadata": {},
   "source": [
    "### <span style=\"color:#345995\">Exercise 2:  Evolve Simulation using a Loop</span>\n",
    "\n",
    "-   Write a program which implements a loop evolving `pentadecathlon` for fifty time steps in five rows of ten images.  Produce a graphic using `imshow` named `figure_1.png`.  (You should maximize the plot before saving it so that you can see fine details.)\n",
    "\n",
    "        pentadecathlon = zeros(24,24);\n",
    "        pentadecathlon(10:20,10) = 1;\n",
    "        pentadecathlon(12, 9) = 1;\n",
    "        pentadecathlon(12,10) = 0;\n",
    "        pentadecathlon(12,11) = 1;\n",
    "        pentadecathlon(17, 9) = 1;\n",
    "        pentadecathlon(17,10) = 0;\n",
    "        pentadecathlon(17,11) = 1;"
   ]
  },
  {
   "cell_type": "code",
   "execution_count": 45,
   "metadata": {},
   "outputs": [
    {
     "data": {
      "image/png": "[encoded data removed]",
      "text/plain": [
       "<IPython.core.display.Image object>"
      ]
     },
     "metadata": {},
     "output_type": "display_data"
    }
   ],
   "source": [
    "% Test out your code\n",
    "pentadecathlon = zeros(24,24);\n",
    "pentadecathlon(10:20,10) = 1;\n",
    "pentadecathlon(12, 9) = 1;\n",
    "pentadecathlon(12,10) = 0;\n",
    "pentadecathlon(12,11) = 1;\n",
    "pentadecathlon(17, 9) = 1;\n",
    "pentadecathlon(17,10) = 0;\n",
    "pentadecathlon(17,11) = 1;\n",
    "imshow(pentadecathlon)"
   ]
  },
  {
   "cell_type": "code",
   "execution_count": 46,
   "metadata": {},
   "outputs": [
    {
     "data": {
      "image/png": "[encoded data removed]",
      "text/plain": [
       "<IPython.core.display.Image object>"
      ]
     },
     "metadata": {},
     "output_type": "display_data"
    }
   ],
   "source": [
    "% Write the code on pentadecathlon grid and save the final image as figure_1.png\n",
    "rt = 5;\n",
    "ct = 10;\n",
    "nt = rt * ct;\n",
    "figure; hold on;\n",
    "cells = pentadecathlon;\n",
    "for t = 1:nt\n",
    "  cells = evolve( cells );\n",
    "  subplot(rt,ct,t);\n",
    "  imshow(cells);\n",
    "end %for\n",
    "% Save image \n"
   ]
  },
  {
   "cell_type": "markdown",
   "metadata": {},
   "source": [
    "The Simkin glider gun produces an infinite number of gliders.\n",
    "\n",
    "### <span style=\"color:#345995\">Exercise 3: Evolve a Glider Gun Simuation</span>\n",
    "\n",
    "-   Write a program which implements a loop evolving `glidergun` for eighty time steps in eight rows of ten images.  Produce a graphic using `imshow` named `figure_2.png`.\n",
    "\n",
    "        glidergun = zeros(100,100);\n",
    "        glidergun(2,1)=1;\n",
    "        glidergun(2,2)=1;\n",
    "        glidergun(2,8)=1;\n",
    "        glidergun(2,9)=1;\n",
    "        glidergun(3,1)=1;\n",
    "        glidergun(3,2)=1;\n",
    "        glidergun(3,8)=1;\n",
    "        glidergun(3,9)=1;\n",
    "        glidergun(5,5)=1;\n",
    "        glidergun(5,6)=1;\n",
    "        glidergun(6,5)=1;\n",
    "        glidergun(6,6)=1;\n",
    "        glidergun(11,23)=1;\n",
    "        glidergun(11,24)=1;\n",
    "        glidergun(11,26)=1;\n",
    "        glidergun(11,27)=1;\n",
    "        glidergun(12,22)=1;\n",
    "        glidergun(12,28)=1;\n",
    "        glidergun(13,22)=1;\n",
    "        glidergun(13,29)=1;\n",
    "        glidergun(13,32)=1;\n",
    "        glidergun(13,33)=1;\n",
    "        glidergun(14,22)=1;\n",
    "        glidergun(14,23)=1;\n",
    "        glidergun(14,24)=1;\n",
    "        glidergun(14,28)=1;\n",
    "        glidergun(14,32)=1;\n",
    "        glidergun(14,33)=1;\n",
    "        glidergun(15,27)=1;\n",
    "        glidergun(20,25)=1;\n",
    "        glidergun(20,27)=1;\n",
    "        glidergun(20,28)=1;\n",
    "        glidergun(21,25)=1;\n",
    "        glidergun(21,26)=1;\n",
    "        glidergun(21,28)=1;"
   ]
  },
  {
   "cell_type": "code",
   "execution_count": 42,
   "metadata": {},
   "outputs": [
    {
     "data": {
      "image/png": "[encoded data removed]",
      "text/plain": [
       "<IPython.core.display.Image object>"
      ]
     },
     "metadata": {},
     "output_type": "display_data"
    },
    {
     "data": {
      "image/png": "[encoded data removed]",
      "text/plain": [
       "<IPython.core.display.Image object>"
      ]
     },
     "metadata": {},
     "output_type": "display_data"
    }
   ],
   "source": [
    "% Test your code\n",
    "glidergun = zeros(100,100);\n",
    "glidergun(2,1)=1;\n",
    "glidergun(2,2)=1;\n",
    "glidergun(2,8)=1;\n",
    "glidergun(2,9)=1;\n",
    "glidergun(3,1)=1;\n",
    "glidergun(3,2)=1;\n",
    "glidergun(3,8)=1;\n",
    "glidergun(3,9)=1;\n",
    "glidergun(5,5)=1;\n",
    "glidergun(5,6)=1;\n",
    "glidergun(6,5)=1;\n",
    "glidergun(6,6)=1;\n",
    "glidergun(11,23)=1;\n",
    "glidergun(11,24)=1;\n",
    "glidergun(11,26)=1;\n",
    "glidergun(11,27)=1;\n",
    "glidergun(12,22)=1;\n",
    "glidergun(12,28)=1;\n",
    "glidergun(13,22)=1;\n",
    "glidergun(13,29)=1;\n",
    "glidergun(13,32)=1;\n",
    "glidergun(13,33)=1;\n",
    "glidergun(14,22)=1;\n",
    "glidergun(14,23)=1;\n",
    "glidergun(14,24)=1;\n",
    "glidergun(14,28)=1;\n",
    "glidergun(14,32)=1;\n",
    "glidergun(14,33)=1;\n",
    "glidergun(15,27)=1;\n",
    "glidergun(20,25)=1;\n",
    "glidergun(20,27)=1;\n",
    "glidergun(20,28)=1;\n",
    "glidergun(21,25)=1;\n",
    "glidergun(21,26)=1;\n",
    "glidergun(21,28)=1;"
   ]
  },
  {
   "cell_type": "code",
   "execution_count": 43,
   "metadata": {},
   "outputs": [
    {
     "name": "stdout",
     "output_type": "stream",
     "text": [
      "\n",
      "\n"
     ]
    }
   ],
   "source": [
    "% Write the code on glidergun grid and save the final image as figure_2.png\n",
    "rt = 8;\n",
    "ct = 10;\n",
    "nt = rt * ct;\n",
    "figure; hold on;\n",
    "cells = glidergun;\n",
    "for t = 1:nt\n",
    "  cells = evolve( cells );\n",
    "  subplot(rt,ct,t);\n",
    "  imshow(cells);\n",
    "end %for\n",
    "% Save image"
   ]
  },
  {
   "cell_type": "markdown",
   "metadata": {},
   "source": [
    "### Lab Submission"
   ]
  },
  {
   "cell_type": "markdown",
   "metadata": {},
   "source": [
    "### <span style=\"color:#345995\">Manual Check-off</span>\n",
    "\n",
    "-   To complete this lab, you should save your files to the working directory.  We expect to see the following files, along with your code in this notebook:\n",
    "\n",
    "    -   `figure_1.png`\n",
    "    -   `figure_2.png`\n",
    "    -   `evolve.m (completed)`\n",
    "    \n",
    "    Once that is done, you may `Submit` the lab. Make sure to ask a TA/CA to take a look at your figures and check you off manually"
   ]
  },
  {
   "cell_type": "markdown",
   "metadata": {},
   "source": [
    "Although the foregoing presentation was developed independently, you can find out more about MATLAB and the Game of Life [here](https://www.mathworks.com/content/dam/mathworks/mathworks-dot-com/moler/exm/chapters/life.pdf).\n",
    "\n",
    "Furthermore, should you wish to modestly alter your foregoing code to produce a 3D matrix with each time step as a slice, you can produce an animated GIF using [this function](https://www.mathworks.com/matlabcentral/fileexchange/43270-save-3d-matrix-as-gif)."
   ]
  }
 ],
 "metadata": {
  "anaconda-cloud": {},
  "kernelspec": {
   "display_name": "Octave",
   "language": "octave",
   "name": "octave"
  },
  "language_info": {
   "file_extension": ".m",
   "help_links": [
    {
     "text": "GNU Octave",
     "url": "https://www.gnu.org/software/octave/support.html"
    },
    {
     "text": "Octave Kernel",
     "url": "https://github.com/Calysto/octave_kernel"
    },
    {
     "text": "MetaKernel Magics",
     "url": "https://metakernel.readthedocs.io/en/latest/source/README.html"
    }
   ],
   "mimetype": "text/x-octave",
   "name": "octave",
   "version": "5.2.0"
  }
 },
 "nbformat": 4,
 "nbformat_minor": 4
}
