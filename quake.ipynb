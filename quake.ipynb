{
 "cells": [
  {
   "cell_type": "markdown",
   "metadata": {},
   "source": [
    "# `lab09`—Earthquake!"
   ]
  },
  {
   "cell_type": "markdown",
   "metadata": {},
   "source": [
    "**Objectives**\n",
    "\n",
    "-   Use the MATLAB programming platform to develop and use code."
   ]
  },
  {
   "cell_type": "markdown",
   "metadata": {},
   "source": [
    "In order to ease your transition back-and-forth between Python and MATLAB, we have written a [handout](./handout.pdf) which covers the basics of translation.  (Right-click to save and open.)  This handout covers many more functions and tools than you have seen in CS 101, but should serve you well throughout your engineering education since both languages are in common currency at the University of Illinois."
   ]
  },
  {
   "cell_type": "markdown",
   "metadata": {},
   "source": [
    "### Getting Started"
   ]
  },
  {
   "cell_type": "markdown",
   "metadata": {},
   "source": [
    "Today you will carry out the lab assignment in MATLAB. We will actually be using the GNU Octave language, which is an open-source version of MATLAB. This Jupyter notebook has been modified to support the Octave. You can also test your code in MATLAB if you have it installed on your computer."
   ]
  },
  {
   "cell_type": "markdown",
   "metadata": {},
   "source": [
    "### Seismograms"
   ]
  },
  {
   "cell_type": "markdown",
   "metadata": {},
   "source": [
    "A seismometer measures the motion of the ground, particularly seismic waves which may originate from earthquakes or volcanic eruptions.  Data often include both the magnitude and the direction of motion, although in our lab today we will only consider magnitude data for simplicity.  The resulting data may be recorded in the form of a *seismogram*, which reflects the simple motion of a needle against a roll of paper.\n",
    "\n",
    "![](https://upload.wikimedia.org/wikipedia/commons/thumb/0/0f/Kinemetrics_seismograph.jpg/800px-Kinemetrics_seismograph.jpg)\n",
    "\n",
    "![](https://tc1seismometer.files.wordpress.com/2012/07/20120204_200532_bsuz_psn.gif?w=2000&h=)\n",
    "\n",
    "We will use a generated data set using random numbers for this lab, using a technique you will recreate in the last part."
   ]
  },
  {
   "cell_type": "code",
   "execution_count": 1,
   "metadata": {},
   "outputs": [
    {
     "name": "stdout",
     "output_type": "stream",
     "text": [
      "answerPass =\n",
      "\n",
      "   0   0   0   0   0   0   0\n",
      "\n"
     ]
    }
   ],
   "source": [
    "answerPass = [0 0 0 0 0 0 0]"
   ]
  },
  {
   "cell_type": "markdown",
   "metadata": {},
   "source": [
    "### <span style=\"color:#345995\">Exercise 1: Load Seismographic Data</span>\n",
    "\n",
    "-   Load the data set from the file `quakedata.txt` using [`importdata`](https://www.mathworks.com/help/matlab/ref/importdata.html), which automatically parses it into an array.  Assign this imported data set the name `seis` (for seismogram).  The first row contains the time values in seconds, and the second row contains the displacement data from the seismometer.\n",
    "        "
   ]
  },
  {
   "cell_type": "code",
   "execution_count": 7,
   "metadata": {},
   "outputs": [
    {
     "name": "stdout",
     "output_type": "stream",
     "text": [
      "seis =\n",
      "\n",
      " Columns 1 through 6:\n",
      "\n",
      "     0.00000     1.00000     2.00000     3.00000     4.00000     5.00000\n",
      "     0.12356     0.97216     0.91618     1.33990    -1.90256     0.28804\n",
      "\n",
      " Columns 7 through 12:\n",
      "\n",
      "     6.00000     7.00000     8.00000     9.00000    10.00000    11.00000\n",
      "    -2.08695    -1.47260    -0.75406    -0.95489    -0.55241    -1.83276\n",
      "\n",
      " Columns 13 through 18:\n",
      "\n",
      "    12.00000    13.00000    14.00000    15.00000    16.00000    17.00000\n",
      "    -1.30655     0.09926    -1.38119    -0.08744    -0.99014    -0.75248\n",
      "\n",
      " Columns 19 through 24:\n",
      "\n",
      "    18.00000    19.00000    20.00000    21.00000    22.00000    23.00000\n",
      "    -0.21336     1.16209    -1.50720     0.01980    -1.79557     0.01110\n",
      "\n",
      " Columns 25 through 30:\n",
      "\n",
      "    24.00000    25.00000    26.00000    27.00000    28.00000    29.00000\n",
      "    -0.30372     0.60168     0.40718     0.87138     0.20778     1.74709\n",
      "\n",
      " Columns 31 through 36:\n",
      "\n",
      "    30.00000    31.00000    32.00000    33.00000    34.00000    35.00000\n",
      "     0.18992     0.73185    -0.07383     0.32348    -0.76859    -0.17380\n",
      "\n",
      " Columns 37 through 42:\n",
      "\n",
      "    36.00000    37.00000    38.00000    39.00000    40.00000    41.00000\n",
      "     0.64981     1.12150     1.16518     1.11849     0.87425     0.74449\n",
      "\n",
      " Columns 43 through 48:\n",
      "\n",
      "    42.00000    43.00000    44.00000    45.00000    46.00000    47.00000\n",
      "    -1.81410     1.18826    -1.45862    -0.93127     0.13655    -0.56629\n",
      "\n",
      " Columns 49 through 54:\n",
      "\n",
      "    48.00000    49.00000    50.00000    51.00000    52.00000    53.00000\n",
      "    -0.55749    -0.52509     0.98457    -0.98625    -0.71307    -0.11511\n",
      "\n",
      " Columns 55 through 60:\n",
      "\n",
      "    54.00000    55.00000    56.00000    57.00000    58.00000    59.00000\n",
      "     0.36827     0.96924     1.34185     0.00067    -0.43626     0.41549\n",
      "\n",
      " Columns 61 through 66:\n",
      "\n",
      "    60.00000    61.00000    62.00000    63.00000    64.00000    65.00000\n",
      "    42.35333   -18.22799    10.09748   -27.39084   -16.20518   -17.46904\n",
      "\n",
      " Columns 67 through 72:\n",
      "\n",
      "    66.00000    67.00000    68.00000    69.00000    70.00000    71.00000\n",
      "   -24.23074     0.93335   -10.67249     5.24111    35.08375   -19.95238\n",
      "\n",
      " Columns 73 through 78:\n",
      "\n",
      "    72.00000    73.00000    74.00000    75.00000    76.00000    77.00000\n",
      "    13.05106   -18.90153    -2.98434     9.76560     5.66826     1.47256\n",
      "\n",
      " Columns 79 through 84:\n",
      "\n",
      "    78.00000    79.00000    80.00000    81.00000    82.00000    83.00000\n",
      "    -6.77137    20.81785   -10.61788    -0.23421    -0.55370     6.51821\n",
      "\n",
      " Columns 85 through 90:\n",
      "\n",
      "    84.00000    85.00000    86.00000    87.00000    88.00000    89.00000\n",
      "     6.72293     0.19123    -3.18729    -3.14890   -23.33643     7.05580\n",
      "\n",
      " Columns 91 through 96:\n",
      "\n",
      "    90.00000    91.00000    92.00000    93.00000    94.00000    95.00000\n",
      "     4.82897   -10.74034    -8.24582    -5.70529   -11.55969    11.96327\n",
      "\n",
      " Columns 97 through 102:\n",
      "\n",
      "    96.00000    97.00000    98.00000    99.00000   100.00000   101.00000\n",
      "   -10.81330     9.45733     7.50996     0.13510     8.79526    13.05240\n",
      "\n",
      " Columns 103 through 108:\n",
      "\n",
      "   102.00000   103.00000   104.00000   105.00000   106.00000   107.00000\n",
      "     6.82182     8.21342     7.60340   -17.11401    -6.37224     8.38719\n",
      "\n",
      " Columns 109 through 114:\n",
      "\n",
      "   108.00000   109.00000   110.00000   111.00000   112.00000   113.00000\n",
      "    -1.99665    17.22987     8.94462    12.25663    -9.62167    -1.84249\n",
      "\n",
      " Columns 115 through 120:\n",
      "\n",
      "   114.00000   115.00000   116.00000   117.00000   118.00000   119.00000\n",
      "    -5.00504   -22.81103    -1.06359    -3.37825    -6.36066   -14.96364\n",
      "\n",
      " Columns 121 through 126:\n",
      "\n",
      "   120.00000   121.00000   122.00000   123.00000   124.00000   125.00000\n",
      "     0.25182     0.16515     1.60385     1.28421    -0.09793     0.75420\n",
      "\n",
      " Columns 127 through 132:\n",
      "\n",
      "   126.00000   127.00000   128.00000   129.00000   130.00000   131.00000\n",
      "     2.42330     2.05962     0.13284    -1.05354    -0.02722     0.21412\n",
      "\n",
      " Columns 133 through 138:\n",
      "\n",
      "   132.00000   133.00000   134.00000   135.00000   136.00000   137.00000\n",
      "     1.11869     0.72797     0.93977    -1.70395    -0.03280    -0.67670\n",
      "\n",
      " Columns 139 through 144:\n",
      "\n",
      "   138.00000   139.00000   140.00000   141.00000   142.00000   143.00000\n",
      "     0.33594     0.33244     2.09164     2.56824     0.08886     1.89059\n",
      "\n",
      " Columns 145 through 150:\n",
      "\n",
      "   144.00000   145.00000   146.00000   147.00000   148.00000   149.00000\n",
      "    -0.14634     1.29754    -0.55353     1.55840     0.45349     0.18268\n",
      "\n",
      " Columns 151 through 156:\n",
      "\n",
      "   150.00000   151.00000   152.00000   153.00000   154.00000   155.00000\n",
      "    -1.21203    -0.02935    -1.86599    -0.09815     0.08996     0.66283\n",
      "\n",
      " Columns 157 through 162:\n",
      "\n",
      "   156.00000   157.00000   158.00000   159.00000   160.00000   161.00000\n",
      "    -0.15771     1.27026    -0.61533    -1.54514    -0.72963    -0.71074\n",
      "\n",
      " Columns 163 through 168:\n",
      "\n",
      "   162.00000   163.00000   164.00000   165.00000   166.00000   167.00000\n",
      "    -0.50332     3.19736     0.85158    18.81666    -4.71097   -24.65432\n",
      "\n",
      " Columns 169 through 174:\n",
      "\n",
      "   168.00000   169.00000   170.00000   171.00000   172.00000   173.00000\n",
      "     2.12141     8.80150    12.81392    10.04218    -7.59329    10.26560\n",
      "\n",
      " Columns 175 through 180:\n",
      "\n",
      "   174.00000   175.00000   176.00000   177.00000   178.00000   179.00000\n",
      "     7.22133    10.31733     9.96284    -6.88854     3.99767    -1.11752\n",
      "\n",
      " Columns 181 through 186:\n",
      "\n",
      "   180.00000   181.00000   182.00000   183.00000   184.00000   185.00000\n",
      "   -18.21935    22.62816   -11.39590    -8.00674    -6.83647     1.29753\n",
      "\n",
      " Columns 187 through 192:\n",
      "\n",
      "   186.00000   187.00000   188.00000   189.00000   190.00000   191.00000\n",
      "    -4.96555     0.72829   -10.69521     3.59377    -9.84685    -5.66330\n",
      "\n",
      " Columns 193 through 198:\n",
      "\n",
      "   192.00000   193.00000   194.00000   195.00000   196.00000   197.00000\n",
      "     4.72742    -2.95550     8.98827    -0.80027    -0.23075     1.70437\n",
      "\n",
      " Columns 199 through 204:\n",
      "\n",
      "   198.00000   199.00000   200.00000   201.00000   202.00000   203.00000\n",
      "    -0.91179     0.70763    -0.02736    -1.78028     0.76677    -0.22313\n",
      "\n",
      " Columns 205 through 210:\n",
      "\n",
      "   204.00000   205.00000   206.00000   207.00000   208.00000   209.00000\n",
      "    -0.25012    -0.44291    -0.58013    -0.08037    -0.76779     1.53004\n",
      "\n",
      " Columns 211 through 216:\n",
      "\n",
      "   210.00000   211.00000   212.00000   213.00000   214.00000   215.00000\n",
      "    -0.57399    -0.11884     1.43596    -0.58546    -0.39731     0.25855\n",
      "\n",
      " Columns 217 through 222:\n",
      "\n",
      "   216.00000   217.00000   218.00000   219.00000   220.00000   221.00000\n",
      "     0.27818     0.06953     1.29738     1.23251    -0.41747     0.85342\n",
      "\n",
      " Columns 223 through 228:\n",
      "\n",
      "   222.00000   223.00000   224.00000   225.00000   226.00000   227.00000\n",
      "     1.89983     2.53576    -0.36241     0.32475     0.53681     1.19776\n",
      "\n",
      " Columns 229 through 234:\n",
      "\n",
      "   228.00000   229.00000   230.00000   231.00000   232.00000   233.00000\n",
      "    -1.09465    -0.00953     1.44663     0.50717    -0.62246    -1.64255\n",
      "\n",
      " Columns 235 through 240:\n",
      "\n",
      "   234.00000   235.00000   236.00000   237.00000   238.00000   239.00000\n",
      "     0.66021     0.64823    34.99741   -17.00445   130.47140    33.82550\n",
      "\n",
      " Columns 241 through 246:\n",
      "\n",
      "   240.00000   241.00000   242.00000   243.00000   244.00000   245.00000\n",
      "    44.83971   -83.21527     7.60801   -41.98980    37.42397    -2.61288\n",
      "\n",
      " Columns 247 through 252:\n",
      "\n",
      "   246.00000   247.00000   248.00000   249.00000   250.00000   251.00000\n",
      "   -81.66023   -18.93865    82.33158   -13.44953    12.32382   -64.88558\n",
      "\n",
      " Columns 253 through 258:\n",
      "\n",
      "   252.00000   253.00000   254.00000   255.00000   256.00000   257.00000\n",
      "    17.03957    24.20587    -6.36781   -41.26423    26.40411     4.51663\n",
      "\n",
      " Columns 259 through 264:\n",
      "\n",
      "   258.00000   259.00000   260.00000   261.00000   262.00000   263.00000\n",
      "    -1.14194  -115.15642    21.36936    17.03061     3.18129   -20.89029\n",
      "\n",
      " Columns 265 through 270:\n",
      "\n",
      "   264.00000   265.00000   266.00000   267.00000   268.00000   269.00000\n",
      "    10.46280    49.32950     3.71973   -19.80754     1.26484     4.61047\n",
      "\n",
      " Columns 271 through 276:\n",
      "\n",
      "   270.00000   271.00000   272.00000   273.00000   274.00000   275.00000\n",
      "    11.66081    -5.59549    -8.44316    -1.11611    -8.91313     7.52393\n",
      "\n",
      " Columns 277 through 282:\n",
      "\n",
      "   276.00000   277.00000   278.00000   279.00000   280.00000   281.00000\n",
      "   -15.63716    -3.62104     2.99737    -9.19462    -0.09359     0.52106\n",
      "\n",
      " Columns 283 through 288:\n",
      "\n",
      "   282.00000   283.00000   284.00000   285.00000   286.00000   287.00000\n",
      "    -2.14529    -0.89092     0.89574    -1.21188    -1.18536     0.89979\n",
      "\n",
      " Columns 289 through 294:\n",
      "\n",
      "   288.00000   289.00000   290.00000   291.00000   292.00000   293.00000\n",
      "     1.84471    -0.45832    -0.09537    -1.44101    -1.80513     1.49143\n",
      "\n",
      " Columns 295 through 300:\n",
      "\n",
      "   294.00000   295.00000   296.00000   297.00000   298.00000   299.00000\n",
      "     0.82982     0.01573    -0.77896     0.52661    -1.01022     0.06029\n",
      "\n",
      " Columns 301 through 306:\n",
      "\n",
      "   300.00000   301.00000   302.00000   303.00000   304.00000   305.00000\n",
      "    -0.54698    -2.42875    -0.42582    -0.55794    -0.40285     0.35158\n",
      "\n",
      " Columns 307 through 312:\n",
      "\n",
      "   306.00000   307.00000   308.00000   309.00000   310.00000   311.00000\n",
      "     0.49763     0.64163     1.28780    -1.74967     0.71046    -1.24231\n",
      "\n",
      " Columns 313 through 318:\n",
      "\n",
      "   312.00000   313.00000   314.00000   315.00000   316.00000   317.00000\n",
      "     0.98451    -0.99888    -0.22575    -1.26519    -0.33192     0.52796\n",
      "\n",
      " Columns 319 through 324:\n",
      "\n",
      "   318.00000   319.00000   320.00000   321.00000   322.00000   323.00000\n",
      "     0.02633     0.38699    -0.10006    -0.11321     0.11992     1.11017\n",
      "\n",
      " Columns 325 through 330:\n",
      "\n",
      "   324.00000   325.00000   326.00000   327.00000   328.00000   329.00000\n",
      "    -1.11570     1.04918    -1.38248     0.67499     0.33036    -0.60779\n",
      "\n",
      " Columns 331 through 336:\n",
      "\n",
      "   330.00000   331.00000   332.00000   333.00000   334.00000   335.00000\n",
      "     1.85735     0.87070    -1.32112     2.19726    -0.42636    -1.84111\n",
      "\n",
      " Columns 337 through 342:\n",
      "\n",
      "   336.00000   337.00000   338.00000   339.00000   340.00000   341.00000\n",
      "     1.11413    -1.30574     0.91335    -0.21002    -0.63263    -0.97658\n",
      "\n",
      " Columns 343 through 348:\n",
      "\n",
      "   342.00000   343.00000   344.00000   345.00000   346.00000   347.00000\n",
      "     2.05655    -0.44657    -1.35868    -0.77165     2.17012    -0.58221\n",
      "\n",
      " Columns 349 and 350:\n",
      "\n",
      "   348.00000   349.00000\n",
      "    -0.40026     0.61910\n",
      "\n",
      "     2   350\n"
     ]
    }
   ],
   "source": [
    "%grade\n",
    "% Use the importdata function to load quakedata.txt\n",
    "seis = importdata('quakedata.txt')  % load the array\n",
    "disp( size(seis) ); % output the dimensions of the array"
   ]
  },
  {
   "cell_type": "markdown",
   "metadata": {},
   "source": [
    "If you are working on a local installation of MATLAB, after you do this, you will see `seis` appear in the *Workspace* area at right.  `disp` is the MATLAB analogue of `print`, and `size` corresponds to `len`. In Octave, you can use the `whos` command to display a list of variables."
   ]
  },
  {
   "cell_type": "code",
   "execution_count": 15,
   "metadata": {},
   "outputs": [
    {
     "name": "stdout",
     "output_type": "stream",
     "text": [
      "Variables in the current scope:\n",
      "\n",
      "   Attr Name            Size                     Bytes  Class\n",
      "   ==== ====            ====                     =====  ===== \n",
      "        ans             1x5                          5  char\n",
      "        answerPass      1x7                         56  double\n",
      "        seis            2x350                     5600  double\n",
      "        test_data       2x350                     5600  double\n",
      "        test_size       1x2                         16  double\n",
      "\n",
      "Total is 1414 elements using 11277 bytes\n",
      "\n"
     ]
    }
   ],
   "source": [
    "whos\n"
   ]
  },
  {
   "cell_type": "markdown",
   "metadata": {},
   "source": [
    "If you have loaded everything correctly, this set of tests should pass. "
   ]
  },
  {
   "cell_type": "code",
   "execution_count": 12,
   "metadata": {},
   "outputs": [],
   "source": [
    "function [ result ] = isclose(a, b)\n",
    "    rel_tol = 1e-6;\n",
    "    result = abs(a - b) <= max(rel_tol * max(abs(a), abs(b)));\n",
    "end"
   ]
  },
  {
   "cell_type": "code",
   "execution_count": 13,
   "metadata": {},
   "outputs": [
    {
     "name": "stdout",
     "output_type": "stream",
     "text": [
      "All Tests Passed\n"
     ]
    }
   ],
   "source": [
    "% Your code should pass these tests.  Do not edit this cell.\n",
    "test_data = importdata( 'quakedata.txt' );  % load the array\n",
    "test_size = size( test_data );\n",
    "\n",
    "if  test_size( 1 ) ~= 2 \n",
    "    disp (\"You do not have two rows.\")\n",
    "    \n",
    "elseif  test_size( 2 ) ~= 350\n",
    "    disp (\"You do not have 350 columns.\")\n",
    "    \n",
    "elseif ~isclose( seis( 400 ), 0.707633859307113)\n",
    "    disp (\"You do not appear to have loaded the data.\")\n",
    "    \n",
    "else \n",
    "    answerPass(1) = 1;\n",
    "    disp (\"All Tests Passed\")\n",
    "end"
   ]
  },
  {
   "cell_type": "markdown",
   "metadata": {},
   "source": [
    "Let's see what these data represent as a pictorial seismogram.\n",
    "\n",
    "You should use the MATLAB [`plot`](https://www.mathworks.com/help/matlab/ref/plot.html) function.  It works like this:\n",
    "\n",
    "        plot(x_values, y_values, 'b-');\n",
    "\n",
    "### <span style=\"color:#345995\">Exercise 2: Display Data Layout</span>\n",
    "\n",
    "-   Plot the second row of `seis` against the first.  Save the plot as `figure_1.png` in your working directory.  (You can use the print command to save a figure. The '-d' flag can be used to specify the extension, e.g. '-dpng' or '-djpg')\n",
    "    \n",
    "        print -dpng filename.png\n",
    "        \n",
    "        \n",
    "    Since you have to refer to the entire array, you'll have to specify the whole row in the indexing:\n",
    "        \n",
    "        plot(seis(1,:), seis(2,:), 'b-');\n",
    "    \n",
    "    Pay attention to how MATLAB handles rows and columns, and transpose if necessary to plot what you intend."
   ]
  },
  {
   "cell_type": "code",
   "execution_count": 38,
   "metadata": {},
   "outputs": [
    {
     "data": {
      "image/png": "[encoded data removed]",
      "text/plain": [
       "<IPython.core.display.Image object>"
      ]
     },
     "metadata": {},
     "output_type": "display_data"
    }
   ],
   "source": [
    "% Write code to plot the first row of seis against the second here and save it as a png\n",
    "plot1 = plot(seis(1,:),seis(2,:), 'b-');\n",
    "print -dpng figure_1.png"
   ]
  },
  {
   "cell_type": "code",
   "execution_count": 39,
   "metadata": {},
   "outputs": [
    {
     "name": "stdout",
     "output_type": "stream",
     "text": [
      "All tests passed successfully\n"
     ]
    }
   ],
   "source": [
    "#Testing for exercise 2\n",
    "# Do NOT modify cell! If you got Exercise 2 right it will display \"All Tests Passed Successfully\"\n",
    "testSlice = [ 0.12356   0.97216   0.91618   1.33990  -1.90256   0.28804  -2.08695  -1.47260  -0.75406  -0.95489];\n",
    "yData = get(plot1,'YData');\n",
    "StudentSlice = yData(1:10);\n",
    "tolerance = sum (StudentSlice - testSlice);\n",
    "if  tolerance < 1e-5\n",
    "    answerPass(2) = 1;\n",
    "    disp (\"All tests passed successfully\")\n",
    "    #set the variable for this test passed\n",
    "else \n",
    "    disp (\"Test failed\")\n",
    "end"
   ]
  },
  {
   "cell_type": "markdown",
   "metadata": {},
   "source": [
    "### Earthquake Detection"
   ]
  },
  {
   "cell_type": "markdown",
   "metadata": {},
   "source": [
    "An earthquake event can be reconstructed from numerical data by looking at how big the oscillations are—that is, the *variance*.  (Our data set `seis` clearly contains zones where the variance is locally different.)  Mathematically, we prefer to use the square root of the variance, or the *standard deviation*, for convenience.  We define the standard deviation of the elements of a list $X$ as\n",
    "\n",
    "$$\n",
    "\\text{var}(X) = \\sqrt{\\text{avg}\\left( (X - \\bar{X})^2 \\right)}\n",
    "$$\n",
    "\n",
    "where $\\bar{X}$ is the average of the data set.  MATLAB conveniently provides a way to calculate the average value of a list of values:\n",
    "    \n",
    "    X = [ 0.57473 0.09365 0.20067 0.20592 ]  % define an array\n",
    "    disp( mean( X ) )\n",
    "\n",
    "MATLAB also supports direct calculation of the standard deviation (and several other statistical quantities):\n",
    "    \n",
    "    disp( std( X ) )\n",
    "\n",
    "Suppose that we have a set of seismograph magnitudes and we wish to detect events above a certain threshold.  Using these functions for the average and standard deviation, we can easily calculate the mean and standard deviation for an entire data set, but that doesn't really tell us what we want to know, which is *when* the earthquake threshold event occurred.\n",
    "\n",
    "![](./img/mean_stdev_all.png)\n",
    "\n",
    "It is better, in cases like this, to use a *moving-window* or *rolling* function, which instead returns the calculation based on a subset of the entire data set.  For example, a two-point moving average of the data set `[3 4 2 5 1]` would look like `[NaN (3+4)/2 (4+2)/2 (2+5)/2 (5+1)/2]` $\\rightarrow$ `[NaN 3.5 3.0 3.5 3.0]`—the $i$th moving average is the average of the $i-1$th and $i$th values in the original list or array.  More generally, the $n$-point moving average we will define uses the last $n$ data values to calculate an average.  (`Nan` stands for *n*ot *a* *n*umber, a special data type used when you need the data to be a numeric data type but still not carry an actual value.)  For instance, a twenty-day rolling average of a financial data set would look like this:\n",
    "\n",
    "![](./img/mean_rolling.png)\n",
    "\n",
    "These are very useful for smoothing data sets which contain a lot of noise and variability which obscure the true trends.  You often see them used in financial analyses, for instance, or to filter electronic signals in electrical engineering.\n",
    "\n",
    "This data set has a fairly consistent standard deviation (look at the $y$ axis):\n",
    "\n",
    "![](./img/stdev_rolling.png)\n",
    "\n",
    "Together, the rolling mean and rolling standard deviation can give us a pretty good picture of the statistical behavior of a data set:\n",
    "\n",
    "![](./img/all_rolling.png)"
   ]
  },
  {
   "cell_type": "markdown",
   "metadata": {},
   "source": [
    "### <span style=\"color:#345995\">Exercise 3: Filter Data</span>\n",
    "\n",
    "-   Examine the function `rolling_mean` which accepts as parameters an array called `data` containing a row of time values and a row of measurements (just like `seis`), and a window size `n`.  The function should return the resulting array of time points and calculated rolling-window means. \n",
    "    \n",
    "    We introduce the notion here of a *stencil*—that is, how the values in an array or a grid relate to each other in a particular calculation.  For instance, to calculate the rolling mean with a value of $n = 5$, you require the value at the current index (in red) and two array values behind and two ahead (in yellow):\n",
    "    \n",
    "    <img src=\"./img/stencil.png\" width=\"50%;\"/>\n",
    "    \n",
    "    Thus at the edges of the array, we will have undefined values (`Nan`s) since we can't calculate the five-point rolling mean with only three or four points."
   ]
  },
  {
   "cell_type": "code",
   "execution_count": 28,
   "metadata": {},
   "outputs": [],
   "source": [
    "%grade\n",
    "%% Compose a function rolling_mean which accepts as parameters an array\n",
    "%  called `data` containing a row of time values and a row of measurements\n",
    "%  and a window size `n`.\n",
    "%\n",
    "%  The function should return the resulting array of time points and\n",
    "%  calculated rolling-window means.\n",
    "%\n",
    "function [ means ] = rolling_mean( data, n )\n",
    "    % test that the input is valid\n",
    "    assert(n > 0,         'n should be positive.');\n",
    "    assert(~mod(n,1),     'n should be an integer.');\n",
    "    assert(~(mod(n,2)-1), 'n should be odd.');\n",
    "    \n",
    "    % get range \"stencil\"---how far forward and back to include values\n",
    "    rng = floor(n/2)  % consider using `floor` function, see image above\n",
    "    \n",
    "    % calculate the rolling mean\n",
    "    means = zeros(size(data));\n",
    "    means(1,:) = data(1,:);  % copy the x-values\n",
    "    for i = 1:size(data,2)  % loop over all values in the array\n",
    "        % If the stencil doesn't apply, then set the value to NaN.\n",
    "        if i < rng+1 || i > (size(data,2)-rng)\n",
    "            means(2,i) = NaN;\n",
    "            continue;\n",
    "        end\n",
    "        \n",
    "        %Calculate the mean of the values in the appropriate range\n",
    "        means(2,i) = mean(data(2, i - rng:i + rng));\n",
    "    end\n",
    "end\n"
   ]
  },
  {
   "cell_type": "markdown",
   "metadata": {},
   "source": [
    "If you have written this correctly, the following set of tests should pass. Remember to end lines which assign values to variables with a semicolon, else octave will keep printing out the output of those lines repeatedly."
   ]
  },
  {
   "cell_type": "code",
   "execution_count": 29,
   "metadata": {},
   "outputs": [
    {
     "name": "stdout",
     "output_type": "stream",
     "text": [
      "rng =  3\n",
      "All Tests Passed\n"
     ]
    },
    {
     "data": {
      "image/png": "[encoded data removed]",
      "text/plain": [
       "<IPython.core.display.Image object>"
      ]
     },
     "metadata": {},
     "output_type": "display_data"
    }
   ],
   "source": [
    "% Your code should pass these tests.  Do not edit this cell.\n",
    "test_data = importdata( 'quakedata.txt' );  % load the array\n",
    "test_means = rolling_mean( test_data,7 );  % calculate the rolling means\n",
    "test_size = size( test_means );\n",
    "\n",
    "if  test_size( 1 ) ~= 2 \n",
    "    disp (\"You do not have two rows.\")\n",
    "    \n",
    "elseif  test_size( 2 ) ~= 350\n",
    "    disp (\"You do not have 350 columns.\")\n",
    "    \n",
    "elseif ~isclose( test_means( 2,100 ), 4.994080729574138 )\n",
    "    disp (\"Your calculation is incorrect.\")\n",
    "    \n",
    "else \n",
    "    answerPass(3) = 1;\n",
    "    disp (\"All Tests Passed\")\n",
    "end\n",
    "\n",
    "#assert( test_size(1) == 2,   'You do not have two rows.' )\n",
    "#assert( test_size(2) == 350, 'You do not have 350 columns.' )\n",
    "#assert(isclose( test_means( 2,100 ), 4.994080729574138 ), 'Your calculation is incorrect.' )\n",
    "plot( seis( 1,: ),seis( 2,: ),'b-',test_means( 1,: ),test_means( 2,: ),'r-' )\n",
    "#disp( 'All tests passed successfully.' )"
   ]
  },
  {
   "cell_type": "markdown",
   "metadata": {},
   "source": [
    "### <span style=\"color:#345995\">Exercise 4: Plot Rolling Standard Deviation</span>\n",
    "\n",
    "-   Compose a function `rolling_std` which accepts as parameters an array called `data` containing a row of time values and a row of measurements (just like `seis`), and a window size `n`.  The function should return the resulting array of time points and calculated rolling-window standard deviations."
   ]
  },
  {
   "cell_type": "code",
   "execution_count": 34,
   "metadata": {},
   "outputs": [],
   "source": [
    "%grade\n",
    "%% Compose a function rolling_std which accepts as parameters an array\n",
    "%  called `data` containing a row of time values and a row of measurements\n",
    "%  and a window size `n`.\n",
    "%\n",
    "%  The function should return the resulting array of time points and\n",
    "%  calculated rolling-window standard deviations.\n",
    "%\n",
    "function [ stds ] = rolling_std( data, n )\n",
    "    % test that the input is valid\n",
    "    assert(n > 0,         'n should be positive.');\n",
    "    assert(~mod(n,1),     'n should be an integer.');\n",
    "    assert(~(mod(n,2)-1), 'n should be odd.');\n",
    "    \n",
    "    % YOU WRITE THIS CODE\n",
    "    % It should be a straightforward modification of `rolling_mean`, using\n",
    "    % the MATLAB standard deviation function.  To find this, use the `f_x`\n",
    "    % button at the left of the prompt in the Command Window in MATLAB.\n",
    "        % get range \"stencil\"---how far forward and back to include values\n",
    "    rng = floor(n/2)  % consider using `floor` function, see image above\n",
    "    \n",
    "    % calculate the rolling mean\n",
    "    stds = zeros(size(data));\n",
    "    stds(1,:) = data(1,:);  % copy the x-values\n",
    "    for i = 1:size(data,2)  % loop over all values in the array\n",
    "        % If the stencil doesn't apply, then set the value to NaN.\n",
    "        if i < rng+1 || i > (size(data,2)-rng)\n",
    "            stds(2,i) = NaN;\n",
    "            continue;\n",
    "        end\n",
    "        \n",
    "        %Calculate the mean of the values in the appropriate range\n",
    "        stds(2,i) = std(data(2, i - rng:i + rng));\n",
    "    end\n",
    "        \n",
    "end"
   ]
  },
  {
   "cell_type": "markdown",
   "metadata": {},
   "source": [
    "If you have loaded everything correctly, this set of tests should pass:"
   ]
  },
  {
   "cell_type": "code",
   "execution_count": 35,
   "metadata": {},
   "outputs": [
    {
     "name": "stdout",
     "output_type": "stream",
     "text": [
      "rng =  3\n",
      "All Tests Passed\n"
     ]
    },
    {
     "data": {
      "image/png": "[encoded data removed]",
      "text/plain": [
       "<IPython.core.display.Image object>"
      ]
     },
     "metadata": {},
     "output_type": "display_data"
    }
   ],
   "source": [
    "% Your code should pass these tests.  Do not edit this cell.\n",
    "test_data = importdata('quakedata.txt');  % load the array\n",
    "test_stds = rolling_std(test_data, 7);    % calculate the rolling means\n",
    "test_size = size(test_stds);\n",
    "\n",
    "\n",
    "if  test_size( 1 ) ~= 2 \n",
    "    disp (\"You do not have two rows.\")\n",
    "    \n",
    "elseif  test_size( 2 ) ~= 350\n",
    "    disp (\"You do not have 350 columns.\")\n",
    "    \n",
    "elseif ~isclose(test_stds(2,100), 7.983935137385763)\n",
    "    disp (\"Your calculation is incorrect.\")\n",
    "    \n",
    "else \n",
    "    answerPass(4) = 1;\n",
    "    disp (\"All Tests Passed\")\n",
    "end\n",
    "\n",
    "plot(seis(1,:),seis(2,:),'b-',test_stds(1,:),test_stds(2,:),'r--')\n"
   ]
  },
  {
   "cell_type": "markdown",
   "metadata": {},
   "source": [
    "With `rolling_std` in tow, it should be straightforward to identify threshold events (earthquakes or smaller tremors) against a low-noise background.\n",
    "\n",
    "Examine the data to determine the first point (index) at which the standard deviation exceeds 5.0.  We will designate points like these as the *beginnings* of events.  (There's nothing magical about the value 5.0; it's just much larger than the standard deviation of the preceding run of values.)"
   ]
  },
  {
   "cell_type": "markdown",
   "metadata": {},
   "source": [
    "Let's make an attractive plot with earthquake and aftershock data clearly highlighted.  MATLAB can filter the data by value, meaning that we can select highly-variable data from a lower-variability background and plot them separately."
   ]
  },
  {
   "cell_type": "markdown",
   "metadata": {},
   "source": [
    "### <span style=\"color:#345995\">Exercise 5: Plot Data</span>\n",
    "\n",
    "-   Save the plot generated by the following code as `figure_2.png` in your working directory."
   ]
  },
  {
   "cell_type": "code",
   "execution_count": 40,
   "metadata": {},
   "outputs": [
    {
     "name": "stdout",
     "output_type": "stream",
     "text": [
      "rng =  2\n",
      "rng =  2\n"
     ]
    },
    {
     "data": {
      "image/png": "[encoded data removed]",
      "text/plain": [
       "<IPython.core.display.Image object>"
      ]
     },
     "metadata": {},
     "output_type": "display_data"
    }
   ],
   "source": [
    "rm = rolling_mean(seis, 5);\n",
    "rs = rolling_std(seis, 5);\n",
    "\n",
    "plot(seis(1,:), seis(2,:),       'b-', ...\n",
    "     rs(1,:),   rm(2,:),         'r-', ...\n",
    "     rs(1,:),   rm(2,:)-rs(2,:), 'r--', ...\n",
    "     rs(1,:),   rm(2,:)+rs(2,:), 'r--')\n",
    "\n",
    "title('Earthquake Seismogram Data')\n",
    "ylabel('Data and Rolling Mean')\n",
    "xlabel('time (s)')\n",
    "\n",
    "# Your code here\n",
    "print -dpng figure_2.png"
   ]
  },
  {
   "cell_type": "markdown",
   "metadata": {},
   "source": [
    "Finally, we can use features of seismogram data to calculate (for instance) how far away the earthquake is.  There is typically a lapse between the primary waves (P), the secondary waves (S) and the surface waves<sup>[[RochaND](http://academic.brooklyn.cuny.edu/geology/grocha/plates/platetec19.htm)]</sup>.  The time lapse between P and S tells us how far away the earthquake occurred (given certain assumptions and observations about the interior of the earth), and the combination of several seismograms from different locations tells us the magnitude and location<sup>[[RochaND](http://academic.brooklyn.cuny.edu/geology/grocha/plates/platetec20.htm)]</sup>.  That process is fairly involved, so you should simply calculate the S–P time interval from the change in rolling variance.\n",
    "\n",
    "![](./img/earthquake_data.png)\n",
    "\n",
    "At what point (in your data) does the standard deviation first exceed 5.0?  This is point P.  The next time it falls to a small value for a while and then jumps back up above 5.0 represents point S.  This lapse is the value you should use for the S–P interval."
   ]
  },
  {
   "cell_type": "markdown",
   "metadata": {},
   "source": [
    "What is the distance of the earthquake in miles?  To obtain this value, simply multiply the S–P interval in seconds by 5.7.  (This is a gross oversimplification generally, but is adequate for the current problem.<sup>[[TongND](http://www.oakton.edu/user/4/billtong/eas100lab/lab10quake.htm)]</sup>)\n",
    "\n",
    "### <span style=\"color:#345995\">Exercise 6:  Measure Distance from Gap</span>\n",
    "\n",
    "-   Compose a function `distance` which accepts as parameters an array called `data` containing a row of time values and a row of measurements (just like `seis`).  The function should return the calculated distance in miles."
   ]
  },
  {
   "cell_type": "code",
   "execution_count": 43,
   "metadata": {},
   "outputs": [],
   "source": [
    "%grade\n",
    "%% Compose a function distance which accepts as parameters an array called\n",
    "%  data containing a row of time values and a row of measurements\n",
    "%\n",
    "%  The function should return the calculated distance in miles.\n",
    "%\n",
    "function [ dist ] = distance( data )\n",
    "    \n",
    "    % calculate the rolling-window standard deviations\n",
    "    % YOU WRITE THIS CODE\n",
    "    % store the result of the five-point rolling standard deviation in\n",
    "    % the array `stds`\n",
    "    stds = rolling_std(data, 5);\n",
    "    \n",
    "    % find the point P\n",
    "    threshold_values = stds(2,:)>5;  % you should look at the form of std>5\n",
    "    P = find(threshold_values,1);\n",
    "    \n",
    "    % find the point S\n",
    "    % by visual inspection, the plot goes to zero between indexes 120 to\n",
    "    % 150, so use 150 as the starting point to search forward for S\n",
    "    S = find(threshold_values(150:end),1) + 149;\n",
    "    \n",
    "    % calculate the difference between P and S (in seconds)\n",
    "    % YOU WRITE THIS CODE\n",
    "    diff = S - P\n",
    "    % calculate the distance using the formula\n",
    "    % YOU WRITE THIS CODE\n",
    "    dist = 5.7 * diff\n",
    "end"
   ]
  },
  {
   "cell_type": "markdown",
   "metadata": {},
   "source": [
    "If you have loaded everything correctly, this set of tests should pass:"
   ]
  },
  {
   "cell_type": "code",
   "execution_count": 44,
   "metadata": {},
   "outputs": [
    {
     "name": "stdout",
     "output_type": "stream",
     "text": [
      "rng =  2\n",
      "diff =  105\n",
      "dist =  598.50\n",
      "test_dist =  598.50\n",
      "All tests passed successfully.\n"
     ]
    }
   ],
   "source": [
    "% Your code should pass these tests.  Do not edit this cell.\n",
    "test_data = importdata('quakedata.txt');  % load the array\n",
    "test_dist = distance(test_data)\n",
    "assert(isclose(test_dist, 598.5), 'Your calculation is incorrect.')\n",
    "disp('All tests passed successfully.')"
   ]
  },
  {
   "cell_type": "markdown",
   "metadata": {},
   "source": [
    "###  Making Your Own Earthquake (Data)"
   ]
  },
  {
   "cell_type": "markdown",
   "metadata": {},
   "source": [
    "Let's compose a function to generate a data set like that above.  While not as exciting as a real earthquake, it's a lot cleaner of a data set to work with.\n",
    "\n",
    "We will use a random number generator to generate a list of numbers with a specific standard deviation.  Given a number of times and a standard deviation, we want to create a list of random \"measurements\" which represent the earth's motion during that time.\n",
    "\n",
    "We'll make the function more general than this though:  it will accept a list of time lengths and a list of corresponding standard deviations.  This way we can make longer time series of measurements like that used as `seis`."
   ]
  },
  {
   "cell_type": "markdown",
   "metadata": {},
   "source": [
    "### <span style=\"color:#345995\">Exercise 7:  Generate Spoofed Data</span>\n",
    "\n",
    "-   Compose a function `quake` which accepts as parameters a list of time lengths `spans` and a list of corresponding standard deviations `stds`.  The function should return an array of random earthquake data as a row of time points and a row of generated measurements.  (Details are included in the following cell.) Please save the file as `figure_3.png` (See directions in the cell below this one to save the plot). "
   ]
  },
  {
   "cell_type": "code",
   "execution_count": 49,
   "metadata": {},
   "outputs": [],
   "source": [
    "%grade\n",
    "%% Compose a function `quake` which accepts as parameters a list of time\n",
    "%  lengths `spans` and a list of corresponding standard deviations `stds`.\n",
    "%\n",
    "%  The function should return an array of random earthquake data as a row\n",
    "%  of time points and a row of generated measurements.\n",
    "%\n",
    "function [ data ] = quake( spans, stds )\n",
    "    % expand spans and stds into an array of standard deviations\n",
    "    stdev = [];\n",
    "    for i = 1:size(spans,2)\n",
    "        new_array = ones(1,spans(i)) * stds(i);\n",
    "        stdev = cat(2, stdev, new_array);\n",
    "    end\n",
    "    \n",
    "    % generate random data by specified standard deviations\n",
    "    data = zeros(2, sum(spans));\n",
    "\n",
    "    % set the first row to the range, [1 2 3 ... sum(spans)] using MATLAB\n",
    "    data(1,:) = 1:sum(spans); %YOU WRITE THIS CODE\n",
    "    for j = 1:size(data,2)\n",
    "        data(2,j) = stdev(j) * randn();\n",
    "    end\n",
    "end"
   ]
  },
  {
   "cell_type": "markdown",
   "metadata": {},
   "source": [
    "If you have loaded everything correctly, this set of tests should pass:"
   ]
  },
  {
   "cell_type": "code",
   "execution_count": 51,
   "metadata": {},
   "outputs": [
    {
     "data": {
      "image/png": "[encoded data removed]",
      "text/plain": [
       "<IPython.core.display.Image object>"
      ]
     },
     "metadata": {},
     "output_type": "display_data"
    }
   ],
   "source": [
    "% Your code should pass these tests.  Edit this cell to save the plot as figure_3.png\n",
    "spans = [60 20 40 45 20 10 40 25 10 10 10 60];\n",
    "stds  = [ 1 20 10  1 15  5  1 60 20 10  1  1];\n",
    "quakedata = quake(spans,stds);\n",
    "\n",
    "% the sum of spans should equal the final length\n",
    "assert(size(quakedata,2) == sum(spans),      'Your data set is the wrong size.');\n",
    "test_max = max(quakedata,[],2);\n",
    "%assert(test_max(2) < sum(quakedata(2,:)), 'Something appears to be wrong with your data.');\n",
    "\n",
    "plot(quakedata(1,:), quakedata(2,:), 'b-');\n",
    "\n",
    "#YOUR CODE HERE to save the plot as figure)3.png\n",
    "print -dpng figure_3.png\n",
    "\n"
   ]
  },
  {
   "cell_type": "markdown",
   "metadata": {},
   "source": [
    "### Lab Submission (Important please read!)"
   ]
  },
  {
   "cell_type": "markdown",
   "metadata": {},
   "source": [
    "### <span style=\"color:#345995\">Submit Your Lab</span>\n",
    "\n",
    "-   To complete this lab, you should save your files to the working directory using the print commands.  We expect to see the following files, along with your code in this notebook:\n",
    "\n",
    "    -   `figure_1.png`\n",
    "    -   `figure_2.png`\n",
    "    -   `figure_3.png`\n",
    "    \n",
    "    Once that is done, you may `Submit` the lab. Make sure to ask a TA/CA to take a look at your figures and check you off manually"
   ]
  }
 ],
 "metadata": {
  "anaconda-cloud": {},
  "kernelspec": {
   "display_name": "Octave",
   "language": "octave",
   "name": "octave"
  },
  "language_info": {
   "file_extension": ".m",
   "help_links": [
    {
     "text": "GNU Octave",
     "url": "https://www.gnu.org/software/octave/support.html"
    },
    {
     "text": "Octave Kernel",
     "url": "https://github.com/Calysto/octave_kernel"
    },
    {
     "text": "MetaKernel Magics",
     "url": "https://metakernel.readthedocs.io/en/latest/source/README.html"
    }
   ],
   "mimetype": "text/x-octave",
   "name": "octave",
   "version": "5.2.0"
  },
  "varInspector": {
   "cols": {
    "lenName": 16,
    "lenType": 16,
    "lenVar": 40
   },
   "kernels_config": {
    "python": {
     "delete_cmd_postfix": "",
     "delete_cmd_prefix": "del ",
     "library": "var_list.py",
     "varRefreshCmd": "print(var_dic_list())"
    },
    "r": {
     "delete_cmd_postfix": ") ",
     "delete_cmd_prefix": "rm(",
     "library": "var_list.r",
     "varRefreshCmd": "cat(var_dic_list()) "
    }
   },
   "types_to_exclude": [
    "module",
    "function",
    "builtin_function_or_method",
    "instance",
    "_Feature"
   ],
   "window_display": false
  }
 },
 "nbformat": 4,
 "nbformat_minor": 4
}
